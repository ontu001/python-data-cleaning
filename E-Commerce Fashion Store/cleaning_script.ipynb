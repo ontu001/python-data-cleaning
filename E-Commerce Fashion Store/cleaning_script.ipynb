{
 "cells": [
  {
   "cell_type": "code",
   "execution_count": 1,
   "id": "f798b855",
   "metadata": {},
   "outputs": [],
   "source": [
    "import pandas as pd"
   ]
  },
  {
   "cell_type": "code",
   "execution_count": 2,
   "id": "21d6298b",
   "metadata": {},
   "outputs": [],
   "source": [
    "df = pd.read_csv(\"FashionDataset.csv\")"
   ]
  },
  {
   "cell_type": "code",
   "execution_count": 3,
   "id": "9f9beb01",
   "metadata": {},
   "outputs": [
    {
     "data": {
      "application/vnd.microsoft.datawrangler.viewer.v0+json": {
       "columns": [
        {
         "name": "index",
         "rawType": "int64",
         "type": "integer"
        },
        {
         "name": "Unnamed: 0",
         "rawType": "int64",
         "type": "integer"
        },
        {
         "name": "BrandName",
         "rawType": "object",
         "type": "string"
        },
        {
         "name": "Deatils",
         "rawType": "object",
         "type": "string"
        },
        {
         "name": "Sizes",
         "rawType": "object",
         "type": "string"
        },
        {
         "name": "MRP",
         "rawType": "object",
         "type": "string"
        },
        {
         "name": "SellPrice",
         "rawType": "object",
         "type": "string"
        },
        {
         "name": "Discount",
         "rawType": "object",
         "type": "string"
        },
        {
         "name": "Category",
         "rawType": "object",
         "type": "string"
        }
       ],
       "ref": "28a4b79d-0bd1-4f66-a64d-d78852acebd1",
       "rows": [
        [
         "0",
         "0",
         "life",
         "solid cotton blend collar neck womens a-line dress - indigo",
         "Size:Large,Medium,Small,X-Large,X-Small",
         "Rs\n1699",
         "849",
         "50% off",
         "Westernwear-Women"
        ],
        [
         "1",
         "1",
         "only",
         "polyester peter pan collar womens blouson dress - yellow",
         "Size:34,36,38,40",
         "Rs\n3499",
         "2449",
         "30% off",
         "Westernwear-Women"
        ],
        [
         "2",
         "2",
         "fratini",
         "solid polyester blend wide neck womens regular top - off white",
         "Size:Large,X-Large,XX-Large",
         "Rs\n1199",
         "599",
         "50% off",
         "Westernwear-Women"
        ],
        [
         "3",
         "3",
         "zink london",
         "stripes polyester sweetheart neck womens dress - black",
         "Size:Large,Medium,Small,X-Large",
         "Rs\n2299",
         "1379",
         "40% off",
         "Westernwear-Women"
        ],
        [
         "4",
         "4",
         "life",
         "regular fit regular length denim womens jeans - stone",
         "Size:26,28,30,32,34,36",
         "Rs\n1699",
         "849",
         "50% off",
         "Westernwear-Women"
        ],
        [
         "5",
         "5",
         "kraus",
         "wide ankle length cotton womens jeans - light blue",
         "Size:26,28,30,32,34",
         "Rs\n1795",
         "1615",
         "10% off",
         "Westernwear-Women"
        ],
        [
         "6",
         "6",
         "life",
         "printed cotton blend collared womens regular dress - white",
         "Size:Large,Medium,Small,X-Large,X-Small",
         "Rs\n1299",
         "649",
         "50% off",
         "Westernwear-Women"
        ],
        [
         "7",
         "7",
         "fratini",
         "embroidered wide neck polyester womens regular top - blush",
         "Size:XX-Large",
         "Rs\n1299",
         "649",
         "50% off",
         "Westernwear-Women"
        ],
        [
         "8",
         "8",
         "rare",
         "floral polyester v neck womens flared dress - navy",
         "Size:Large,Medium,Small,X-Large",
         "Rs\n2099",
         "839",
         "60% off",
         "Westernwear-Women"
        ],
        [
         "9",
         "9",
         "rare",
         "checks cotton boat neck womens regular top - black",
         "Size:Medium,Small,X-Large",
         "Rs\n1499",
         "599",
         "60% off",
         "Westernwear-Women"
        ],
        [
         "10",
         "10",
         "life",
         "solid square neck cotton womens regular dress - pink",
         "Size:Large,Medium,Small,X-Large,X-Small",
         "Rs\n1499",
         "749",
         "50% off",
         "Westernwear-Women"
        ],
        [
         "11",
         "11",
         "life",
         "regular fit regular length denim womens jeans - indigo",
         "Size:26,28,30,32,34,36",
         "Rs\n999",
         "499",
         "50% off",
         "Westernwear-Women"
        ],
        [
         "12",
         "12",
         "life",
         "printed blended round neck womens shift dress - orange",
         "Size:Large,Medium,Small,X-Large,X-Small",
         "Rs\n1499",
         "749",
         "50% off",
         "Westernwear-Women"
        ],
        [
         "13",
         "13",
         "life",
         "printed jersey round neck womens t-shirt - black",
         "Size:Large,Medium,Small,X-Large,X-Small",
         "Rs\n599",
         "299",
         "50% off",
         "Westernwear-Women"
        ],
        [
         "14",
         "14",
         "life",
         "printed crepe square neck womens top - blue",
         "Size:Large,Medium,Small,X-Large,X-Small",
         "Rs\n999",
         "499",
         "50% off",
         "Westernwear-Women"
        ],
        [
         "15",
         "15",
         "life",
         "solid cotton collar neck womens shirt - pink",
         "Size:Large,Medium,Small,X-Large,X-Small",
         "Rs\n1199",
         "599",
         "50% off",
         "Westernwear-Women"
        ],
        [
         "16",
         "16",
         "life",
         "solid cotton lycra round neck womens t-shirt - white",
         "Size:Large,Medium,Small,X-Small",
         "Rs\n599",
         "299",
         "50% off",
         "Westernwear-Women"
        ],
        [
         "17",
         "17",
         "life",
         "printed cotton collar neck womens shirt - white",
         "Size:Large,Medium,Small,X-Large,X-Small",
         "Rs\n1299",
         "649",
         "50% off",
         "Westernwear-Women"
        ],
        [
         "18",
         "18",
         "van heusen",
         "solid cotton v neck womens formal shirt - maroon",
         "Size:Large,Small,X-Small",
         "Rs\n1999",
         "799",
         "60% off",
         "Westernwear-Women"
        ],
        [
         "19",
         "19",
         "life",
         "regular fit regular length denim womens jeans - mid stone",
         "Size:26,28,30,32,34,36",
         "Rs\n1999",
         "999",
         "50% off",
         "Westernwear-Women"
        ],
        [
         "20",
         "20",
         "fratini",
         "solid round neck viscose womens regular dress - olive",
         "Size:Large,Medium,Small,X-Large,XX-Large",
         "Rs\n1499",
         "749",
         "50% off",
         "Westernwear-Women"
        ],
        [
         "21",
         "21",
         "life",
         "solid wide neck viscose womens regular top - blue",
         "Size:Large,Medium,Small,X-Large,X-Small",
         "Rs\n1299",
         "649",
         "50% off",
         "Westernwear-Women"
        ],
        [
         "22",
         "22",
         "Nan",
         "Nan",
         "Nan",
         "Nan",
         "Nan",
         "Nan",
         "Westernwear-Women"
        ],
        [
         "23",
         "23",
         "stop",
         "printed regular neck cotton womens formal shirt - ecru",
         "Size:Large,Medium,Small,X-Large,XX-Large",
         "Rs\n799",
         "399",
         "50% off",
         "Westernwear-Women"
        ],
        [
         "24",
         "24",
         "life",
         "regular fit regular length denim womens jeans - mid stone",
         "Size:26,28,30,32,34,36",
         "Rs\n1999",
         "999",
         "50% off",
         "Westernwear-Women"
        ],
        [
         "25",
         "25",
         "zink london",
         "floral viscose sweetheart neck womens dress - green",
         "Size:Medium,Small,X-Small,XX-Large",
         "Rs\n2799",
         "1679",
         "40% off",
         "Westernwear-Women"
        ],
        [
         "26",
         "0",
         "life",
         "printed viscose v neck womens regular woven top - off white",
         "Size:Large,Medium,Small,X-Large,X-Small",
         "Rs\n1199",
         "599",
         "50% off",
         "Westernwear-Women"
        ],
        [
         "27",
         "1",
         "life",
         "printed cotton blend v neck womens top - pink",
         "Size:Large,Medium,Small,X-Large,X-Small",
         "Rs\n999",
         "499",
         "50% off",
         "Westernwear-Women"
        ],
        [
         "28",
         "2",
         "zink z",
         "solid cotton blend v neck womens top - maroon",
         "Size:Large,Medium,Small,X-Large,X-Small",
         "Nan",
         "1299",
         "Nan",
         "Westernwear-Women"
        ],
        [
         "29",
         "3",
         "stop",
         "printed regular neck cotton womens formal shirt - black",
         "Size:Large,Medium,Small,X-Large,XX-Large",
         "Rs\n899",
         "449",
         "50% off",
         "Westernwear-Women"
        ],
        [
         "30",
         "4",
         "life",
         "printed cotton blend round neck womens t-shirt - white",
         "Size:Large,Medium,Small,X-Large,X-Small",
         "Rs\n999",
         "499",
         "50% off",
         "Westernwear-Women"
        ],
        [
         "31",
         "5",
         "life",
         "embroidered viscose square neck womens regular top - white",
         "Size:Large,Medium,Small,X-Large,X-Small",
         "Rs\n1199",
         "599",
         "50% off",
         "Westernwear-Women"
        ],
        [
         "32",
         "6",
         "life",
         "regular fit regular length denim womens jeans - indigo",
         "Size:26,28,30,32,34,36,Medium",
         "Rs\n1699",
         "849",
         "50% off",
         "Westernwear-Women"
        ],
        [
         "33",
         "7",
         "life",
         "printed cotton lycra round neck womens t-shirt - pink mix",
         "Size:Large,Medium,Small,X-Large,X-Small",
         "Rs\n699",
         "349",
         "50% off",
         "Westernwear-Women"
        ],
        [
         "34",
         "8",
         "cover story",
         "solid round neck cotton womens regular dress - dark brown",
         "Size:Large,Medium,Small,X-Large,X-Small",
         "Rs\n2890",
         "1445",
         "50% off",
         "Westernwear-Women"
        ],
        [
         "35",
         "9",
         "infuse",
         "printed square neck rayon womens dress - pink",
         "Size:Large,Medium,Small,X-Large,X-Small",
         "Rs\n1999",
         "999",
         "50% off",
         "Westernwear-Women"
        ],
        [
         "36",
         "10",
         "fratini",
         "printed polyester blend round neck womens a-line dress - white",
         "Size:Large,Medium,Small,X-Large,XX-Large",
         "Nan",
         "1799",
         "Nan",
         "Westernwear-Women"
        ],
        [
         "37",
         "11",
         "allen solly",
         "solid rayon regular fit womens trousers - black",
         "Size:26,28,30,32,34,36",
         "Rs\n1299",
         "1039",
         "20% off",
         "Westernwear-Women"
        ],
        [
         "38",
         "12",
         "infuse",
         "regular fit regular length cotton womens loungewear short set - pink",
         "Size:Large,Medium,Small,X-Small",
         "Rs\n899",
         "359",
         "60% off",
         "Westernwear-Women"
        ],
        [
         "39",
         "13",
         "van heusen",
         "solid polyester collar neck womens shirt - black",
         "Size:Large,Medium,Small,X-Large,X-Small",
         "Rs\n1699",
         "999",
         "41% off",
         "Westernwear-Women"
        ],
        [
         "40",
         "14",
         "life",
         "solid viscose round neck womens regular top - sage",
         "Size:Large,Medium,Small,X-Large,X-Small",
         "Rs\n999",
         "499",
         "50% off",
         "Westernwear-Women"
        ],
        [
         "41",
         "15",
         "cover story",
         "printed polyester round neck womens dress - black",
         "Size:Medium,Small,X-Large,X-Small",
         "Rs\n4490",
         "3143",
         "30% off",
         "Westernwear-Women"
        ],
        [
         "42",
         "16",
         "life",
         "printed collar neck polyester womens regular top - navy",
         "Size:Large,Medium,Small,X-Large,X-Small",
         "Rs\n999",
         "499",
         "50% off",
         "Westernwear-Women"
        ],
        [
         "43",
         "17",
         "zink london",
         "lace polyester round neck womens dress - green",
         "Size:Large,Medium,Small,X-Large",
         "Rs\n3299",
         "1979",
         "40% off",
         "Westernwear-Women"
        ],
        [
         "44",
         "18",
         "stop",
         "solid viscose v-neck womens regular top - mustard",
         "Size:Large,Medium,Small,XX-Large",
         "Rs\n999",
         "499",
         "50% off",
         "Westernwear-Women"
        ],
        [
         "45",
         "19",
         "fratini",
         "printed v-neck polyester womens regular dress - natural",
         "Size:Large,Medium,Small,X-Large,XX-Large",
         "Rs\n1899",
         "949",
         "50% off",
         "Westernwear-Women"
        ],
        [
         "46",
         "20",
         "rare",
         "floral polyester off shoulder womens flared dress - black",
         "Size:Large,Medium,Small,X-Large",
         "Rs\n1899",
         "854",
         "55% off",
         "Westernwear-Women"
        ],
        [
         "47",
         "21",
         "life",
         "printed viscose wide neck womens regular dress - pink",
         "Size:Large,Medium,Small,X-Large,X-Small",
         "Rs\n1299",
         "649",
         "50% off",
         "Westernwear-Women"
        ],
        [
         "48",
         "22",
         "Nan",
         "Nan",
         "Nan",
         "Nan",
         "Nan",
         "Nan",
         "Westernwear-Women"
        ],
        [
         "49",
         "23",
         "altlife",
         "printed skinny fit cotton blend womens active wear track pants - grey",
         "Size:28,30,32,34,36",
         "Rs\n999",
         "499",
         "50% off",
         "Westernwear-Women"
        ]
       ],
       "shape": {
        "columns": 8,
        "rows": 30758
       }
      },
      "text/html": [
       "<div>\n",
       "<style scoped>\n",
       "    .dataframe tbody tr th:only-of-type {\n",
       "        vertical-align: middle;\n",
       "    }\n",
       "\n",
       "    .dataframe tbody tr th {\n",
       "        vertical-align: top;\n",
       "    }\n",
       "\n",
       "    .dataframe thead th {\n",
       "        text-align: right;\n",
       "    }\n",
       "</style>\n",
       "<table border=\"1\" class=\"dataframe\">\n",
       "  <thead>\n",
       "    <tr style=\"text-align: right;\">\n",
       "      <th></th>\n",
       "      <th>Unnamed: 0</th>\n",
       "      <th>BrandName</th>\n",
       "      <th>Deatils</th>\n",
       "      <th>Sizes</th>\n",
       "      <th>MRP</th>\n",
       "      <th>SellPrice</th>\n",
       "      <th>Discount</th>\n",
       "      <th>Category</th>\n",
       "    </tr>\n",
       "  </thead>\n",
       "  <tbody>\n",
       "    <tr>\n",
       "      <th>0</th>\n",
       "      <td>0</td>\n",
       "      <td>life</td>\n",
       "      <td>solid cotton blend collar neck womens a-line d...</td>\n",
       "      <td>Size:Large,Medium,Small,X-Large,X-Small</td>\n",
       "      <td>Rs\\n1699</td>\n",
       "      <td>849</td>\n",
       "      <td>50% off</td>\n",
       "      <td>Westernwear-Women</td>\n",
       "    </tr>\n",
       "    <tr>\n",
       "      <th>1</th>\n",
       "      <td>1</td>\n",
       "      <td>only</td>\n",
       "      <td>polyester peter pan collar womens blouson dres...</td>\n",
       "      <td>Size:34,36,38,40</td>\n",
       "      <td>Rs\\n3499</td>\n",
       "      <td>2449</td>\n",
       "      <td>30% off</td>\n",
       "      <td>Westernwear-Women</td>\n",
       "    </tr>\n",
       "    <tr>\n",
       "      <th>2</th>\n",
       "      <td>2</td>\n",
       "      <td>fratini</td>\n",
       "      <td>solid polyester blend wide neck womens regular...</td>\n",
       "      <td>Size:Large,X-Large,XX-Large</td>\n",
       "      <td>Rs\\n1199</td>\n",
       "      <td>599</td>\n",
       "      <td>50% off</td>\n",
       "      <td>Westernwear-Women</td>\n",
       "    </tr>\n",
       "    <tr>\n",
       "      <th>3</th>\n",
       "      <td>3</td>\n",
       "      <td>zink london</td>\n",
       "      <td>stripes polyester sweetheart neck womens dress...</td>\n",
       "      <td>Size:Large,Medium,Small,X-Large</td>\n",
       "      <td>Rs\\n2299</td>\n",
       "      <td>1379</td>\n",
       "      <td>40% off</td>\n",
       "      <td>Westernwear-Women</td>\n",
       "    </tr>\n",
       "    <tr>\n",
       "      <th>4</th>\n",
       "      <td>4</td>\n",
       "      <td>life</td>\n",
       "      <td>regular fit regular length denim womens jeans ...</td>\n",
       "      <td>Size:26,28,30,32,34,36</td>\n",
       "      <td>Rs\\n1699</td>\n",
       "      <td>849</td>\n",
       "      <td>50% off</td>\n",
       "      <td>Westernwear-Women</td>\n",
       "    </tr>\n",
       "    <tr>\n",
       "      <th>...</th>\n",
       "      <td>...</td>\n",
       "      <td>...</td>\n",
       "      <td>...</td>\n",
       "      <td>...</td>\n",
       "      <td>...</td>\n",
       "      <td>...</td>\n",
       "      <td>...</td>\n",
       "      <td>...</td>\n",
       "    </tr>\n",
       "    <tr>\n",
       "      <th>30753</th>\n",
       "      <td>21</td>\n",
       "      <td>swarovski</td>\n",
       "      <td>crystal stylish womens rodhium earrings</td>\n",
       "      <td>Nan</td>\n",
       "      <td>Nan</td>\n",
       "      <td>8950</td>\n",
       "      <td>Nan</td>\n",
       "      <td>Jewellery-Women</td>\n",
       "    </tr>\n",
       "    <tr>\n",
       "      <th>30754</th>\n",
       "      <td>22</td>\n",
       "      <td>Nan</td>\n",
       "      <td>Nan</td>\n",
       "      <td>Nan</td>\n",
       "      <td>Nan</td>\n",
       "      <td>Nan</td>\n",
       "      <td>Nan</td>\n",
       "      <td>Jewellery-Women</td>\n",
       "    </tr>\n",
       "    <tr>\n",
       "      <th>30755</th>\n",
       "      <td>23</td>\n",
       "      <td>jewelz</td>\n",
       "      <td>ethnic gold plated jhumki earrings</td>\n",
       "      <td>Nan</td>\n",
       "      <td>Rs\\n1839</td>\n",
       "      <td>643</td>\n",
       "      <td>65% off</td>\n",
       "      <td>Jewellery-Women</td>\n",
       "    </tr>\n",
       "    <tr>\n",
       "      <th>30756</th>\n",
       "      <td>24</td>\n",
       "      <td>estelle</td>\n",
       "      <td>womens gold plated double line fancy white and...</td>\n",
       "      <td>Nan</td>\n",
       "      <td>Nan</td>\n",
       "      <td>2799</td>\n",
       "      <td>Nan</td>\n",
       "      <td>Jewellery-Women</td>\n",
       "    </tr>\n",
       "    <tr>\n",
       "      <th>30757</th>\n",
       "      <td>25</td>\n",
       "      <td>estelle</td>\n",
       "      <td>womens gold plated bridge designer mangalsutra...</td>\n",
       "      <td>Nan</td>\n",
       "      <td>Nan</td>\n",
       "      <td>1899</td>\n",
       "      <td>Nan</td>\n",
       "      <td>Jewellery-Women</td>\n",
       "    </tr>\n",
       "  </tbody>\n",
       "</table>\n",
       "<p>30758 rows × 8 columns</p>\n",
       "</div>"
      ],
      "text/plain": [
       "       Unnamed: 0    BrandName  \\\n",
       "0               0         life   \n",
       "1               1         only   \n",
       "2               2      fratini   \n",
       "3               3  zink london   \n",
       "4               4         life   \n",
       "...           ...          ...   \n",
       "30753          21    swarovski   \n",
       "30754          22          Nan   \n",
       "30755          23       jewelz   \n",
       "30756          24      estelle   \n",
       "30757          25      estelle   \n",
       "\n",
       "                                                 Deatils  \\\n",
       "0      solid cotton blend collar neck womens a-line d...   \n",
       "1      polyester peter pan collar womens blouson dres...   \n",
       "2      solid polyester blend wide neck womens regular...   \n",
       "3      stripes polyester sweetheart neck womens dress...   \n",
       "4      regular fit regular length denim womens jeans ...   \n",
       "...                                                  ...   \n",
       "30753            crystal stylish womens rodhium earrings   \n",
       "30754                                                Nan   \n",
       "30755                 ethnic gold plated jhumki earrings   \n",
       "30756  womens gold plated double line fancy white and...   \n",
       "30757  womens gold plated bridge designer mangalsutra...   \n",
       "\n",
       "                                         Sizes       MRP SellPrice Discount  \\\n",
       "0      Size:Large,Medium,Small,X-Large,X-Small  Rs\\n1699       849  50% off   \n",
       "1                             Size:34,36,38,40  Rs\\n3499      2449  30% off   \n",
       "2                  Size:Large,X-Large,XX-Large  Rs\\n1199       599  50% off   \n",
       "3              Size:Large,Medium,Small,X-Large  Rs\\n2299      1379  40% off   \n",
       "4                       Size:26,28,30,32,34,36  Rs\\n1699       849  50% off   \n",
       "...                                        ...       ...       ...      ...   \n",
       "30753                                      Nan       Nan      8950      Nan   \n",
       "30754                                      Nan       Nan       Nan      Nan   \n",
       "30755                                      Nan  Rs\\n1839       643  65% off   \n",
       "30756                                      Nan       Nan      2799      Nan   \n",
       "30757                                      Nan       Nan      1899      Nan   \n",
       "\n",
       "                Category  \n",
       "0      Westernwear-Women  \n",
       "1      Westernwear-Women  \n",
       "2      Westernwear-Women  \n",
       "3      Westernwear-Women  \n",
       "4      Westernwear-Women  \n",
       "...                  ...  \n",
       "30753    Jewellery-Women  \n",
       "30754    Jewellery-Women  \n",
       "30755    Jewellery-Women  \n",
       "30756    Jewellery-Women  \n",
       "30757    Jewellery-Women  \n",
       "\n",
       "[30758 rows x 8 columns]"
      ]
     },
     "execution_count": 3,
     "metadata": {},
     "output_type": "execute_result"
    }
   ],
   "source": [
    "df"
   ]
  },
  {
   "cell_type": "code",
   "execution_count": 4,
   "id": "fd9367ef",
   "metadata": {},
   "outputs": [
    {
     "data": {
      "text/plain": [
       "(30758, 8)"
      ]
     },
     "execution_count": 4,
     "metadata": {},
     "output_type": "execute_result"
    }
   ],
   "source": [
    "df.shape"
   ]
  },
  {
   "cell_type": "code",
   "execution_count": 6,
   "id": "9f360d41",
   "metadata": {},
   "outputs": [
    {
     "name": "stdout",
     "output_type": "stream",
     "text": [
      "<class 'pandas.core.frame.DataFrame'>\n",
      "RangeIndex: 30758 entries, 0 to 30757\n",
      "Data columns (total 8 columns):\n",
      " #   Column      Non-Null Count  Dtype \n",
      "---  ------      --------------  ----- \n",
      " 0   Unnamed: 0  30758 non-null  int64 \n",
      " 1   BrandName   30758 non-null  object\n",
      " 2   Deatils     30758 non-null  object\n",
      " 3   Sizes       30758 non-null  object\n",
      " 4   MRP         30758 non-null  object\n",
      " 5   SellPrice   30758 non-null  object\n",
      " 6   Discount    30758 non-null  object\n",
      " 7   Category    30758 non-null  object\n",
      "dtypes: int64(1), object(7)\n",
      "memory usage: 1.9+ MB\n"
     ]
    }
   ],
   "source": [
    "df.info()"
   ]
  },
  {
   "cell_type": "code",
   "execution_count": 14,
   "id": "5e79f1f6",
   "metadata": {},
   "outputs": [
    {
     "data": {
      "text/plain": [
       "Index(['BrandName', 'Details', 'Sizes', 'MRP', 'SellPrice', 'Discount',\n",
       "       'Category'],\n",
       "      dtype='object')"
      ]
     },
     "execution_count": 14,
     "metadata": {},
     "output_type": "execute_result"
    }
   ],
   "source": [
    "df.columns"
   ]
  },
  {
   "cell_type": "markdown",
   "id": "1b1b80a9",
   "metadata": {},
   "source": [
    "Deleting redundant columns."
   ]
  },
  {
   "cell_type": "code",
   "execution_count": 10,
   "id": "8c3387b5",
   "metadata": {},
   "outputs": [],
   "source": [
    "df.drop(columns= \"Unnamed: 0\" , inplace= True)"
   ]
  },
  {
   "cell_type": "markdown",
   "id": "bfbf189e",
   "metadata": {},
   "source": [
    "Renaming the columns."
   ]
  },
  {
   "cell_type": "code",
   "execution_count": 13,
   "id": "e69209ad",
   "metadata": {},
   "outputs": [],
   "source": [
    "df.rename(columns= {\"Deatils\": \"Details\"}, inplace= True)"
   ]
  },
  {
   "cell_type": "markdown",
   "id": "11342560",
   "metadata": {},
   "source": [
    "Dropping duplicates."
   ]
  },
  {
   "cell_type": "code",
   "execution_count": 19,
   "id": "bf3d3131",
   "metadata": {},
   "outputs": [
    {
     "data": {
      "text/plain": [
       "<Axes: >"
      ]
     },
     "execution_count": 19,
     "metadata": {},
     "output_type": "execute_result"
    },
    {
     "data": {
      "image/png": "[encoded data removed]",
      "text/plain": [
       "<Figure size 640x480 with 1 Axes>"
      ]
     },
     "metadata": {},
     "output_type": "display_data"
    }
   ],
   "source": [
    "df.duplicated().value_counts().plot(kind= \"bar\")"
   ]
  },
  {
   "cell_type": "code",
   "execution_count": 17,
   "id": "d73a29ec",
   "metadata": {},
   "outputs": [],
   "source": [
    "df.drop_duplicates(inplace= True)"
   ]
  },
  {
   "cell_type": "code",
   "execution_count": 24,
   "id": "a77740a1",
   "metadata": {},
   "outputs": [],
   "source": [
    "#Fix index value after dropping the duplicates\n",
    "df.reset_index().drop(columns= \"index\", inplace= True)"
   ]
  },
  {
   "cell_type": "markdown",
   "id": "7c71249f",
   "metadata": {},
   "source": [
    "Remove the NaN values from the dataset"
   ]
  },
  {
   "cell_type": "code",
   "execution_count": 26,
   "id": "ee4d6fcd",
   "metadata": {},
   "outputs": [
    {
     "data": {
      "application/vnd.microsoft.datawrangler.viewer.v0+json": {
       "columns": [
        {
         "name": "index",
         "rawType": "object",
         "type": "string"
        },
        {
         "name": "0",
         "rawType": "int64",
         "type": "integer"
        }
       ],
       "ref": "6681fc2a-df10-43f3-b3af-25d2cdf4f0b1",
       "rows": [
        [
         "BrandName",
         "0"
        ],
        [
         "Details",
         "0"
        ],
        [
         "Sizes",
         "0"
        ],
        [
         "MRP",
         "0"
        ],
        [
         "SellPrice",
         "0"
        ],
        [
         "Discount",
         "0"
        ],
        [
         "Category",
         "0"
        ]
       ],
       "shape": {
        "columns": 1,
        "rows": 7
       }
      },
      "text/plain": [
       "BrandName    0\n",
       "Details      0\n",
       "Sizes        0\n",
       "MRP          0\n",
       "SellPrice    0\n",
       "Discount     0\n",
       "Category     0\n",
       "dtype: int64"
      ]
     },
     "execution_count": 26,
     "metadata": {},
     "output_type": "execute_result"
    }
   ],
   "source": [
    "df.isna().sum()"
   ]
  },
  {
   "cell_type": "code",
   "execution_count": 27,
   "id": "d18ce0e3",
   "metadata": {},
   "outputs": [],
   "source": [
    "df.dropna(inplace= True)"
   ]
  },
  {
   "cell_type": "markdown",
   "id": "700eb933",
   "metadata": {},
   "source": [
    "Capitalize Each Brand Name and Details Column"
   ]
  },
  {
   "cell_type": "code",
   "execution_count": 30,
   "id": "fbae29ab",
   "metadata": {},
   "outputs": [],
   "source": [
    "df[\"BrandName\"] = df[\"BrandName\"].apply(lambda x : x.capitalize())"
   ]
  },
  {
   "cell_type": "code",
   "execution_count": 32,
   "id": "ca8386c5",
   "metadata": {},
   "outputs": [],
   "source": [
    "df[\"Details\"] = df[\"Details\"].apply(lambda x : x.capitalize())"
   ]
  },
  {
   "cell_type": "code",
   "execution_count": 37,
   "id": "d4ecb023",
   "metadata": {},
   "outputs": [
    {
     "data": {
      "application/vnd.microsoft.datawrangler.viewer.v0+json": {
       "columns": [
        {
         "name": "index",
         "rawType": "int64",
         "type": "integer"
        },
        {
         "name": "Sizes",
         "rawType": "object",
         "type": "string"
        }
       ],
       "ref": "0429c7d7-aee7-4e2e-bb07-4b73c387df06",
       "rows": [
        [
         "30752",
         "NA VALUED"
        ],
        [
         "30753",
         "NA VALUED"
        ],
        [
         "30755",
         "NA VALUED"
        ],
        [
         "30756",
         "NA VALUED"
        ],
        [
         "30757",
         "NA VALUED"
        ]
       ],
       "shape": {
        "columns": 1,
        "rows": 5
       }
      },
      "text/plain": [
       "30752    NA VALUED\n",
       "30753    NA VALUED\n",
       "30755    NA VALUED\n",
       "30756    NA VALUED\n",
       "30757    NA VALUED\n",
       "Name: Sizes, dtype: object"
      ]
     },
     "execution_count": 37,
     "metadata": {},
     "output_type": "execute_result"
    }
   ],
   "source": [
    "df[\"Sizes\"].tail()"
   ]
  },
  {
   "cell_type": "code",
   "execution_count": 36,
   "id": "ba9ed705",
   "metadata": {},
   "outputs": [],
   "source": [
    "df[\"Sizes\"] = df[\"Sizes\"].replace(\"Nan\", \"NA VALUED\")"
   ]
  },
  {
   "cell_type": "code",
   "execution_count": 40,
   "id": "3349d2cf",
   "metadata": {},
   "outputs": [],
   "source": [
    "df = df[df[\"Sizes\"] != \"NA VALUED\"]"
   ]
  },
  {
   "cell_type": "code",
   "execution_count": 41,
   "id": "590a2455",
   "metadata": {},
   "outputs": [
    {
     "name": "stderr",
     "output_type": "stream",
     "text": [
      "C:\\Users\\ToxsandBRO\\AppData\\Local\\Temp\\ipykernel_2680\\3821150885.py:1: SettingWithCopyWarning: \n",
      "A value is trying to be set on a copy of a slice from a DataFrame.\n",
      "Try using .loc[row_indexer,col_indexer] = value instead\n",
      "\n",
      "See the caveats in the documentation: https://pandas.pydata.org/pandas-docs/stable/user_guide/indexing.html#returning-a-view-versus-a-copy\n",
      "  df[\"Discount\"] = df[\"Discount\"].replace(\"Nan\", \"No Discount\")\n"
     ]
    }
   ],
   "source": [
    "df[\"Discount\"] = df[\"Discount\"].replace(\"Nan\", \"No Discount\")"
   ]
  },
  {
   "cell_type": "code",
   "execution_count": 43,
   "id": "fd08b596",
   "metadata": {},
   "outputs": [
    {
     "data": {
      "application/vnd.microsoft.datawrangler.viewer.v0+json": {
       "columns": [
        {
         "name": "index",
         "rawType": "int64",
         "type": "integer"
        },
        {
         "name": "BrandName",
         "rawType": "object",
         "type": "string"
        },
        {
         "name": "Details",
         "rawType": "object",
         "type": "string"
        },
        {
         "name": "Sizes",
         "rawType": "object",
         "type": "string"
        },
        {
         "name": "MRP",
         "rawType": "object",
         "type": "string"
        },
        {
         "name": "SellPrice",
         "rawType": "object",
         "type": "string"
        },
        {
         "name": "Discount",
         "rawType": "object",
         "type": "string"
        },
        {
         "name": "Category",
         "rawType": "object",
         "type": "string"
        }
       ],
       "ref": "2414fe53-89ba-498b-b0b9-1b4eb7696034",
       "rows": [
        [
         "0",
         "Life",
         "Solid cotton blend collar neck womens a-line dress - indigo",
         "Size:Large,Medium,Small,X-Large,X-Small",
         "Rs\n1699",
         "849",
         "50% off",
         "Westernwear-Women"
        ],
        [
         "1",
         "Only",
         "Polyester peter pan collar womens blouson dress - yellow",
         "Size:34,36,38,40",
         "Rs\n3499",
         "2449",
         "30% off",
         "Westernwear-Women"
        ],
        [
         "2",
         "Fratini",
         "Solid polyester blend wide neck womens regular top - off white",
         "Size:Large,X-Large,XX-Large",
         "Rs\n1199",
         "599",
         "50% off",
         "Westernwear-Women"
        ],
        [
         "3",
         "Zink london",
         "Stripes polyester sweetheart neck womens dress - black",
         "Size:Large,Medium,Small,X-Large",
         "Rs\n2299",
         "1379",
         "40% off",
         "Westernwear-Women"
        ],
        [
         "4",
         "Life",
         "Regular fit regular length denim womens jeans - stone",
         "Size:26,28,30,32,34,36",
         "Rs\n1699",
         "849",
         "50% off",
         "Westernwear-Women"
        ],
        [
         "5",
         "Kraus",
         "Wide ankle length cotton womens jeans - light blue",
         "Size:26,28,30,32,34",
         "Rs\n1795",
         "1615",
         "10% off",
         "Westernwear-Women"
        ],
        [
         "6",
         "Life",
         "Printed cotton blend collared womens regular dress - white",
         "Size:Large,Medium,Small,X-Large,X-Small",
         "Rs\n1299",
         "649",
         "50% off",
         "Westernwear-Women"
        ],
        [
         "7",
         "Fratini",
         "Embroidered wide neck polyester womens regular top - blush",
         "Size:XX-Large",
         "Rs\n1299",
         "649",
         "50% off",
         "Westernwear-Women"
        ],
        [
         "8",
         "Rare",
         "Floral polyester v neck womens flared dress - navy",
         "Size:Large,Medium,Small,X-Large",
         "Rs\n2099",
         "839",
         "60% off",
         "Westernwear-Women"
        ],
        [
         "9",
         "Rare",
         "Checks cotton boat neck womens regular top - black",
         "Size:Medium,Small,X-Large",
         "Rs\n1499",
         "599",
         "60% off",
         "Westernwear-Women"
        ],
        [
         "10",
         "Life",
         "Solid square neck cotton womens regular dress - pink",
         "Size:Large,Medium,Small,X-Large,X-Small",
         "Rs\n1499",
         "749",
         "50% off",
         "Westernwear-Women"
        ],
        [
         "11",
         "Life",
         "Regular fit regular length denim womens jeans - indigo",
         "Size:26,28,30,32,34,36",
         "Rs\n999",
         "499",
         "50% off",
         "Westernwear-Women"
        ],
        [
         "12",
         "Life",
         "Printed blended round neck womens shift dress - orange",
         "Size:Large,Medium,Small,X-Large,X-Small",
         "Rs\n1499",
         "749",
         "50% off",
         "Westernwear-Women"
        ],
        [
         "13",
         "Life",
         "Printed jersey round neck womens t-shirt - black",
         "Size:Large,Medium,Small,X-Large,X-Small",
         "Rs\n599",
         "299",
         "50% off",
         "Westernwear-Women"
        ],
        [
         "14",
         "Life",
         "Printed crepe square neck womens top - blue",
         "Size:Large,Medium,Small,X-Large,X-Small",
         "Rs\n999",
         "499",
         "50% off",
         "Westernwear-Women"
        ],
        [
         "15",
         "Life",
         "Solid cotton collar neck womens shirt - pink",
         "Size:Large,Medium,Small,X-Large,X-Small",
         "Rs\n1199",
         "599",
         "50% off",
         "Westernwear-Women"
        ],
        [
         "16",
         "Life",
         "Solid cotton lycra round neck womens t-shirt - white",
         "Size:Large,Medium,Small,X-Small",
         "Rs\n599",
         "299",
         "50% off",
         "Westernwear-Women"
        ],
        [
         "17",
         "Life",
         "Printed cotton collar neck womens shirt - white",
         "Size:Large,Medium,Small,X-Large,X-Small",
         "Rs\n1299",
         "649",
         "50% off",
         "Westernwear-Women"
        ],
        [
         "18",
         "Van heusen",
         "Solid cotton v neck womens formal shirt - maroon",
         "Size:Large,Small,X-Small",
         "Rs\n1999",
         "799",
         "60% off",
         "Westernwear-Women"
        ],
        [
         "19",
         "Life",
         "Regular fit regular length denim womens jeans - mid stone",
         "Size:26,28,30,32,34,36",
         "Rs\n1999",
         "999",
         "50% off",
         "Westernwear-Women"
        ],
        [
         "20",
         "Fratini",
         "Solid round neck viscose womens regular dress - olive",
         "Size:Large,Medium,Small,X-Large,XX-Large",
         "Rs\n1499",
         "749",
         "50% off",
         "Westernwear-Women"
        ],
        [
         "21",
         "Life",
         "Solid wide neck viscose womens regular top - blue",
         "Size:Large,Medium,Small,X-Large,X-Small",
         "Rs\n1299",
         "649",
         "50% off",
         "Westernwear-Women"
        ],
        [
         "22",
         "Stop",
         "Printed regular neck cotton womens formal shirt - ecru",
         "Size:Large,Medium,Small,X-Large,XX-Large",
         "Rs\n799",
         "399",
         "50% off",
         "Westernwear-Women"
        ],
        [
         "23",
         "Zink london",
         "Floral viscose sweetheart neck womens dress - green",
         "Size:Medium,Small,X-Small,XX-Large",
         "Rs\n2799",
         "1679",
         "40% off",
         "Westernwear-Women"
        ],
        [
         "24",
         "Life",
         "Printed viscose v neck womens regular woven top - off white",
         "Size:Large,Medium,Small,X-Large,X-Small",
         "Rs\n1199",
         "599",
         "50% off",
         "Westernwear-Women"
        ],
        [
         "25",
         "Life",
         "Printed cotton blend v neck womens top - pink",
         "Size:Large,Medium,Small,X-Large,X-Small",
         "Rs\n999",
         "499",
         "50% off",
         "Westernwear-Women"
        ],
        [
         "26",
         "Zink z",
         "Solid cotton blend v neck womens top - maroon",
         "Size:Large,Medium,Small,X-Large,X-Small",
         "Nan",
         "1299",
         "No Discount",
         "Westernwear-Women"
        ],
        [
         "27",
         "Stop",
         "Printed regular neck cotton womens formal shirt - black",
         "Size:Large,Medium,Small,X-Large,XX-Large",
         "Rs\n899",
         "449",
         "50% off",
         "Westernwear-Women"
        ],
        [
         "28",
         "Life",
         "Printed cotton blend round neck womens t-shirt - white",
         "Size:Large,Medium,Small,X-Large,X-Small",
         "Rs\n999",
         "499",
         "50% off",
         "Westernwear-Women"
        ],
        [
         "29",
         "Life",
         "Embroidered viscose square neck womens regular top - white",
         "Size:Large,Medium,Small,X-Large,X-Small",
         "Rs\n1199",
         "599",
         "50% off",
         "Westernwear-Women"
        ],
        [
         "30",
         "Life",
         "Regular fit regular length denim womens jeans - indigo",
         "Size:26,28,30,32,34,36,Medium",
         "Rs\n1699",
         "849",
         "50% off",
         "Westernwear-Women"
        ],
        [
         "31",
         "Life",
         "Printed cotton lycra round neck womens t-shirt - pink mix",
         "Size:Large,Medium,Small,X-Large,X-Small",
         "Rs\n699",
         "349",
         "50% off",
         "Westernwear-Women"
        ],
        [
         "32",
         "Cover story",
         "Solid round neck cotton womens regular dress - dark brown",
         "Size:Large,Medium,Small,X-Large,X-Small",
         "Rs\n2890",
         "1445",
         "50% off",
         "Westernwear-Women"
        ],
        [
         "33",
         "Infuse",
         "Printed square neck rayon womens dress - pink",
         "Size:Large,Medium,Small,X-Large,X-Small",
         "Rs\n1999",
         "999",
         "50% off",
         "Westernwear-Women"
        ],
        [
         "34",
         "Fratini",
         "Printed polyester blend round neck womens a-line dress - white",
         "Size:Large,Medium,Small,X-Large,XX-Large",
         "Nan",
         "1799",
         "No Discount",
         "Westernwear-Women"
        ],
        [
         "35",
         "Allen solly",
         "Solid rayon regular fit womens trousers - black",
         "Size:26,28,30,32,34,36",
         "Rs\n1299",
         "1039",
         "20% off",
         "Westernwear-Women"
        ],
        [
         "36",
         "Infuse",
         "Regular fit regular length cotton womens loungewear short set - pink",
         "Size:Large,Medium,Small,X-Small",
         "Rs\n899",
         "359",
         "60% off",
         "Westernwear-Women"
        ],
        [
         "37",
         "Van heusen",
         "Solid polyester collar neck womens shirt - black",
         "Size:Large,Medium,Small,X-Large,X-Small",
         "Rs\n1699",
         "999",
         "41% off",
         "Westernwear-Women"
        ],
        [
         "38",
         "Life",
         "Solid viscose round neck womens regular top - sage",
         "Size:Large,Medium,Small,X-Large,X-Small",
         "Rs\n999",
         "499",
         "50% off",
         "Westernwear-Women"
        ],
        [
         "39",
         "Cover story",
         "Printed polyester round neck womens dress - black",
         "Size:Medium,Small,X-Large,X-Small",
         "Rs\n4490",
         "3143",
         "30% off",
         "Westernwear-Women"
        ],
        [
         "40",
         "Life",
         "Printed collar neck polyester womens regular top - navy",
         "Size:Large,Medium,Small,X-Large,X-Small",
         "Rs\n999",
         "499",
         "50% off",
         "Westernwear-Women"
        ],
        [
         "41",
         "Zink london",
         "Lace polyester round neck womens dress - green",
         "Size:Large,Medium,Small,X-Large",
         "Rs\n3299",
         "1979",
         "40% off",
         "Westernwear-Women"
        ],
        [
         "42",
         "Stop",
         "Solid viscose v-neck womens regular top - mustard",
         "Size:Large,Medium,Small,XX-Large",
         "Rs\n999",
         "499",
         "50% off",
         "Westernwear-Women"
        ],
        [
         "43",
         "Fratini",
         "Printed v-neck polyester womens regular dress - natural",
         "Size:Large,Medium,Small,X-Large,XX-Large",
         "Rs\n1899",
         "949",
         "50% off",
         "Westernwear-Women"
        ],
        [
         "44",
         "Rare",
         "Floral polyester off shoulder womens flared dress - black",
         "Size:Large,Medium,Small,X-Large",
         "Rs\n1899",
         "854",
         "55% off",
         "Westernwear-Women"
        ],
        [
         "45",
         "Life",
         "Printed viscose wide neck womens regular dress - pink",
         "Size:Large,Medium,Small,X-Large,X-Small",
         "Rs\n1299",
         "649",
         "50% off",
         "Westernwear-Women"
        ],
        [
         "46",
         "Altlife",
         "Printed skinny fit cotton blend womens active wear track pants - grey",
         "Size:28,30,32,34,36",
         "Rs\n999",
         "499",
         "50% off",
         "Westernwear-Women"
        ],
        [
         "47",
         "Stop",
         "Printed regular neck cotton womens formal shirt - blue denim",
         "Size:Medium,Small,X-Small,XX-Large",
         "Rs\n899",
         "449",
         "50% off",
         "Westernwear-Women"
        ],
        [
         "48",
         "Life",
         "Regular fit regular length denim womens jeans - olive",
         "Size:26,28,30,32,34,36",
         "Rs\n1999",
         "999",
         "50% off",
         "Westernwear-Women"
        ],
        [
         "49",
         "Rare",
         "Solid polyester round neck womens a-line dress - navy",
         "Size:Large,Medium,Small,X-Large",
         "Rs\n1499",
         "674",
         "55% off",
         "Westernwear-Women"
        ]
       ],
       "shape": {
        "columns": 7,
        "rows": 22687
       }
      },
      "text/html": [
       "<div>\n",
       "<style scoped>\n",
       "    .dataframe tbody tr th:only-of-type {\n",
       "        vertical-align: middle;\n",
       "    }\n",
       "\n",
       "    .dataframe tbody tr th {\n",
       "        vertical-align: top;\n",
       "    }\n",
       "\n",
       "    .dataframe thead th {\n",
       "        text-align: right;\n",
       "    }\n",
       "</style>\n",
       "<table border=\"1\" class=\"dataframe\">\n",
       "  <thead>\n",
       "    <tr style=\"text-align: right;\">\n",
       "      <th></th>\n",
       "      <th>BrandName</th>\n",
       "      <th>Details</th>\n",
       "      <th>Sizes</th>\n",
       "      <th>MRP</th>\n",
       "      <th>SellPrice</th>\n",
       "      <th>Discount</th>\n",
       "      <th>Category</th>\n",
       "    </tr>\n",
       "  </thead>\n",
       "  <tbody>\n",
       "    <tr>\n",
       "      <th>0</th>\n",
       "      <td>Life</td>\n",
       "      <td>Solid cotton blend collar neck womens a-line d...</td>\n",
       "      <td>Size:Large,Medium,Small,X-Large,X-Small</td>\n",
       "      <td>Rs\\n1699</td>\n",
       "      <td>849</td>\n",
       "      <td>50% off</td>\n",
       "      <td>Westernwear-Women</td>\n",
       "    </tr>\n",
       "    <tr>\n",
       "      <th>1</th>\n",
       "      <td>Only</td>\n",
       "      <td>Polyester peter pan collar womens blouson dres...</td>\n",
       "      <td>Size:34,36,38,40</td>\n",
       "      <td>Rs\\n3499</td>\n",
       "      <td>2449</td>\n",
       "      <td>30% off</td>\n",
       "      <td>Westernwear-Women</td>\n",
       "    </tr>\n",
       "    <tr>\n",
       "      <th>2</th>\n",
       "      <td>Fratini</td>\n",
       "      <td>Solid polyester blend wide neck womens regular...</td>\n",
       "      <td>Size:Large,X-Large,XX-Large</td>\n",
       "      <td>Rs\\n1199</td>\n",
       "      <td>599</td>\n",
       "      <td>50% off</td>\n",
       "      <td>Westernwear-Women</td>\n",
       "    </tr>\n",
       "    <tr>\n",
       "      <th>3</th>\n",
       "      <td>Zink london</td>\n",
       "      <td>Stripes polyester sweetheart neck womens dress...</td>\n",
       "      <td>Size:Large,Medium,Small,X-Large</td>\n",
       "      <td>Rs\\n2299</td>\n",
       "      <td>1379</td>\n",
       "      <td>40% off</td>\n",
       "      <td>Westernwear-Women</td>\n",
       "    </tr>\n",
       "    <tr>\n",
       "      <th>4</th>\n",
       "      <td>Life</td>\n",
       "      <td>Regular fit regular length denim womens jeans ...</td>\n",
       "      <td>Size:26,28,30,32,34,36</td>\n",
       "      <td>Rs\\n1699</td>\n",
       "      <td>849</td>\n",
       "      <td>50% off</td>\n",
       "      <td>Westernwear-Women</td>\n",
       "    </tr>\n",
       "    <tr>\n",
       "      <th>...</th>\n",
       "      <td>...</td>\n",
       "      <td>...</td>\n",
       "      <td>...</td>\n",
       "      <td>...</td>\n",
       "      <td>...</td>\n",
       "      <td>...</td>\n",
       "      <td>...</td>\n",
       "    </tr>\n",
       "    <tr>\n",
       "      <th>22682</th>\n",
       "      <td>Swiss eagle</td>\n",
       "      <td>Womens analogue metallic watch</td>\n",
       "      <td>Size:Error Size</td>\n",
       "      <td>Rs\\n13990</td>\n",
       "      <td>4197</td>\n",
       "      <td>70% off</td>\n",
       "      <td>Watches-Women</td>\n",
       "    </tr>\n",
       "    <tr>\n",
       "      <th>22683</th>\n",
       "      <td>Lawman watches</td>\n",
       "      <td>Womens rose gold dial stainless steel analogue...</td>\n",
       "      <td>Size:Error Size</td>\n",
       "      <td>Rs\\n7499</td>\n",
       "      <td>4999</td>\n",
       "      <td>33% off</td>\n",
       "      <td>Watches-Women</td>\n",
       "    </tr>\n",
       "    <tr>\n",
       "      <th>22684</th>\n",
       "      <td>Lawman watches</td>\n",
       "      <td>Womens silver dial stainless steel analogue wa...</td>\n",
       "      <td>Size:Error Size</td>\n",
       "      <td>Rs\\n5999</td>\n",
       "      <td>3999</td>\n",
       "      <td>33% off</td>\n",
       "      <td>Watches-Women</td>\n",
       "    </tr>\n",
       "    <tr>\n",
       "      <th>22685</th>\n",
       "      <td>Miu miu</td>\n",
       "      <td>Eau de parfum - 50 ml</td>\n",
       "      <td>Size:Error Size</td>\n",
       "      <td>Nan</td>\n",
       "      <td>6100</td>\n",
       "      <td>No Discount</td>\n",
       "      <td>Fragrance-Women</td>\n",
       "    </tr>\n",
       "    <tr>\n",
       "      <th>22686</th>\n",
       "      <td>Miu miu</td>\n",
       "      <td>Eau de parfum - 30 ml</td>\n",
       "      <td>Size:Error Size</td>\n",
       "      <td>Nan</td>\n",
       "      <td>4400</td>\n",
       "      <td>No Discount</td>\n",
       "      <td>Fragrance-Women</td>\n",
       "    </tr>\n",
       "  </tbody>\n",
       "</table>\n",
       "<p>22687 rows × 7 columns</p>\n",
       "</div>"
      ],
      "text/plain": [
       "            BrandName                                            Details  \\\n",
       "0                Life  Solid cotton blend collar neck womens a-line d...   \n",
       "1                Only  Polyester peter pan collar womens blouson dres...   \n",
       "2             Fratini  Solid polyester blend wide neck womens regular...   \n",
       "3         Zink london  Stripes polyester sweetheart neck womens dress...   \n",
       "4                Life  Regular fit regular length denim womens jeans ...   \n",
       "...               ...                                                ...   \n",
       "22682     Swiss eagle                     Womens analogue metallic watch   \n",
       "22683  Lawman watches  Womens rose gold dial stainless steel analogue...   \n",
       "22684  Lawman watches  Womens silver dial stainless steel analogue wa...   \n",
       "22685         Miu miu                              Eau de parfum - 50 ml   \n",
       "22686         Miu miu                              Eau de parfum - 30 ml   \n",
       "\n",
       "                                         Sizes        MRP SellPrice  \\\n",
       "0      Size:Large,Medium,Small,X-Large,X-Small   Rs\\n1699       849   \n",
       "1                             Size:34,36,38,40   Rs\\n3499      2449   \n",
       "2                  Size:Large,X-Large,XX-Large   Rs\\n1199       599   \n",
       "3              Size:Large,Medium,Small,X-Large   Rs\\n2299      1379   \n",
       "4                       Size:26,28,30,32,34,36   Rs\\n1699       849   \n",
       "...                                        ...        ...       ...   \n",
       "22682                          Size:Error Size  Rs\\n13990      4197   \n",
       "22683                          Size:Error Size   Rs\\n7499      4999   \n",
       "22684                          Size:Error Size   Rs\\n5999      3999   \n",
       "22685                          Size:Error Size        Nan      6100   \n",
       "22686                          Size:Error Size        Nan      4400   \n",
       "\n",
       "          Discount           Category  \n",
       "0          50% off  Westernwear-Women  \n",
       "1          30% off  Westernwear-Women  \n",
       "2          50% off  Westernwear-Women  \n",
       "3          40% off  Westernwear-Women  \n",
       "4          50% off  Westernwear-Women  \n",
       "...            ...                ...  \n",
       "22682      70% off      Watches-Women  \n",
       "22683      33% off      Watches-Women  \n",
       "22684      33% off      Watches-Women  \n",
       "22685  No Discount    Fragrance-Women  \n",
       "22686  No Discount    Fragrance-Women  \n",
       "\n",
       "[22687 rows x 7 columns]"
      ]
     },
     "execution_count": 43,
     "metadata": {},
     "output_type": "execute_result"
    }
   ],
   "source": [
    "df.reset_index().drop(columns=\"index\")"
   ]
  },
  {
   "cell_type": "markdown",
   "id": "9a176a6d",
   "metadata": {},
   "source": [
    "Export the data in excel"
   ]
  },
  {
   "cell_type": "code",
   "execution_count": 45,
   "id": "a7683244",
   "metadata": {},
   "outputs": [],
   "source": [
    "df.to_csv(\"Cleaned fashion dataset.csv\",index= False)"
   ]
  }
 ],
 "metadata": {
  "kernelspec": {
   "display_name": "Python 3",
   "language": "python",
   "name": "python3"
  },
  "language_info": {
   "codemirror_mode": {
    "name": "ipython",
    "version": 3
   },
   "file_extension": ".py",
   "mimetype": "text/x-python",
   "name": "python",
   "nbconvert_exporter": "python",
   "pygments_lexer": "ipython3",
   "version": "3.13.5"
  }
 },
 "nbformat": 4,
 "nbformat_minor": 5
}
