{
 "cells": [
  {
   "cell_type": "code",
   "execution_count": 1,
   "id": "8790542a",
   "metadata": {},
   "outputs": [],
   "source": [
    "import pandas as pd"
   ]
  },
  {
   "cell_type": "code",
   "execution_count": null,
   "id": "765953a1",
   "metadata": {},
   "outputs": [],
   "source": [
    "df = pd.read_csv(\"netflix1.csv\")"
   ]
  },
  {
   "cell_type": "code",
   "execution_count": 4,
   "id": "b149f15a",
   "metadata": {},
   "outputs": [
    {
     "data": {
      "application/vnd.microsoft.datawrangler.viewer.v0+json": {
       "columns": [
        {
         "name": "index",
         "rawType": "int64",
         "type": "integer"
        },
        {
         "name": "show_id",
         "rawType": "object",
         "type": "string"
        },
        {
         "name": "type",
         "rawType": "object",
         "type": "string"
        },
        {
         "name": "title",
         "rawType": "object",
         "type": "string"
        },
        {
         "name": "director",
         "rawType": "object",
         "type": "string"
        },
        {
         "name": "country",
         "rawType": "object",
         "type": "string"
        },
        {
         "name": "date_added",
         "rawType": "object",
         "type": "string"
        },
        {
         "name": "release_year",
         "rawType": "int64",
         "type": "integer"
        },
        {
         "name": "rating",
         "rawType": "object",
         "type": "string"
        },
        {
         "name": "duration",
         "rawType": "object",
         "type": "string"
        },
        {
         "name": "listed_in",
         "rawType": "object",
         "type": "string"
        }
       ],
       "ref": "5c556a17-51ed-4728-a490-a96b74bbee91",
       "rows": [
        [
         "0",
         "s1",
         "Movie",
         "Dick Johnson Is Dead",
         "Kirsten Johnson",
         "United States",
         "9/25/2021",
         "2020",
         "PG-13",
         "90 min",
         "Documentaries"
        ],
        [
         "1",
         "s3",
         "TV Show",
         "Ganglands",
         "Julien Leclercq",
         "France",
         "9/24/2021",
         "2021",
         "TV-MA",
         "1 Season",
         "Crime TV Shows, International TV Shows, TV Action & Adventure"
        ],
        [
         "2",
         "s6",
         "TV Show",
         "Midnight Mass",
         "Mike Flanagan",
         "United States",
         "9/24/2021",
         "2021",
         "TV-MA",
         "1 Season",
         "TV Dramas, TV Horror, TV Mysteries"
        ],
        [
         "3",
         "s14",
         "Movie",
         "Confessions of an Invisible Girl",
         "Bruno Garotti",
         "Brazil",
         "9/22/2021",
         "2021",
         "TV-PG",
         "91 min",
         "Children & Family Movies, Comedies"
        ],
        [
         "4",
         "s8",
         "Movie",
         "Sankofa",
         "Haile Gerima",
         "United States",
         "9/24/2021",
         "1993",
         "TV-MA",
         "125 min",
         "Dramas, Independent Movies, International Movies"
        ]
       ],
       "shape": {
        "columns": 10,
        "rows": 5
       }
      },
      "text/html": [
       "<div>\n",
       "<style scoped>\n",
       "    .dataframe tbody tr th:only-of-type {\n",
       "        vertical-align: middle;\n",
       "    }\n",
       "\n",
       "    .dataframe tbody tr th {\n",
       "        vertical-align: top;\n",
       "    }\n",
       "\n",
       "    .dataframe thead th {\n",
       "        text-align: right;\n",
       "    }\n",
       "</style>\n",
       "<table border=\"1\" class=\"dataframe\">\n",
       "  <thead>\n",
       "    <tr style=\"text-align: right;\">\n",
       "      <th></th>\n",
       "      <th>show_id</th>\n",
       "      <th>type</th>\n",
       "      <th>title</th>\n",
       "      <th>director</th>\n",
       "      <th>country</th>\n",
       "      <th>date_added</th>\n",
       "      <th>release_year</th>\n",
       "      <th>rating</th>\n",
       "      <th>duration</th>\n",
       "      <th>listed_in</th>\n",
       "    </tr>\n",
       "  </thead>\n",
       "  <tbody>\n",
       "    <tr>\n",
       "      <th>0</th>\n",
       "      <td>s1</td>\n",
       "      <td>Movie</td>\n",
       "      <td>Dick Johnson Is Dead</td>\n",
       "      <td>Kirsten Johnson</td>\n",
       "      <td>United States</td>\n",
       "      <td>9/25/2021</td>\n",
       "      <td>2020</td>\n",
       "      <td>PG-13</td>\n",
       "      <td>90 min</td>\n",
       "      <td>Documentaries</td>\n",
       "    </tr>\n",
       "    <tr>\n",
       "      <th>1</th>\n",
       "      <td>s3</td>\n",
       "      <td>TV Show</td>\n",
       "      <td>Ganglands</td>\n",
       "      <td>Julien Leclercq</td>\n",
       "      <td>France</td>\n",
       "      <td>9/24/2021</td>\n",
       "      <td>2021</td>\n",
       "      <td>TV-MA</td>\n",
       "      <td>1 Season</td>\n",
       "      <td>Crime TV Shows, International TV Shows, TV Act...</td>\n",
       "    </tr>\n",
       "    <tr>\n",
       "      <th>2</th>\n",
       "      <td>s6</td>\n",
       "      <td>TV Show</td>\n",
       "      <td>Midnight Mass</td>\n",
       "      <td>Mike Flanagan</td>\n",
       "      <td>United States</td>\n",
       "      <td>9/24/2021</td>\n",
       "      <td>2021</td>\n",
       "      <td>TV-MA</td>\n",
       "      <td>1 Season</td>\n",
       "      <td>TV Dramas, TV Horror, TV Mysteries</td>\n",
       "    </tr>\n",
       "    <tr>\n",
       "      <th>3</th>\n",
       "      <td>s14</td>\n",
       "      <td>Movie</td>\n",
       "      <td>Confessions of an Invisible Girl</td>\n",
       "      <td>Bruno Garotti</td>\n",
       "      <td>Brazil</td>\n",
       "      <td>9/22/2021</td>\n",
       "      <td>2021</td>\n",
       "      <td>TV-PG</td>\n",
       "      <td>91 min</td>\n",
       "      <td>Children &amp; Family Movies, Comedies</td>\n",
       "    </tr>\n",
       "    <tr>\n",
       "      <th>4</th>\n",
       "      <td>s8</td>\n",
       "      <td>Movie</td>\n",
       "      <td>Sankofa</td>\n",
       "      <td>Haile Gerima</td>\n",
       "      <td>United States</td>\n",
       "      <td>9/24/2021</td>\n",
       "      <td>1993</td>\n",
       "      <td>TV-MA</td>\n",
       "      <td>125 min</td>\n",
       "      <td>Dramas, Independent Movies, International Movies</td>\n",
       "    </tr>\n",
       "  </tbody>\n",
       "</table>\n",
       "</div>"
      ],
      "text/plain": [
       "  show_id     type                             title         director  \\\n",
       "0      s1    Movie              Dick Johnson Is Dead  Kirsten Johnson   \n",
       "1      s3  TV Show                         Ganglands  Julien Leclercq   \n",
       "2      s6  TV Show                     Midnight Mass    Mike Flanagan   \n",
       "3     s14    Movie  Confessions of an Invisible Girl    Bruno Garotti   \n",
       "4      s8    Movie                           Sankofa     Haile Gerima   \n",
       "\n",
       "         country date_added  release_year rating  duration  \\\n",
       "0  United States  9/25/2021          2020  PG-13    90 min   \n",
       "1         France  9/24/2021          2021  TV-MA  1 Season   \n",
       "2  United States  9/24/2021          2021  TV-MA  1 Season   \n",
       "3         Brazil  9/22/2021          2021  TV-PG    91 min   \n",
       "4  United States  9/24/2021          1993  TV-MA   125 min   \n",
       "\n",
       "                                           listed_in  \n",
       "0                                      Documentaries  \n",
       "1  Crime TV Shows, International TV Shows, TV Act...  \n",
       "2                 TV Dramas, TV Horror, TV Mysteries  \n",
       "3                 Children & Family Movies, Comedies  \n",
       "4   Dramas, Independent Movies, International Movies  "
      ]
     },
     "execution_count": 4,
     "metadata": {},
     "output_type": "execute_result"
    }
   ],
   "source": [
    "df.head()"
   ]
  },
  {
   "cell_type": "code",
   "execution_count": 5,
   "id": "3eb9fe3e",
   "metadata": {},
   "outputs": [
    {
     "data": {
      "text/plain": [
       "(8790, 10)"
      ]
     },
     "execution_count": 5,
     "metadata": {},
     "output_type": "execute_result"
    }
   ],
   "source": [
    "df.shape"
   ]
  },
  {
   "cell_type": "code",
   "execution_count": 17,
   "id": "f29e7781",
   "metadata": {},
   "outputs": [
    {
     "name": "stdout",
     "output_type": "stream",
     "text": [
      "<class 'pandas.core.frame.DataFrame'>\n",
      "RangeIndex: 8790 entries, 0 to 8789\n",
      "Data columns (total 9 columns):\n",
      " #   Column        Non-Null Count  Dtype \n",
      "---  ------        --------------  ----- \n",
      " 0   Show_id       8790 non-null   object\n",
      " 1   Type          8790 non-null   object\n",
      " 2   Title         8790 non-null   object\n",
      " 3   Director      8790 non-null   object\n",
      " 4   Country       8790 non-null   object\n",
      " 5   Date_added    8790 non-null   object\n",
      " 6   Release_year  8790 non-null   int64 \n",
      " 7   Duration      8790 non-null   object\n",
      " 8   Listed_in     8790 non-null   object\n",
      "dtypes: int64(1), object(8)\n",
      "memory usage: 618.2+ KB\n"
     ]
    }
   ],
   "source": [
    "df.info()"
   ]
  },
  {
   "cell_type": "code",
   "execution_count": 14,
   "id": "7b9526e7",
   "metadata": {},
   "outputs": [
    {
     "data": {
      "text/plain": [
       "Index(['Show_id', 'Type', 'Title', 'Director', 'Country', 'Date_added',\n",
       "       'Release_year', 'Duration', 'Listed_in'],\n",
       "      dtype='object')"
      ]
     },
     "execution_count": 14,
     "metadata": {},
     "output_type": "execute_result"
    }
   ],
   "source": [
    "df.columns"
   ]
  },
  {
   "cell_type": "markdown",
   "id": "8e3a4626",
   "metadata": {},
   "source": [
    "Deleting redundant columns."
   ]
  },
  {
   "cell_type": "code",
   "execution_count": 8,
   "id": "5b49e020",
   "metadata": {},
   "outputs": [],
   "source": [
    "df.drop(columns= \"rating\",inplace= True)"
   ]
  },
  {
   "cell_type": "markdown",
   "id": "1636d1ad",
   "metadata": {},
   "source": [
    "Renaming the columns."
   ]
  },
  {
   "cell_type": "code",
   "execution_count": 11,
   "id": "5500aa93",
   "metadata": {},
   "outputs": [],
   "source": [
    "new_col_name = []\n",
    "for i in df.columns:\n",
    "    new_col_name.append(i.capitalize())"
   ]
  },
  {
   "cell_type": "code",
   "execution_count": 12,
   "id": "df0d3a53",
   "metadata": {},
   "outputs": [],
   "source": [
    "df.columns = new_col_name"
   ]
  },
  {
   "cell_type": "markdown",
   "id": "7fbb087c",
   "metadata": {},
   "source": [
    "Dropping duplicates."
   ]
  },
  {
   "cell_type": "code",
   "execution_count": 15,
   "id": "68f5ec6f",
   "metadata": {},
   "outputs": [
    {
     "data": {
      "text/plain": [
       "np.int64(0)"
      ]
     },
     "execution_count": 15,
     "metadata": {},
     "output_type": "execute_result"
    }
   ],
   "source": [
    "df.duplicated().sum()"
   ]
  },
  {
   "cell_type": "code",
   "execution_count": 16,
   "id": "5c5a215d",
   "metadata": {},
   "outputs": [],
   "source": [
    "df.drop_duplicates(inplace= True)"
   ]
  },
  {
   "cell_type": "markdown",
   "id": "179ebf87",
   "metadata": {},
   "source": [
    "Remove the NaN values from the dataset"
   ]
  },
  {
   "cell_type": "code",
   "execution_count": 18,
   "id": "bf614a68",
   "metadata": {},
   "outputs": [
    {
     "data": {
      "application/vnd.microsoft.datawrangler.viewer.v0+json": {
       "columns": [
        {
         "name": "index",
         "rawType": "object",
         "type": "string"
        },
        {
         "name": "0",
         "rawType": "int64",
         "type": "integer"
        }
       ],
       "ref": "731680a4-7d04-43e7-b0bb-41584bcf0d88",
       "rows": [
        [
         "Show_id",
         "0"
        ],
        [
         "Type",
         "0"
        ],
        [
         "Title",
         "0"
        ],
        [
         "Director",
         "0"
        ],
        [
         "Country",
         "0"
        ],
        [
         "Date_added",
         "0"
        ],
        [
         "Release_year",
         "0"
        ],
        [
         "Duration",
         "0"
        ],
        [
         "Listed_in",
         "0"
        ]
       ],
       "shape": {
        "columns": 1,
        "rows": 9
       }
      },
      "text/plain": [
       "Show_id         0\n",
       "Type            0\n",
       "Title           0\n",
       "Director        0\n",
       "Country         0\n",
       "Date_added      0\n",
       "Release_year    0\n",
       "Duration        0\n",
       "Listed_in       0\n",
       "dtype: int64"
      ]
     },
     "execution_count": 18,
     "metadata": {},
     "output_type": "execute_result"
    }
   ],
   "source": [
    "df.isna().sum()"
   ]
  },
  {
   "cell_type": "code",
   "execution_count": 19,
   "id": "f5f50f89",
   "metadata": {},
   "outputs": [],
   "source": [
    "df.dropna(inplace= True)"
   ]
  },
  {
   "cell_type": "markdown",
   "id": "15839e2c",
   "metadata": {},
   "source": [
    "Split the show_id and make it int"
   ]
  },
  {
   "cell_type": "code",
   "execution_count": 20,
   "id": "c4cc5511",
   "metadata": {},
   "outputs": [
    {
     "data": {
      "text/plain": [
       "array(['s1', 's3', 's6', ..., 's8801', 's8784', 's8786'],\n",
       "      shape=(8790,), dtype=object)"
      ]
     },
     "execution_count": 20,
     "metadata": {},
     "output_type": "execute_result"
    }
   ],
   "source": [
    "df[\"Show_id\"].unique()"
   ]
  },
  {
   "cell_type": "code",
   "execution_count": 22,
   "id": "72d2e965",
   "metadata": {},
   "outputs": [],
   "source": [
    "df[\"Show_id\"] = df[\"Show_id\"].apply(lambda x: x.split(\"s\")[1])"
   ]
  },
  {
   "cell_type": "code",
   "execution_count": 28,
   "id": "e61051ce",
   "metadata": {},
   "outputs": [
    {
     "data": {
      "text/plain": [
       "numpy.int64"
      ]
     },
     "execution_count": 28,
     "metadata": {},
     "output_type": "execute_result"
    }
   ],
   "source": [
    "type(df[\"Show_id\"][0])"
   ]
  },
  {
   "cell_type": "code",
   "execution_count": 27,
   "id": "8551fa6f",
   "metadata": {},
   "outputs": [],
   "source": [
    "df[\"Show_id\"] = df[\"Show_id\"].astype(int)"
   ]
  },
  {
   "cell_type": "markdown",
   "id": "be53d1c9",
   "metadata": {},
   "source": [
    "Change the character \"/\" to \"-\" for date column"
   ]
  },
  {
   "cell_type": "code",
   "execution_count": 30,
   "id": "8590a711",
   "metadata": {},
   "outputs": [],
   "source": [
    "df[\"Date_added\"] = df[\"Date_added\"].apply(lambda x: x.replace(\"/\",\"-\"))"
   ]
  },
  {
   "cell_type": "markdown",
   "id": "10619556",
   "metadata": {},
   "source": [
    "Export Cleaned Data"
   ]
  },
  {
   "cell_type": "code",
   "execution_count": 35,
   "id": "6d231561",
   "metadata": {},
   "outputs": [],
   "source": [
    "df.to_csv(\"Cleaned Netflix Data.csv\", index= False)"
   ]
  },
  {
   "cell_type": "code",
   "execution_count": 37,
   "id": "19cdebf9",
   "metadata": {},
   "outputs": [
    {
     "data": {
      "application/vnd.microsoft.datawrangler.viewer.v0+json": {
       "columns": [
        {
         "name": "index",
         "rawType": "int64",
         "type": "integer"
        },
        {
         "name": "Show_id",
         "rawType": "int64",
         "type": "integer"
        },
        {
         "name": "Type",
         "rawType": "object",
         "type": "string"
        },
        {
         "name": "Title",
         "rawType": "object",
         "type": "string"
        },
        {
         "name": "Director",
         "rawType": "object",
         "type": "string"
        },
        {
         "name": "Country",
         "rawType": "object",
         "type": "string"
        },
        {
         "name": "Date_added",
         "rawType": "object",
         "type": "string"
        },
        {
         "name": "Release_year",
         "rawType": "int64",
         "type": "integer"
        },
        {
         "name": "Duration",
         "rawType": "object",
         "type": "string"
        },
        {
         "name": "Listed_in",
         "rawType": "object",
         "type": "string"
        }
       ],
       "ref": "a4a35aa3-40b6-456c-8a71-7fb9009daab1",
       "rows": [
        [
         "0",
         "1",
         "Movie",
         "Dick Johnson Is Dead",
         "Kirsten Johnson",
         "United States",
         "9-25-2021",
         "2020",
         "90 min",
         "Documentaries"
        ],
        [
         "1",
         "3",
         "TV Show",
         "Ganglands",
         "Julien Leclercq",
         "France",
         "9-24-2021",
         "2021",
         "1 Season",
         "Crime TV Shows, International TV Shows, TV Action & Adventure"
        ],
        [
         "2",
         "6",
         "TV Show",
         "Midnight Mass",
         "Mike Flanagan",
         "United States",
         "9-24-2021",
         "2021",
         "1 Season",
         "TV Dramas, TV Horror, TV Mysteries"
        ],
        [
         "3",
         "14",
         "Movie",
         "Confessions of an Invisible Girl",
         "Bruno Garotti",
         "Brazil",
         "9-22-2021",
         "2021",
         "91 min",
         "Children & Family Movies, Comedies"
        ],
        [
         "4",
         "8",
         "Movie",
         "Sankofa",
         "Haile Gerima",
         "United States",
         "9-24-2021",
         "1993",
         "125 min",
         "Dramas, Independent Movies, International Movies"
        ],
        [
         "5",
         "9",
         "TV Show",
         "The Great British Baking Show",
         "Andy Devonshire",
         "United Kingdom",
         "9-24-2021",
         "2021",
         "9 Seasons",
         "British TV Shows, Reality TV"
        ],
        [
         "6",
         "10",
         "Movie",
         "The Starling",
         "Theodore Melfi",
         "United States",
         "9-24-2021",
         "2021",
         "104 min",
         "Comedies, Dramas"
        ],
        [
         "7",
         "939",
         "Movie",
         "Motu Patlu in the Game of Zones",
         "Suhas Kadav",
         "India",
         "5-1-2021",
         "2019",
         "87 min",
         "Children & Family Movies, Comedies, Music & Musicals"
        ],
        [
         "8",
         "13",
         "Movie",
         "Je Suis Karl",
         "Christian Schwochow",
         "Germany",
         "9-23-2021",
         "2021",
         "127 min",
         "Dramas, International Movies"
        ],
        [
         "9",
         "940",
         "Movie",
         "Motu Patlu in Wonderland",
         "Suhas Kadav",
         "India",
         "5-1-2021",
         "2013",
         "76 min",
         "Children & Family Movies, Music & Musicals"
        ],
        [
         "10",
         "941",
         "Movie",
         "Motu Patlu: Deep Sea Adventure",
         "Suhas Kadav",
         "India",
         "5-1-2021",
         "2014",
         "76 min",
         "Children & Family Movies, Comedies"
        ],
        [
         "11",
         "942",
         "Movie",
         "Motu Patlu: Mission Moon",
         "Suhas Kadav",
         "India",
         "5-1-2021",
         "2013",
         "71 min",
         "Children & Family Movies, Comedies"
        ],
        [
         "12",
         "852",
         "Movie",
         "99 Songs (Tamil)",
         "Not Given",
         "Pakistan",
         "5-21-2021",
         "2021",
         "131 min",
         "Dramas, International Movies, Music & Musicals"
        ],
        [
         "13",
         "471",
         "Movie",
         "Bridgerton - The Afterparty",
         "Krysia Plonka, Kristian Mercado",
         "United States",
         "7-13-2021",
         "2021",
         "39 min",
         "Movies"
        ],
        [
         "14",
         "730",
         "Movie",
         "Bling Empire - The Afterparty",
         "Krysia Plonka, Kristian Mercado",
         "United States",
         "6-12-2021",
         "2021",
         "36 min",
         "Movies"
        ],
        [
         "15",
         "731",
         "Movie",
         "Cobra Kai - The Afterparty",
         "Krysia Plonka, Kristian Mercado",
         "United States",
         "6-12-2021",
         "2021",
         "34 min",
         "Movies"
        ],
        [
         "16",
         "913",
         "Movie",
         "The Circle - The Afterparty",
         "Krysia Plonka, Kristian Mercado",
         "United States",
         "5-7-2021",
         "2021",
         "35 min",
         "Comedies"
        ],
        [
         "17",
         "4",
         "TV Show",
         "Jailbirds New Orleans",
         "Not Given",
         "Pakistan",
         "9-24-2021",
         "2021",
         "1 Season",
         "Docuseries, Reality TV"
        ],
        [
         "18",
         "15",
         "TV Show",
         "Crime Stories: India Detectives",
         "Not Given",
         "Pakistan",
         "9-22-2021",
         "2021",
         "1 Season",
         "British TV Shows, Crime TV Shows, Docuseries"
        ],
        [
         "19",
         "3232",
         "Movie",
         "True: Winter Wishes",
         "Mark Thornton, Todd Kauffman",
         "United States",
         "11-26-2019",
         "2019",
         "46 min",
         "Children & Family Movies"
        ],
        [
         "20",
         "4832",
         "TV Show",
         "True: Magical Friends",
         "Mark Thornton, Todd Kauffman",
         "United States",
         "6-15-2018",
         "2018",
         "1 Season",
         "Kids' TV"
        ],
        [
         "21",
         "4833",
         "TV Show",
         "True: Wonderful Wishes",
         "Mark Thornton, Todd Kauffman",
         "United States",
         "6-15-2018",
         "2018",
         "1 Season",
         "Kids' TV"
        ],
        [
         "22",
         "4857",
         "TV Show",
         "Dance & Sing with True",
         "Mark Thornton, Todd Kauffman",
         "United States",
         "5-18-2018",
         "2018",
         "1 Season",
         "Kids' TV"
        ],
        [
         "23",
         "7",
         "Movie",
         "My Little Pony: A New Generation",
         "Robert Cullen, José Luis Ucha",
         "Not Given",
         "9-24-2021",
         "2021",
         "91 min",
         "Children & Family Movies"
        ],
        [
         "24",
         "12",
         "TV Show",
         "Bangkok Breaking",
         "Kongkiat Komesiri",
         "Not Given",
         "9-23-2021",
         "2021",
         "1 Season",
         "Crime TV Shows, International TV Shows, TV Action & Adventure"
        ],
        [
         "25",
         "17",
         "Movie",
         "Europe's Most Dangerous Man: Otto Skorzeny in Spain",
         "Pedro de Echave García, Pablo Azorín Williams",
         "Not Given",
         "9-22-2021",
         "2020",
         "67 min",
         "Documentaries, International Movies"
        ],
        [
         "26",
         "7930",
         "Movie",
         "Samudri Lootere",
         "Anirban Majumder",
         "Not Given",
         "6-18-2019",
         "2018",
         "65 min",
         "Children & Family Movies"
        ],
        [
         "27",
         "21",
         "TV Show",
         "Monsters Inside: The 24 Faces of Billy Milligan",
         "Olivier Megaton",
         "United States",
         "9-22-2021",
         "2021",
         "1 Season",
         "Crime TV Shows, Docuseries, International TV Shows"
        ],
        [
         "28",
         "24",
         "Movie",
         "Go! Go! Cory Carson: Chrissy Takes the Wheel",
         "Alex Woo, Stanley Moore",
         "United States",
         "9-21-2021",
         "2021",
         "61 min",
         "Children & Family Movies"
        ],
        [
         "29",
         "25",
         "Movie",
         "Jeans",
         "S. Shankar",
         "India",
         "9-21-2021",
         "1998",
         "166 min",
         "Comedies, International Movies, Romantic Movies"
        ],
        [
         "30",
         "28",
         "Movie",
         "Grown Ups",
         "Dennis Dugan",
         "United States",
         "9-20-2021",
         "2010",
         "103 min",
         "Comedies"
        ],
        [
         "31",
         "29",
         "Movie",
         "Dark Skies",
         "Scott Stewart",
         "United States",
         "9-19-2021",
         "2013",
         "97 min",
         "Horror Movies, Sci-Fi & Fantasy"
        ],
        [
         "32",
         "30",
         "Movie",
         "Paranoia",
         "Robert Luketic",
         "United States",
         "9-19-2021",
         "2013",
         "106 min",
         "Thrillers"
        ],
        [
         "33",
         "20",
         "TV Show",
         "Jaguar",
         "Not Given",
         "Pakistan",
         "9-22-2021",
         "2021",
         "1 Season",
         "International TV Shows, Spanish-Language TV Shows, TV Action & Adventure"
        ],
        [
         "34",
         "32",
         "TV Show",
         "Chicago Party Aunt",
         "Not Given",
         "Pakistan",
         "9-17-2021",
         "2021",
         "1 Season",
         "TV Comedies"
        ],
        [
         "35",
         "34",
         "TV Show",
         "Squid Game",
         "Not Given",
         "Pakistan",
         "9-17-2021",
         "2021",
         "1 Season",
         "International TV Shows, TV Dramas, TV Thrillers"
        ],
        [
         "36",
         "35",
         "TV Show",
         "Tayo and Little Wizards",
         "Not Given",
         "Pakistan",
         "9-17-2021",
         "2020",
         "1 Season",
         "Kids' TV"
        ],
        [
         "37",
         "75",
         "TV Show",
         "The World's Most Amazing Vacation Rentals",
         "Not Given",
         "Pakistan",
         "9-14-2021",
         "2021",
         "2 Seasons",
         "Reality TV"
        ],
        [
         "38",
         "84",
         "TV Show",
         "Metal Shop Masters",
         "Not Given",
         "Pakistan",
         "9-10-2021",
         "2021",
         "1 Season",
         "Reality TV"
        ],
        [
         "39",
         "86",
         "TV Show",
         "Pokémon Master Journeys: The Series",
         "Not Given",
         "Pakistan",
         "9-10-2021",
         "2021",
         "1 Season",
         "Anime Series, Kids' TV"
        ],
        [
         "40",
         "88",
         "TV Show",
         "Titipo Titipo",
         "Not Given",
         "Pakistan",
         "9-10-2021",
         "2019",
         "2 Seasons",
         "Kids' TV, Korean TV Shows"
        ],
        [
         "41",
         "90",
         "TV Show",
         "Mighty Raju",
         "Not Given",
         "Pakistan",
         "9-9-2021",
         "2017",
         "4 Seasons",
         "Kids' TV"
        ],
        [
         "42",
         "101",
         "TV Show",
         "Tobot Galaxy Detectives",
         "Not Given",
         "Pakistan",
         "9-7-2021",
         "2019",
         "2 Seasons",
         "Kids' TV"
        ],
        [
         "43",
         "122",
         "TV Show",
         "Hotel Del Luna",
         "Not Given",
         "Pakistan",
         "9-2-2021",
         "2019",
         "1 Season",
         "International TV Shows, Romantic TV Shows, TV Comedies"
        ],
        [
         "44",
         "133",
         "TV Show",
         "Brave Animated Series",
         "Not Given",
         "Pakistan",
         "9-1-2021",
         "2021",
         "1 Season",
         "International TV Shows, TV Action & Adventure, TV Comedies"
        ],
        [
         "45",
         "148",
         "TV Show",
         "How to Be a Cowboy",
         "Not Given",
         "Pakistan",
         "9-1-2021",
         "2021",
         "1 Season",
         "Reality TV"
        ],
        [
         "46",
         "166",
         "TV Show",
         "Oldsters",
         "Not Given",
         "Pakistan",
         "9-1-2021",
         "2019",
         "1 Season",
         "Crime TV Shows, International TV Shows, Spanish-Language TV Shows"
        ],
        [
         "47",
         "190",
         "TV Show",
         "Bread Barbershop",
         "Not Given",
         "Pakistan",
         "8-28-2021",
         "2020",
         "2 Seasons",
         "Kids' TV, TV Comedies"
        ],
        [
         "48",
         "182",
         "TV Show",
         "Turning Point: 9/11 and the War on Terror",
         "Not Given",
         "Pakistan",
         "9-1-2021",
         "2021",
         "1 Season",
         "Docuseries"
        ],
        [
         "49",
         "187",
         "TV Show",
         "Hometown Cha-Cha-Cha",
         "Not Given",
         "Pakistan",
         "8-29-2021",
         "2021",
         "1 Season",
         "International TV Shows, Romantic TV Shows, TV Comedies"
        ]
       ],
       "shape": {
        "columns": 9,
        "rows": 8790
       }
      },
      "text/html": [
       "<div>\n",
       "<style scoped>\n",
       "    .dataframe tbody tr th:only-of-type {\n",
       "        vertical-align: middle;\n",
       "    }\n",
       "\n",
       "    .dataframe tbody tr th {\n",
       "        vertical-align: top;\n",
       "    }\n",
       "\n",
       "    .dataframe thead th {\n",
       "        text-align: right;\n",
       "    }\n",
       "</style>\n",
       "<table border=\"1\" class=\"dataframe\">\n",
       "  <thead>\n",
       "    <tr style=\"text-align: right;\">\n",
       "      <th></th>\n",
       "      <th>Show_id</th>\n",
       "      <th>Type</th>\n",
       "      <th>Title</th>\n",
       "      <th>Director</th>\n",
       "      <th>Country</th>\n",
       "      <th>Date_added</th>\n",
       "      <th>Release_year</th>\n",
       "      <th>Duration</th>\n",
       "      <th>Listed_in</th>\n",
       "    </tr>\n",
       "  </thead>\n",
       "  <tbody>\n",
       "    <tr>\n",
       "      <th>0</th>\n",
       "      <td>1</td>\n",
       "      <td>Movie</td>\n",
       "      <td>Dick Johnson Is Dead</td>\n",
       "      <td>Kirsten Johnson</td>\n",
       "      <td>United States</td>\n",
       "      <td>9-25-2021</td>\n",
       "      <td>2020</td>\n",
       "      <td>90 min</td>\n",
       "      <td>Documentaries</td>\n",
       "    </tr>\n",
       "    <tr>\n",
       "      <th>1</th>\n",
       "      <td>3</td>\n",
       "      <td>TV Show</td>\n",
       "      <td>Ganglands</td>\n",
       "      <td>Julien Leclercq</td>\n",
       "      <td>France</td>\n",
       "      <td>9-24-2021</td>\n",
       "      <td>2021</td>\n",
       "      <td>1 Season</td>\n",
       "      <td>Crime TV Shows, International TV Shows, TV Act...</td>\n",
       "    </tr>\n",
       "    <tr>\n",
       "      <th>2</th>\n",
       "      <td>6</td>\n",
       "      <td>TV Show</td>\n",
       "      <td>Midnight Mass</td>\n",
       "      <td>Mike Flanagan</td>\n",
       "      <td>United States</td>\n",
       "      <td>9-24-2021</td>\n",
       "      <td>2021</td>\n",
       "      <td>1 Season</td>\n",
       "      <td>TV Dramas, TV Horror, TV Mysteries</td>\n",
       "    </tr>\n",
       "    <tr>\n",
       "      <th>3</th>\n",
       "      <td>14</td>\n",
       "      <td>Movie</td>\n",
       "      <td>Confessions of an Invisible Girl</td>\n",
       "      <td>Bruno Garotti</td>\n",
       "      <td>Brazil</td>\n",
       "      <td>9-22-2021</td>\n",
       "      <td>2021</td>\n",
       "      <td>91 min</td>\n",
       "      <td>Children &amp; Family Movies, Comedies</td>\n",
       "    </tr>\n",
       "    <tr>\n",
       "      <th>4</th>\n",
       "      <td>8</td>\n",
       "      <td>Movie</td>\n",
       "      <td>Sankofa</td>\n",
       "      <td>Haile Gerima</td>\n",
       "      <td>United States</td>\n",
       "      <td>9-24-2021</td>\n",
       "      <td>1993</td>\n",
       "      <td>125 min</td>\n",
       "      <td>Dramas, Independent Movies, International Movies</td>\n",
       "    </tr>\n",
       "    <tr>\n",
       "      <th>...</th>\n",
       "      <td>...</td>\n",
       "      <td>...</td>\n",
       "      <td>...</td>\n",
       "      <td>...</td>\n",
       "      <td>...</td>\n",
       "      <td>...</td>\n",
       "      <td>...</td>\n",
       "      <td>...</td>\n",
       "      <td>...</td>\n",
       "    </tr>\n",
       "    <tr>\n",
       "      <th>8785</th>\n",
       "      <td>8797</td>\n",
       "      <td>TV Show</td>\n",
       "      <td>Yunus Emre</td>\n",
       "      <td>Not Given</td>\n",
       "      <td>Turkey</td>\n",
       "      <td>1-17-2017</td>\n",
       "      <td>2016</td>\n",
       "      <td>2 Seasons</td>\n",
       "      <td>International TV Shows, TV Dramas</td>\n",
       "    </tr>\n",
       "    <tr>\n",
       "      <th>8786</th>\n",
       "      <td>8798</td>\n",
       "      <td>TV Show</td>\n",
       "      <td>Zak Storm</td>\n",
       "      <td>Not Given</td>\n",
       "      <td>United States</td>\n",
       "      <td>9-13-2018</td>\n",
       "      <td>2016</td>\n",
       "      <td>3 Seasons</td>\n",
       "      <td>Kids' TV</td>\n",
       "    </tr>\n",
       "    <tr>\n",
       "      <th>8787</th>\n",
       "      <td>8801</td>\n",
       "      <td>TV Show</td>\n",
       "      <td>Zindagi Gulzar Hai</td>\n",
       "      <td>Not Given</td>\n",
       "      <td>Pakistan</td>\n",
       "      <td>12-15-2016</td>\n",
       "      <td>2012</td>\n",
       "      <td>1 Season</td>\n",
       "      <td>International TV Shows, Romantic TV Shows, TV ...</td>\n",
       "    </tr>\n",
       "    <tr>\n",
       "      <th>8788</th>\n",
       "      <td>8784</td>\n",
       "      <td>TV Show</td>\n",
       "      <td>Yoko</td>\n",
       "      <td>Not Given</td>\n",
       "      <td>Pakistan</td>\n",
       "      <td>6-23-2018</td>\n",
       "      <td>2016</td>\n",
       "      <td>1 Season</td>\n",
       "      <td>Kids' TV</td>\n",
       "    </tr>\n",
       "    <tr>\n",
       "      <th>8789</th>\n",
       "      <td>8786</td>\n",
       "      <td>TV Show</td>\n",
       "      <td>YOM</td>\n",
       "      <td>Not Given</td>\n",
       "      <td>Pakistan</td>\n",
       "      <td>6-7-2018</td>\n",
       "      <td>2016</td>\n",
       "      <td>1 Season</td>\n",
       "      <td>Kids' TV</td>\n",
       "    </tr>\n",
       "  </tbody>\n",
       "</table>\n",
       "<p>8790 rows × 9 columns</p>\n",
       "</div>"
      ],
      "text/plain": [
       "      Show_id     Type                             Title         Director  \\\n",
       "0           1    Movie              Dick Johnson Is Dead  Kirsten Johnson   \n",
       "1           3  TV Show                         Ganglands  Julien Leclercq   \n",
       "2           6  TV Show                     Midnight Mass    Mike Flanagan   \n",
       "3          14    Movie  Confessions of an Invisible Girl    Bruno Garotti   \n",
       "4           8    Movie                           Sankofa     Haile Gerima   \n",
       "...       ...      ...                               ...              ...   \n",
       "8785     8797  TV Show                        Yunus Emre        Not Given   \n",
       "8786     8798  TV Show                         Zak Storm        Not Given   \n",
       "8787     8801  TV Show                Zindagi Gulzar Hai        Not Given   \n",
       "8788     8784  TV Show                              Yoko        Not Given   \n",
       "8789     8786  TV Show                               YOM        Not Given   \n",
       "\n",
       "            Country  Date_added  Release_year   Duration  \\\n",
       "0     United States   9-25-2021          2020     90 min   \n",
       "1            France   9-24-2021          2021   1 Season   \n",
       "2     United States   9-24-2021          2021   1 Season   \n",
       "3            Brazil   9-22-2021          2021     91 min   \n",
       "4     United States   9-24-2021          1993    125 min   \n",
       "...             ...         ...           ...        ...   \n",
       "8785         Turkey   1-17-2017          2016  2 Seasons   \n",
       "8786  United States   9-13-2018          2016  3 Seasons   \n",
       "8787       Pakistan  12-15-2016          2012   1 Season   \n",
       "8788       Pakistan   6-23-2018          2016   1 Season   \n",
       "8789       Pakistan    6-7-2018          2016   1 Season   \n",
       "\n",
       "                                              Listed_in  \n",
       "0                                         Documentaries  \n",
       "1     Crime TV Shows, International TV Shows, TV Act...  \n",
       "2                    TV Dramas, TV Horror, TV Mysteries  \n",
       "3                    Children & Family Movies, Comedies  \n",
       "4      Dramas, Independent Movies, International Movies  \n",
       "...                                                 ...  \n",
       "8785                  International TV Shows, TV Dramas  \n",
       "8786                                           Kids' TV  \n",
       "8787  International TV Shows, Romantic TV Shows, TV ...  \n",
       "8788                                           Kids' TV  \n",
       "8789                                           Kids' TV  \n",
       "\n",
       "[8790 rows x 9 columns]"
      ]
     },
     "execution_count": 37,
     "metadata": {},
     "output_type": "execute_result"
    }
   ],
   "source": [
    "pd.read_csv(\"Cleaned Netflix Data.csv\")"
   ]
  }
 ],
 "metadata": {
  "kernelspec": {
   "display_name": "Python 3",
   "language": "python",
   "name": "python3"
  },
  "language_info": {
   "codemirror_mode": {
    "name": "ipython",
    "version": 3
   },
   "file_extension": ".py",
   "mimetype": "text/x-python",
   "name": "python",
   "nbconvert_exporter": "python",
   "pygments_lexer": "ipython3",
   "version": "3.13.5"
  }
 },
 "nbformat": 4,
 "nbformat_minor": 5
}
