{
 "cells": [
  {
   "cell_type": "code",
   "execution_count": 1,
   "id": "e0835302",
   "metadata": {},
   "outputs": [],
   "source": [
    "import pandas as pd"
   ]
  },
  {
   "cell_type": "code",
   "execution_count": 2,
   "id": "9ccf41b5",
   "metadata": {},
   "outputs": [
    {
     "data": {
      "text/plain": [
       "'2.3.1'"
      ]
     },
     "execution_count": 2,
     "metadata": {},
     "output_type": "execute_result"
    }
   ],
   "source": [
    "pd.__version__"
   ]
  },
  {
   "cell_type": "code",
   "execution_count": 43,
   "id": "4b1b9595",
   "metadata": {},
   "outputs": [],
   "source": [
    "data = pd.read_csv(\"zomato.csv\")\n"
   ]
  },
  {
   "cell_type": "code",
   "execution_count": 9,
   "id": "f6d40710",
   "metadata": {},
   "outputs": [
    {
     "data": {
      "application/vnd.microsoft.datawrangler.viewer.v0+json": {
       "columns": [
        {
         "name": "index",
         "rawType": "int64",
         "type": "integer"
        },
        {
         "name": "url",
         "rawType": "object",
         "type": "string"
        },
        {
         "name": "address",
         "rawType": "object",
         "type": "string"
        },
        {
         "name": "name",
         "rawType": "object",
         "type": "string"
        },
        {
         "name": "online_order",
         "rawType": "object",
         "type": "string"
        },
        {
         "name": "book_table",
         "rawType": "object",
         "type": "string"
        },
        {
         "name": "rate",
         "rawType": "object",
         "type": "string"
        },
        {
         "name": "votes",
         "rawType": "int64",
         "type": "integer"
        },
        {
         "name": "phone",
         "rawType": "object",
         "type": "string"
        },
        {
         "name": "location",
         "rawType": "object",
         "type": "string"
        },
        {
         "name": "rest_type",
         "rawType": "object",
         "type": "string"
        },
        {
         "name": "dish_liked",
         "rawType": "object",
         "type": "string"
        },
        {
         "name": "cuisines",
         "rawType": "object",
         "type": "string"
        },
        {
         "name": "approx_cost(for two people)",
         "rawType": "object",
         "type": "string"
        },
        {
         "name": "reviews_list",
         "rawType": "object",
         "type": "string"
        },
        {
         "name": "menu_item",
         "rawType": "object",
         "type": "string"
        },
        {
         "name": "listed_in(type)",
         "rawType": "object",
         "type": "string"
        },
        {
         "name": "listed_in(city)",
         "rawType": "object",
         "type": "string"
        }
       ],
       "ref": "794b39e7-35fc-482a-961f-629186506ce3",
       "rows": [
        [
         "0",
         "https://www.zomato.com/bangalore/jalsa-banashankari?context=eyJzZSI6eyJlIjpbNTg2OTQsIjE4Mzc1NDc0IiwiNTkwOTAiLCIxODM4Mjk0NCIsIjE4MjI0Njc2IiwiNTkyODkiLCIxODM3MzM4NiJdLCJ0IjoiUmVzdGF1cmFudHMgaW4gQmFuYXNoYW5rYXJpIHNlcnZpbmcgQnVmZmV0In19",
         "942, 21st Main Road, 2nd Stage, Banashankari, Bangalore",
         "Jalsa",
         "Yes",
         "Yes",
         "4.1/5",
         "775",
         "080 42297555\r\n+91 9743772233",
         "Banashankari",
         "Casual Dining",
         "Pasta, Lunch Buffet, Masala Papad, Paneer Lajawab, Tomato Shorba, Dum Biryani, Sweet Corn Soup",
         "North Indian, Mughlai, Chinese",
         "800",
         "[('Rated 4.0', 'RATED\\n  A beautiful place to dine in.The interiors take you back to the Mughal era. The lightings are just perfect.We went there on the occasion of Christmas and so they had only limited items available. But the taste and service was not compromised at all.The only complaint is that the breads could have been better.Would surely like to come here again.'), ('Rated 4.0', 'RATED\\n  I was here for dinner with my family on a weekday. The restaurant was completely empty. Ambience is good with some good old hindi music. Seating arrangement are good too. We ordered masala papad, panner and baby corn starters, lemon and corrionder soup, butter roti, olive and chilli paratha. Food was fresh and good, service is good too. Good for family hangout.\\nCheers'), ('Rated 2.0', 'RATED\\n  Its a restaurant near to Banashankari BDA. Me along with few of my office friends visited to have buffet but unfortunately they only provide veg buffet. On inquiring they said this place is mostly visited by vegetarians. Anyways we ordered ala carte items which took ages to come. Food was ok ok. Definitely not visiting anymore.'), ('Rated 4.0', 'RATED\\n  We went here on a weekend and one of us had the buffet while two of us took Ala Carte. Firstly the ambience and service of this place is great! The buffet had a lot of items and the good was good. We had a Pumpkin Halwa intm the dessert which was amazing. Must try! The kulchas are great here. Cheers!'), ('Rated 5.0', 'RATED\\n  The best thing about the place is itÃ\\x83Ã\\x83Ã\\x82Ã\\x82Ã\\x83Ã\\x82Ã\\x82Ã\\x92s ambiance. Second best thing was yummy ? food. We try buffet and buffet food was not disappointed us.\\nTest ?. ?? ?? ?? ?? ??\\nQuality ?. ??????????.\\nService: Staff was very professional and friendly.\\n\\nOverall experience was excellent.\\n\\nsubirmajumder85.wixsite.com'), ('Rated 5.0', 'RATED\\n  Great food and pleasant ambience. Expensive but Coll place to chill and relax......\\n\\nService is really very very good and friendly staff...\\n\\nFood : 5/5\\nService : 5/5\\nAmbience :5/5\\nOverall :5/5'), ('Rated 4.0', 'RATED\\n  Good ambience with tasty food.\\nCheese chilli paratha with Bhutta palak methi curry is a good combo.\\nLemon Chicken in the starters is a must try item.\\nEgg fried rice was also quite tasty.\\nIn the mocktails, recommend \"Alice in Junoon\". Do not miss it.'), ('Rated 4.0', 'RATED\\n  You canÃ\\x83Ã\\x83Ã\\x82Ã\\x82Ã\\x83Ã\\x82Ã\\x82Ã\\x92t go wrong with Jalsa. Never been a fan of their buffet and thus always order alacarteÃ\\x83Ã\\x83Ã\\x82Ã\\x82Ã\\x83Ã\\x82Ã\\x82Ã\\x92. Service at times can be on the slower side but food is worth the wait.'), ('Rated 5.0', 'RATED\\n  Overdelighted by the service and food provided at this place. A royal and ethnic atmosphere builds a strong essence of being in India and also the quality and taste of food is truly authentic. I would totally recommend to visit this place once.'), ('Rated 4.0', 'RATED\\n  The place is nice and comfortable. Food wise all jalea outlets maintain a good standard. The soya chaap was a standout dish. Clearly one of trademark dish as per me and a must try.\\n\\nThe only concern is the parking. It very congested and limited to just 5cars. The basement parking is very steep and makes it cumbersome'), ('Rated 4.0', 'RATED\\n  The place is nice and comfortable. Food wise all jalea outlets maintain a good standard. The soya chaap was a standout dish. Clearly one of trademark dish as per me and a must try.\\n\\nThe only concern is the parking. It very congested and limited to just 5cars. The basement parking is very steep and makes it cumbersome'), ('Rated 4.0', 'RATED\\n  The place is nice and comfortable. Food wise all jalea outlets maintain a good standard. The soya chaap was a standout dish. Clearly one of trademark dish as per me and a must try.\\n\\nThe only concern is the parking. It very congested and limited to just 5cars. The basement parking is very steep and makes it cumbersome')]",
         "[]",
         "Buffet",
         "Banashankari"
        ],
        [
         "1",
         "https://www.zomato.com/bangalore/spice-elephant-banashankari?context=eyJzZSI6eyJlIjpbIjU4Njk0IiwxODM3NTQ3NCwiNTkwOTAiLCIxODM4Mjk0NCIsIjE4MjI0Njc2IiwiNTkyODkiLCIxODM3MzM4NiJdLCJ0IjoiUmVzdGF1cmFudHMgaW4gQmFuYXNoYW5rYXJpIHNlcnZpbmcgQnVmZmV0In19",
         "2nd Floor, 80 Feet Road, Near Big Bazaar, 6th Block, Kathriguppe, 3rd Stage, Banashankari, Bangalore",
         "Spice Elephant",
         "Yes",
         "No",
         "4.1/5",
         "787",
         "080 41714161",
         "Banashankari",
         "Casual Dining",
         "Momos, Lunch Buffet, Chocolate Nirvana, Thai Green Curry, Paneer Tikka, Dum Biryani, Chicken Biryani",
         "Chinese, North Indian, Thai",
         "800",
         "[('Rated 4.0', 'RATED\\n  Had been here for dinner with family. Turned out to be a good choose suitable for all ages of people. Can try this place. We liked the most was their starters. Service is good. Prices are affordable. Will recommend this restaurant for early dinner. The place is little noisy.'), ('Rated 3.0', 'RATED\\n  The ambience is really nice, staff is courteous. The price is pretty high for the quantity, but overall the experience was fine. The quality of food is nice but nothing extraordinary. They also have buffet(only veg)'), ('Rated 3.0', 'RATED\\n  I felt good is little expensive for the quantity they serve and In terms of taste is decent. There is nothing much to talk about the ambience, regular casual dining restaurant where you can take your family for dinner or lunch. If they improve on that quantity or may be reduce the price a bit or may be improve the presentation of the food it might Manage to get more repeat customers.'), ('Rated 4.0', 'RATED\\n  I was looking for a quite place to spend some time with family and as well wanted to try some new place. Since I was at Banashankari I thought of trying this place. The place had good rating and was part of Zomato gold. So I decided to try this place. It was a delite to see a very friendly staff and food we ordered was very tasty as well.\\n\\nFood : 4/5\\nAmbience :3/5\\nFriendly staff : 4/5\\nPocket friendly : 4/5\\n\\nWill definitely visit again ??'), ('Rated 4.0', \"RATED\\n  Nice place to dine and has a good ambiance... Food is good and the serving time is also good..neat restrooms and we'll arranged tables....only thing is we went at 12.30 for lunch...and we noticed that they kept on playing one music back to back which was a little annoying...\\n\\n1. Chicken biriyani was so good and the chicken was fresh and tender ,rice was well cooked and overall was great\\n\\n2. Mutton biriyani was very very good and tasty and It had plenty of mutton pieces...\"), ('Rated 5.0', 'RATED\\n  This place just cool ? with good ambience and slow music and having delicious food is where you find peace. Staff very friendly and they have maintained the place so clean. The price is average for what the quantity of food they serve.\\nThom yum Thai soup was best and was treat to mouth, roti was soft with that vilaythi paneer was perfect to have for veggie foodies, in rice we tried burnt garlic fried rice with vegetables and it was the perfect thing to end.'), ('Rated 4.0', \"RATED\\n  Quiet a good family type of place.. too calm and usually we don't find crowd here.. panner curry and the deserts is what we had tasted.. they wer really good but we found it a little expensive\"), ('Rated 2.0', \"RATED\\n  I had a very bad experience here.\\nI don't know about a la carte, but the buffet was the worst. They gave us complementary drink and momos before the buffet. The momos were really good.\\nThe number of varieties first of all was very disappointing. The service was very slow. They refilled the food very slowly. The starters were okay. The main course also was so so. There was two gravies with roti and some rice with raitha. They had chats, sev puri and pan puri, which was average. But the desert was disappointing. They had gulab Jamun and chocolate cake. The jamun was not cooked inside. There was a cold blob of raw dough inside. The chocolate cake also was really hard and not that good.\\nOverall the buffet was a bad experience for me.\"), ('Rated 4.0', \"RATED\\n  Food: 8/10\\nAmbience:8/10\\nStaff:8/10\\nOne of the good places to try north Indian food...but depends on ur taste buds. Not everyone will like all the items here. Specially when u r particular abt sweet and spicy food.\\nThere's buffet available too.\\nWe had ordered paneer uttar dakshin and paneer kurchan..was amazing. The Gobi hara pyaz and mix veg were average.\"), ('Rated 3.0', 'RATED\\n  A decent place for a family lunch or dinner.. well arranged in a simple manner. Food was tasty and the crew was very helpful and understanding..'), ('Rated 4.0', \"RATED\\n  Great place to have a heavy lunch. Good service.\\nThe chicken biryani was undoubtedly one of the best I've had. Biriyani and Lassi would be the suggested combo. Buffet is the talk of the place, so try according to your appetite. A nice place.\"), ('Rated 4.0', 'RATED\\n  Its the one restaurant near katriguppe that i found was really good. Good variety of Chinese and thai dishes. Service is good and good place to hangout with family as its a peaceful place where noise is really less and good view.'), ('Rated 2.0', \"RATED\\n  Spice elephant soup SPL: almost manchow flavour soup.. Just above medium spicy\\n\\nLasooni fish tikka was awesome\\n\\nI don't remember the dessert name but I have attached the photo .. It had vanilla ice inside wafers... Wafer was hell hard, egg smell chewy ... Nightmare dessert !\\n\\nTable leg space was very bad... I was so uncomfortable, the whole time kept on adjusting my legs\\n\\nNo parking\\n\\nFor the taste felt this is too costly\"), ('Rated 4.0', 'RATED\\n  Zomato gold partner at this price. It was insane. They have really nice food. small place with very courteous staff and very cheap food for this ambience. Cost of soups is 80-100. Starters from 150-250. Main course 200-300. Cost for two was 800 for us.')]",
         "[]",
         "Buffet",
         "Banashankari"
        ],
        [
         "2",
         "https://www.zomato.com/SanchurroBangalore?context=eyJzZSI6eyJlIjpbIjU4Njk0IiwiMTgzNzU0NzQiLDU5MDkwLCIxODM4Mjk0NCIsIjE4MjI0Njc2IiwiNTkyODkiLCIxODM3MzM4NiJdLCJ0IjoiUmVzdGF1cmFudHMgaW4gQmFuYXNoYW5rYXJpIHNlcnZpbmcgQnVmZmV0In19",
         "1112, Next to KIMS Medical College, 17th Cross, 2nd Stage, Banashankari, Bangalore",
         "San Churro Cafe",
         "Yes",
         "No",
         "3.8/5",
         "918",
         "+91 9663487993",
         "Banashankari",
         "Cafe, Casual Dining",
         "Churros, Cannelloni, Minestrone Soup, Hot Chocolate, Pink Sauce Pasta, Salsa, Veg Supreme Pizza",
         "Cafe, Mexican, Italian",
         "800",
         "[('Rated 3.0', \"RATED\\n  Ambience is not that good enough and it's not a pocket friendly cafe and the quantity is not that good and desserts are too good enough ??..\"), ('Rated 3.0', \"RATED\\n \\nWent there for a quick bite with friends.\\nThe ambience had more of corporate feel. I would say it was unique.\\nTried nachos, pasta churros and lasagne.\\n\\nNachos were pathetic.( Seriously don't order)\\nPasta was okayish.\\nLasagne was good.\\nNutella churros were the best.\\nOverall an okayish experience!\\nPeace ??\"), ('Rated 4.0', \"RATED\\n  First of all, a big thanks to the staff of this Cafe. Very polite and courteous.\\n\\nI was there 15mins before their closing time. Without any discomfort or hesitation, the staff welcomed me with a warm smile and said they're still open, though they were preparing to close the cafe for the day.\\n\\nQuickly ordered the Thai green curry, which is served with rice. They got it for me within 10mins, hot and freshly made.\\n\\nIt was tasty with the taste of coconut milk. Not very spicy, it was mild spicy.\\n\\nI saw they had yummy looking dessert menu, should go there to try them out!\\n\\nA good spacious place to hang out for coffee, pastas, pizza or Thai food.\"), ('Rated 3.0', \"RATED\\n  A place for people who love churos. Otherwise it's a normal simple cafe like any other in town . Can go and spend the evening there . The positive being it is one of the better cafes in and around Banashankari and also the place is not very crowded .\"), ('Rated 3.0', 'RATED\\n  Have been visiting this place since years. The quality has gone down drastically. Food quality has become very average from good. Service is also very bad of late.'), ('Rated 1.0', 'RATED\\n  Really disappointed with the place.\\n\\nSeems like a old dusty store room stacked up with old sofas and chairs! The decor is soo disappointing that I cannot put it in words!\\nLastly the food was cherry on the cake to make it a complete worse meal.\\n\\nThis place is the last option you should ever consider.'), ('Rated 3.0', 'RATED\\n  Congested atmosphere due to smoke from kitchen\\nAmbience was k\\nService was k .\\nChuros was a new experience recommended\\nNear to kims . Parking was not der'), ('Rated 1.0', \"RATED\\n  Cockroaches !! I Repeat cockroaches!!Bakasura was disappointed.\\nBeing in Banashankari, being a gold outlet and nesting them? who can even think of that. Thankfully it wasn't over bakasura's plate. The ambience was last cleaned a decade back i guess. A cockroach just walked over our table. As it was alive, and well moving , the bakasura couldnt take a pic of it. Then the staff had to actually take it out of our table. Such ambience ? like what are you upto?\\n\\nBakasura disapproves. I dont even want to talk about the food.\"), ('Rated 4.0', 'RATED\\n  A nice place to hangout, this place looks professional and also cute. If anyone is trying churros for the first the time, this is the place to go. Cheesecake is pretty amazing too.\\nRecommended.'), ('Rated 4.0', 'RATED\\n  1) pizza mocktails shakes and churros really very good\\n2) staff good\\n3) ambience simple and nice good\\n4) location of San churro cafe very nice\\n5) over San churro cafe good....'), ('Rated 3.0', \"RATED\\n  One of my favourite places that I often visit in South bangalore , but quality has been reduced than before. Little unhappy with the food this time.\\nBut their churros never dissapointed me. Staff are too slow and do not respond easily.\\n\\nSoups:\\nMinestrone soup was like vegetable stock water with vegetables in it, not happy with it.\\n\\nChurros :\\nIt was great as usual. A must visit place if u love churros.\\n\\nStarters:\\n1. Africano panner -\\nIt was bit sweet and not happy with the dish!!\\n2. Loaded nachos -\\nThis happened to be their one of the best dishes, but now I take back my words. Very dissapointed with the dish.\\n\\nMain course:\\nsicilia pizza\\nPizza was too good, it's a must try dish.\\n\\nFinally I would recommend this place for churros and pizza .\\n\\nTaste : 6/10\\nAmbience :7/10\\nValue for money : 8/10\\n\\nOverall experience : 7.5/10\"), ('Rated 4.0', 'RATED\\n  Visited this place long before, place come to.notice with the decoration lights outside the cafe. We ordered churos, pizza and hot chocolate, all were good just I little priced more.'), ('Rated 4.0', 'RATED\\n  Spain pictures of Churros triggered Nostalgia about it , which led to Google search for Churro places in city , lucky we to get the result as San Churro cafe , we had an delectable churros here along with hot chocolate and Nachos ! Thanks for fulfilling our thirst of Spanish Churros !\\nFood : ???\\nChurros ???\\nHot Chocolate ?\\nNachos ??\\n\\nService : ??\\n\\nAmbiance : ?\\n\\nCleanliness : ??\\n\\nOne drawback : Store had some flies, I hope they take care of them for our next tour ?'), ('Rated 3.0', 'RATED\\n  Ã\\x83Ã\\x83Ã\\x82Ã\\x82Ã\\x83Ã\\x82Ã\\x82Ã\\x93Chocolaty and churroic experienceÃ\\x83Ã\\x83Ã\\x82Ã\\x82Ã\\x83Ã\\x82Ã\\x82Ã\\x94\\n\\nHit chocolate and churro with chocolate dip in the picture.\\n\\nMy first time at this restaurant and it has delivered in service, options as well as taste.'), ('Rated 4.0', 'RATED\\n  Though very sadly the place looks in need of retouching, but the food was great! Especially when it was super cold outside and we were super hungry, the staff was nice. We ordered the pink pasta and a pizza. Both of them were pretty good. Was really tempted to try their Churros but we were stuffed. Worth a visit and try for sure!'), ('Rated 3.0', \"RATED\\n  Churros, the restaurant's eponymous offering, has to be tried. They're a Mexican snack and served with chocolate sauce. Milkshakes are good too. The interior walls have murals and writings all over. Haven't tried the pizzas here but the cakes and pastries were pretty good.\"), ('Rated 3.0', \"RATED\\n  Honestly, have only tried parcels and that too only starters and mains - never tried desserts. So this review is based on starters and mains only. The quality wasn't all that great, was pretty average.\"), ('Rated 4.0', \"RATED\\n  Visited this place for the first time, recently. The ambience was pretty good. We ordered two 'churros for two'. Having churros for the first time ever, I was way too excited and judgmental. But swear to Lord, the churros were heavenly! The chocolate sauce was the actual chocolate sauce and not nutella xD We had taken the Cross Country Ranch pizza. It was a thin crust pizza loaded with veggies.\\nThe place is famous for churros (the name suggests so). I would love to visit again to try all the other items out :')\"), ('Rated 4.0', 'RATED\\n  I love the desserts more than anything here !Good place and well served !:)\\nWe dint like the nachos here , it was not that good as we expected !\\nExcept nachos almost all dish were quite good!'), ('Rated 2.0', \"RATED\\n  2nd time I have visited this place and I am surprised to see how it has declined. Churros was hard, pizza was pathetic, loaded nachos and masala Garlic bread were topped with cheese with MAYO! Yes mayonnese.. Soup has the bread crumbs in almost melted state, mocktails were average and our only Savior was pasta and caramel pudding... This place has high potential but let down by dull ambience, pretty slow and inattentive staff. Buffet price was listed as 399 but was charged 499, We still went ahead and took the deal to be very disappointed!! Most dishes were freshly cooked hence going with some starts else would rate them lower. I did not find a single person who seemed happy with their meal as moat complained about one thing or the other. That'll be my last visit San Churros.\")]",
         "[]",
         "Buffet",
         "Banashankari"
        ],
        [
         "3",
         "https://www.zomato.com/bangalore/addhuri-udupi-bhojana-banashankari?context=eyJzZSI6eyJlIjpbIjU4Njk0IiwiMTgzNzU0NzQiLCI1OTA5MCIsMTgzODI5NDQsIjE4MjI0Njc2IiwiNTkyODkiLCIxODM3MzM4NiJdLCJ0IjoiUmVzdGF1cmFudHMgaW4gQmFuYXNoYW5rYXJpIHNlcnZpbmcgQnVmZmV0In19",
         "1st Floor, Annakuteera, 3rd Stage, Banashankari, Bangalore",
         "Addhuri Udupi Bhojana",
         "No",
         "No",
         "3.7/5",
         "88",
         "+91 9620009302",
         "Banashankari",
         "Quick Bites",
         "Masala Dosa",
         "South Indian, North Indian",
         "300",
         "[('Rated 4.0', \"RATED\\n  Great food and proper Karnataka style full meals. Been there twice and was fully satisfied.. Will give 5 stars if it's well managed............\"), ('Rated 2.0', 'RATED\\n  Reached the place at 3pm on Saturday. Half of the items on the menu were over. What was annoying was is the food was cold. The taste was also very average. Only dosa and holige were good. There were very few people in the restaurant and the service was still very slow. The waiters were all standing in one corner and talking. Had to call them repeatedly.'), ('Rated 4.0', 'RATED\\n  Had been here, good food served and tasty,good place to go with freinds and family, should be first to get served well with all food. One of the good hotel there for this price.'), ('Rated 2.0', 'RATED\\n  How can a Udupi restaurant be so dirty.the floor the walls the waiters are all stained in food.Why cant they clean it? The floor even had decorative colour paper every where and lot of food.Now coming to the taste of the food- it was pretty decent for what they chargw.What upset us was the menu says they serve thambuli, two variety of rice etc but they were all over at 2.45 but they still charged us full amount.Lastly if u r ok to b seated with random people and adjust with their table manners( burrping etc) then tis place is decent for a quick veg udupi meals'), ('Rated 4.0', 'RATED\\n  Aadhuri Udupi bhojana is one of the best vegetarian hotel in and around Banashankari locality\\nwere we can enjoy the authentic south Karnataka style food.'), ('Rated 5.0', 'RATED\\n  One of the best restaurants for unlimited food. Price for one full unlimited meal is ?150 and the service is awesome here. If youÃ\\x83Ã\\x83Ã\\x82Ã\\x82Ã\\x83Ã\\x82Ã\\x82Ã\\x92re a costalian you will love the food served here.'), ('Rated 4.0', \"RATED\\n  Been here a couple of times. Highly satisfying on both the ocassions. Great food. Decent service. At price of 160 per person it is of a great value. The staff here serves in a traditional Mysore style dresses. The food is authentic Karnataka meals. I really liked the pineapple pickle/chutney. They serve some 4 varities of rice of which you shouldn't try all as you would already be full. Roti, Dosa were decent. In the deserts, Payasam& Holige were good.\\nI think it is one the must try places to try some authentic south food even if you have been to the likes of Kamath etc. this one is a little different. :)\"), ('Rated 5.0', 'RATED\\n  Very good restorent good south Indian food very nice all food s are good we spent good time and food in this hotel value of money we loved it'), ('Rated 3.5', 'RATED\\n  I went to this restaurant on Sunday afternoon.It was a bit crowded.\\n\\nIts located in the 1st floor Above anna kuteera kathriguppe\\n\\nYou need to take food coupon in the ground floor itself.\\nit was 160 rs.\\n\\nTaste wise it was good.\\nService was slow.\\nNothing exciting/different in the menu.\\nWhatever they serve its good.\\nWorth for money.'), ('Rated 5.0', 'RATED\\n  Awesome place , worth with price , quality , quantity , service , hygiene and discipline I loved it ???? wish there were more rating stars to give I give 100 on 5 for sure'), ('Rated 3.5', 'RATED\\n  Nice food, good ambiance, so many verity of food, this time i was in hurry so, next review will be detailed one. Its good to see all dishes at one place'), ('Rated 1.5', 'RATED\\n  The food was not satisfactory. Not one item served could be eaten again . Only advantage is the price but even that is not going to be enough to make me visit the place again . Dear Udupi staff people wouldnÃ\\x83Ã\\x83Ã\\x82Ã\\x82Ã\\x83Ã\\x82Ã\\x82Ã\\x92t mind if the food quality was better for a higher price and please get more fans so that people wonÃ\\x83Ã\\x83Ã\\x82Ã\\x82Ã\\x83Ã\\x82Ã\\x82Ã\\x92t have to deal with another disappointment of sweating while eating.'), ('Rated 5.0', 'RATED\\n  Excellent quality and taste, more variety of authentic south Indian food. Excellent service. Highly recommended. Worth the money we pay here.'), ('Rated 2.0', \"RATED\\n  I'm rating 2 only because of the large number of items they serve for the price they charge. While the taste is moderate, the biggest turn off is the poor service and totally unresponsive staff. They are either understaffed or poorly trained. I didn't get to taste a few items, thanks to their ever busy staff, and ended eating what was served. Please learn the crowd management from other peers like maiyya and roti ghar\"), ('Rated 5.0', 'RATED\\n  One of my colleagues suggested this place. Went there at 1 pm and place wasnt crowded. Ambience is decent and cool. A welcome drink \"appekai saru\" was served. Then started..typical \"baale yele uta\" . Diffrerent types of palya, kosambari and sides. Then came masala dosa, pulka,pulav, veg rice bath. Masala dosa was very very tasty. Service is bit fast as people will be coming, but they will make it slow if u tell them to. Then comes rice with sambar,rasam, daal,tambali. And yes, dont forget to eat holige,payasam and icecream. Service is very nice. One best thing is all of this comes in just 160 rs and its unlimited!!! What else you want!! A must visit place for south indian foodie!'), ('Rated 3.0', \"RATED\\n  Been here last week with high expectations based on few reviews. But utterly disappointed with the food quality & taste. I feel it's an overhyped place! There are many better places in the vicinity for Plantain leaf meal. There was too much of waiting & these staffs were too hurry in serving food & asking people to finish meal & leave quickly. I can understand there is a waiting and staffs should approach in a positive way. I will never go there again!\\n\\nbangaloreepicure.com\"), ('Rated 4.0', 'RATED\\n  I have a confession, being a south Indian I distaste south Indian food(not that I hate it, I don\\'t like it either).But still made up my mind on Sankaranti to have authentic south Indian food visited \"Adduri Udupi Bhojana\" because it was close to my place.I just had a look at the menu told myself that I can do it(I am not blessed with a tremendous appetite).welcomed with the mango soup followed by the wide variety of dishes served, I have developed the new love for Pongal(both sweet and Khara).I can still feel the taste of the ghee bursting in my mouth but it was\"kai holige\" that made my day, crisp and soft.not to forget food is served on a banana leaf that adds in more flavor and taste.waiters are attentive and responsive.The customer\\'s needs are monitored and addressed.so much variety for just 160Rs without compromising on quantity and quality and yes it is unlimited.This visit turned out to be a surprise package.'), ('Rated 3.5', 'RATED\\n  Food is good.\\nNo parking\\nAmbience is average\\nOverall its value for money if you looking for south Indian food.\\nPreferred the tiffin items......'), ('Rated 3.0', \"RATED\\n  Been here last week with high expectations based on few reviews. But utterly disappointed with the food quality & taste. I feel it's an overhyped place! There are many better places in the vicinity for Plantain leaf meal. There was too much of waiting & these staffs were too hurry in serving food & asking people to finish meal & leave quickly. I can understand there is a waiting and staffs should approach in a positive way. I will never go there again!\\n\\nbangaloreepicure.com\"), ('Rated 4.0', 'RATED\\n  I have a confession, being a south Indian I distaste south Indian food(not that I hate it, I don\\'t like it either).But still made up my mind on Sankaranti to have authentic south Indian food visited \"Adduri Udupi Bhojana\" because it was close to my place.I just had a look at the menu told myself that I can do it(I am not blessed with a tremendous appetite).welcomed with the mango soup followed by the wide variety of dishes served, I have developed the new love for Pongal(both sweet and Khara).I can still feel the taste of the ghee bursting in my mouth but it was\"kai holige\" that made my day, crisp and soft.not to forget food is served on a banana leaf that adds in more flavor and taste.waiters are attentive and responsive.The customer\\'s needs are monitored and addressed.so much variety for just 160Rs without compromising on quantity and quality and yes it is unlimited.This visit turned out to be a surprise package.'), ('Rated 3.5', 'RATED\\n  Food is good.\\nNo parking\\nAmbience is average\\nOverall its value for money if you looking for south Indian food.\\nPreferred the tiffin items......'), ('Rated 3.0', \"RATED\\n  Been here last week with high expectations based on few reviews. But utterly disappointed with the food quality & taste. I feel it's an overhyped place! There are many better places in the vicinity for Plantain leaf meal. There was too much of waiting & these staffs were too hurry in serving food & asking people to finish meal & leave quickly. I can understand there is a waiting and staffs should approach in a positive way. I will never go there again!\\n\\nbangaloreepicure.com\"), ('Rated 4.0', 'RATED\\n  I have a confession, being a south Indian I distaste south Indian food(not that I hate it, I don\\'t like it either).But still made up my mind on Sankaranti to have authentic south Indian food visited \"Adduri Udupi Bhojana\" because it was close to my place.I just had a look at the menu told myself that I can do it(I am not blessed with a tremendous appetite).welcomed with the mango soup followed by the wide variety of dishes served, I have developed the new love for Pongal(both sweet and Khara).I can still feel the taste of the ghee bursting in my mouth but it was\"kai holige\" that made my day, crisp and soft.not to forget food is served on a banana leaf that adds in more flavor and taste.waiters are attentive and responsive.The customer\\'s needs are monitored and addressed.so much variety for just 160Rs without compromising on quantity and quality and yes it is unlimited.This visit turned out to be a surprise package.'), ('Rated 3.5', 'RATED\\n  Food is good.\\nNo parking\\nAmbience is average\\nOverall its value for money if you looking for south Indian food.\\nPreferred the tiffin items......'), ('Rated 3.0', \"RATED\\n  Been here last week with high expectations based on few reviews. But utterly disappointed with the food quality & taste. I feel it's an overhyped place! There are many better places in the vicinity for Plantain leaf meal. There was too much of waiting & these staffs were too hurry in serving food & asking people to finish meal & leave quickly. I can understand there is a waiting and staffs should approach in a positive way. I will never go there again!\\n\\nbangaloreepicure.com\"), ('Rated 4.0', 'RATED\\n  I have a confession, being a south Indian I distaste south Indian food(not that I hate it, I don\\'t like it either).But still made up my mind on Sankaranti to have authentic south Indian food visited \"Adduri Udupi Bhojana\" because it was close to my place.I just had a look at the menu told myself that I can do it(I am not blessed with a tremendous appetite).welcomed with the mango soup followed by the wide variety of dishes served, I have developed the new love for Pongal(both sweet and Khara).I can still feel the taste of the ghee bursting in my mouth but it was\"kai holige\" that made my day, crisp and soft.not to forget food is served on a banana leaf that adds in more flavor and taste.waiters are attentive and responsive.The customer\\'s needs are monitored and addressed.so much variety for just 160Rs without compromising on quantity and quality and yes it is unlimited.This visit turned out to be a surprise package.'), ('Rated 3.5', 'RATED\\n  Food is good.\\nNo parking\\nAmbience is average\\nOverall its value for money if you looking for south Indian food.\\nPreferred the tiffin items......'), ('Rated 3.0', \"RATED\\n  Been here last week with high expectations based on few reviews. But utterly disappointed with the food quality & taste. I feel it's an overhyped place! There are many better places in the vicinity for Plantain leaf meal. There was too much of waiting & these staffs were too hurry in serving food & asking people to finish meal & leave quickly. I can understand there is a waiting and staffs should approach in a positive way. I will never go there again!\\n\\nbangaloreepicure.com\"), ('Rated 4.0', 'RATED\\n  I have a confession, being a south Indian I distaste south Indian food(not that I hate it, I don\\'t like it either).But still made up my mind on Sankaranti to have authentic south Indian food visited \"Adduri Udupi Bhojana\" because it was close to my place.I just had a look at the menu told myself that I can do it(I am not blessed with a tremendous appetite).welcomed with the mango soup followed by the wide variety of dishes served, I have developed the new love for Pongal(both sweet and Khara).I can still feel the taste of the ghee bursting in my mouth but it was\"kai holige\" that made my day, crisp and soft.not to forget food is served on a banana leaf that adds in more flavor and taste.waiters are attentive and responsive.The customer\\'s needs are monitored and addressed.so much variety for just 160Rs without compromising on quantity and quality and yes it is unlimited.This visit turned out to be a surprise package.'), ('Rated 3.5', 'RATED\\n  Food is good.\\nNo parking\\nAmbience is average\\nOverall its value for money if you looking for south Indian food.\\nPreferred the tiffin items......'), ('Rated 4.0', \"RATED\\n  Had been on a week night for an authentic south Indian food. I personally love being served on banyan leaf. The waiters are all dressed up in traditional Mysore attire wearing with a peta. The food was delicious and definitely worth it's price. The waiters are friendly and serve u well with a smile. The food is prepared without garlic which is a plus point attracting many senior customers.\"), ('Rated 3.5', \"RATED\\n  Food is good and enjoyed. With 150 Rs. is very nice.\\nNote: (It happen with us)\\n - If you going TWO people, you may need to share the table there. Its almost crowed.\\n - You have to sit where they ask, you can't choose even if all the table are empty. \\nJust wait, eat and come back.\"), ('Rated 5.0', 'RATED\\n  Excellent Ambience with delicious meals with 10-15 variety types. Worth paying for money and you can dine out if you are with more friends/relatives in home.'), ('Rated 4.5', 'RATED\\n  Very good and Unlimited . especially masala dosa . Service and ambience was also good. will visit again with friends . very very reasonble and wholesome food'), ('Rated 3.5', 'RATED\\n  Aaaa wt to tell, Unlimited food, food was like exactly like south indian marriage food, 2 soups, sides masala dosa, all were unlimited for just ?150, except ice cream in the end ?? they give a water bottle, and main thing is have patience to get place to sit..... ??,there is no parking place of this outlet, and difficult to park in front of the restaurants,')]",
         "[]",
         "Buffet",
         "Banashankari"
        ],
        [
         "4",
         "https://www.zomato.com/bangalore/grand-village-basavanagudi?context=eyJzZSI6eyJlIjpbIjU4Njk0IiwiMTgzNzU0NzQiLCI1OTA5MCIsIjE4MzgyOTQ0IiwxODIyNDY3NiwiNTkyODkiLCIxODM3MzM4NiJdLCJ0IjoiUmVzdGF1cmFudHMgaW4gQmFuYXNoYW5rYXJpIHNlcnZpbmcgQnVmZmV0In19",
         "10, 3rd Floor, Lakshmi Associates, Gandhi Bazaar Main Road, Above Reliance Trends, Basavanagudi, Bangalore",
         "Grand Village",
         "No",
         "No",
         "3.8/5",
         "166",
         "+91 8026612447\r\n+91 9901210005",
         "Basavanagudi",
         "Casual Dining",
         "Panipuri, Gol Gappe",
         "North Indian, Rajasthani",
         "600",
         "[('Rated 4.0', 'RATED\\n  Very good restaurant in neighbourhood. Buffet system is properly arranged. Variety of dishes along with garba dance and puppet show. Good spread of desserts. Live paratha / Kulcha making'), ('Rated 4.0', 'RATED\\n  Great service, overwhelming experience.\\n\\nOne of its kind experience. Grand village offers you some very desi food options.\\n\\nJaljeera, buttermilk, chat papdi, bhajiya, dosa, pav bhaji, noodles, and so many curries kulcha, roti, and garama garam Jalebies, gulab jamuns.\\n\\nBeautiful ambience of village. People serving with smiles and with full heart !!\\n\\nSo here goes my overall ratings :\\nFood : 4/5\\nAmbience : 3.5/5\\nService : 4/5\\nPocket friendly : 4/5')]",
         "[]",
         "Buffet",
         "Banashankari"
        ]
       ],
       "shape": {
        "columns": 17,
        "rows": 5
       }
      },
      "text/html": [
       "<div>\n",
       "<style scoped>\n",
       "    .dataframe tbody tr th:only-of-type {\n",
       "        vertical-align: middle;\n",
       "    }\n",
       "\n",
       "    .dataframe tbody tr th {\n",
       "        vertical-align: top;\n",
       "    }\n",
       "\n",
       "    .dataframe thead th {\n",
       "        text-align: right;\n",
       "    }\n",
       "</style>\n",
       "<table border=\"1\" class=\"dataframe\">\n",
       "  <thead>\n",
       "    <tr style=\"text-align: right;\">\n",
       "      <th></th>\n",
       "      <th>url</th>\n",
       "      <th>address</th>\n",
       "      <th>name</th>\n",
       "      <th>online_order</th>\n",
       "      <th>book_table</th>\n",
       "      <th>rate</th>\n",
       "      <th>votes</th>\n",
       "      <th>phone</th>\n",
       "      <th>location</th>\n",
       "      <th>rest_type</th>\n",
       "      <th>dish_liked</th>\n",
       "      <th>cuisines</th>\n",
       "      <th>approx_cost(for two people)</th>\n",
       "      <th>reviews_list</th>\n",
       "      <th>menu_item</th>\n",
       "      <th>listed_in(type)</th>\n",
       "      <th>listed_in(city)</th>\n",
       "    </tr>\n",
       "  </thead>\n",
       "  <tbody>\n",
       "    <tr>\n",
       "      <th>0</th>\n",
       "      <td>https://www.zomato.com/bangalore/jalsa-banasha...</td>\n",
       "      <td>942, 21st Main Road, 2nd Stage, Banashankari, ...</td>\n",
       "      <td>Jalsa</td>\n",
       "      <td>Yes</td>\n",
       "      <td>Yes</td>\n",
       "      <td>4.1/5</td>\n",
       "      <td>775</td>\n",
       "      <td>080 42297555\\r\\n+91 9743772233</td>\n",
       "      <td>Banashankari</td>\n",
       "      <td>Casual Dining</td>\n",
       "      <td>Pasta, Lunch Buffet, Masala Papad, Paneer Laja...</td>\n",
       "      <td>North Indian, Mughlai, Chinese</td>\n",
       "      <td>800</td>\n",
       "      <td>[('Rated 4.0', 'RATED\\n  A beautiful place to ...</td>\n",
       "      <td>[]</td>\n",
       "      <td>Buffet</td>\n",
       "      <td>Banashankari</td>\n",
       "    </tr>\n",
       "    <tr>\n",
       "      <th>1</th>\n",
       "      <td>https://www.zomato.com/bangalore/spice-elephan...</td>\n",
       "      <td>2nd Floor, 80 Feet Road, Near Big Bazaar, 6th ...</td>\n",
       "      <td>Spice Elephant</td>\n",
       "      <td>Yes</td>\n",
       "      <td>No</td>\n",
       "      <td>4.1/5</td>\n",
       "      <td>787</td>\n",
       "      <td>080 41714161</td>\n",
       "      <td>Banashankari</td>\n",
       "      <td>Casual Dining</td>\n",
       "      <td>Momos, Lunch Buffet, Chocolate Nirvana, Thai G...</td>\n",
       "      <td>Chinese, North Indian, Thai</td>\n",
       "      <td>800</td>\n",
       "      <td>[('Rated 4.0', 'RATED\\n  Had been here for din...</td>\n",
       "      <td>[]</td>\n",
       "      <td>Buffet</td>\n",
       "      <td>Banashankari</td>\n",
       "    </tr>\n",
       "    <tr>\n",
       "      <th>2</th>\n",
       "      <td>https://www.zomato.com/SanchurroBangalore?cont...</td>\n",
       "      <td>1112, Next to KIMS Medical College, 17th Cross...</td>\n",
       "      <td>San Churro Cafe</td>\n",
       "      <td>Yes</td>\n",
       "      <td>No</td>\n",
       "      <td>3.8/5</td>\n",
       "      <td>918</td>\n",
       "      <td>+91 9663487993</td>\n",
       "      <td>Banashankari</td>\n",
       "      <td>Cafe, Casual Dining</td>\n",
       "      <td>Churros, Cannelloni, Minestrone Soup, Hot Choc...</td>\n",
       "      <td>Cafe, Mexican, Italian</td>\n",
       "      <td>800</td>\n",
       "      <td>[('Rated 3.0', \"RATED\\n  Ambience is not that ...</td>\n",
       "      <td>[]</td>\n",
       "      <td>Buffet</td>\n",
       "      <td>Banashankari</td>\n",
       "    </tr>\n",
       "    <tr>\n",
       "      <th>3</th>\n",
       "      <td>https://www.zomato.com/bangalore/addhuri-udupi...</td>\n",
       "      <td>1st Floor, Annakuteera, 3rd Stage, Banashankar...</td>\n",
       "      <td>Addhuri Udupi Bhojana</td>\n",
       "      <td>No</td>\n",
       "      <td>No</td>\n",
       "      <td>3.7/5</td>\n",
       "      <td>88</td>\n",
       "      <td>+91 9620009302</td>\n",
       "      <td>Banashankari</td>\n",
       "      <td>Quick Bites</td>\n",
       "      <td>Masala Dosa</td>\n",
       "      <td>South Indian, North Indian</td>\n",
       "      <td>300</td>\n",
       "      <td>[('Rated 4.0', \"RATED\\n  Great food and proper...</td>\n",
       "      <td>[]</td>\n",
       "      <td>Buffet</td>\n",
       "      <td>Banashankari</td>\n",
       "    </tr>\n",
       "    <tr>\n",
       "      <th>4</th>\n",
       "      <td>https://www.zomato.com/bangalore/grand-village...</td>\n",
       "      <td>10, 3rd Floor, Lakshmi Associates, Gandhi Baza...</td>\n",
       "      <td>Grand Village</td>\n",
       "      <td>No</td>\n",
       "      <td>No</td>\n",
       "      <td>3.8/5</td>\n",
       "      <td>166</td>\n",
       "      <td>+91 8026612447\\r\\n+91 9901210005</td>\n",
       "      <td>Basavanagudi</td>\n",
       "      <td>Casual Dining</td>\n",
       "      <td>Panipuri, Gol Gappe</td>\n",
       "      <td>North Indian, Rajasthani</td>\n",
       "      <td>600</td>\n",
       "      <td>[('Rated 4.0', 'RATED\\n  Very good restaurant ...</td>\n",
       "      <td>[]</td>\n",
       "      <td>Buffet</td>\n",
       "      <td>Banashankari</td>\n",
       "    </tr>\n",
       "  </tbody>\n",
       "</table>\n",
       "</div>"
      ],
      "text/plain": [
       "                                                 url  \\\n",
       "0  https://www.zomato.com/bangalore/jalsa-banasha...   \n",
       "1  https://www.zomato.com/bangalore/spice-elephan...   \n",
       "2  https://www.zomato.com/SanchurroBangalore?cont...   \n",
       "3  https://www.zomato.com/bangalore/addhuri-udupi...   \n",
       "4  https://www.zomato.com/bangalore/grand-village...   \n",
       "\n",
       "                                             address                   name  \\\n",
       "0  942, 21st Main Road, 2nd Stage, Banashankari, ...                  Jalsa   \n",
       "1  2nd Floor, 80 Feet Road, Near Big Bazaar, 6th ...         Spice Elephant   \n",
       "2  1112, Next to KIMS Medical College, 17th Cross...        San Churro Cafe   \n",
       "3  1st Floor, Annakuteera, 3rd Stage, Banashankar...  Addhuri Udupi Bhojana   \n",
       "4  10, 3rd Floor, Lakshmi Associates, Gandhi Baza...          Grand Village   \n",
       "\n",
       "  online_order book_table   rate  votes                             phone  \\\n",
       "0          Yes        Yes  4.1/5    775    080 42297555\\r\\n+91 9743772233   \n",
       "1          Yes         No  4.1/5    787                      080 41714161   \n",
       "2          Yes         No  3.8/5    918                    +91 9663487993   \n",
       "3           No         No  3.7/5     88                    +91 9620009302   \n",
       "4           No         No  3.8/5    166  +91 8026612447\\r\\n+91 9901210005   \n",
       "\n",
       "       location            rest_type  \\\n",
       "0  Banashankari        Casual Dining   \n",
       "1  Banashankari        Casual Dining   \n",
       "2  Banashankari  Cafe, Casual Dining   \n",
       "3  Banashankari          Quick Bites   \n",
       "4  Basavanagudi        Casual Dining   \n",
       "\n",
       "                                          dish_liked  \\\n",
       "0  Pasta, Lunch Buffet, Masala Papad, Paneer Laja...   \n",
       "1  Momos, Lunch Buffet, Chocolate Nirvana, Thai G...   \n",
       "2  Churros, Cannelloni, Minestrone Soup, Hot Choc...   \n",
       "3                                        Masala Dosa   \n",
       "4                                Panipuri, Gol Gappe   \n",
       "\n",
       "                         cuisines approx_cost(for two people)  \\\n",
       "0  North Indian, Mughlai, Chinese                         800   \n",
       "1     Chinese, North Indian, Thai                         800   \n",
       "2          Cafe, Mexican, Italian                         800   \n",
       "3      South Indian, North Indian                         300   \n",
       "4        North Indian, Rajasthani                         600   \n",
       "\n",
       "                                        reviews_list menu_item  \\\n",
       "0  [('Rated 4.0', 'RATED\\n  A beautiful place to ...        []   \n",
       "1  [('Rated 4.0', 'RATED\\n  Had been here for din...        []   \n",
       "2  [('Rated 3.0', \"RATED\\n  Ambience is not that ...        []   \n",
       "3  [('Rated 4.0', \"RATED\\n  Great food and proper...        []   \n",
       "4  [('Rated 4.0', 'RATED\\n  Very good restaurant ...        []   \n",
       "\n",
       "  listed_in(type) listed_in(city)  \n",
       "0          Buffet    Banashankari  \n",
       "1          Buffet    Banashankari  \n",
       "2          Buffet    Banashankari  \n",
       "3          Buffet    Banashankari  \n",
       "4          Buffet    Banashankari  "
      ]
     },
     "execution_count": 9,
     "metadata": {},
     "output_type": "execute_result"
    }
   ],
   "source": [
    "data.head()"
   ]
  },
  {
   "cell_type": "code",
   "execution_count": 45,
   "id": "a5a31b81",
   "metadata": {},
   "outputs": [
    {
     "data": {
      "text/plain": [
       "(51717, 17)"
      ]
     },
     "execution_count": 45,
     "metadata": {},
     "output_type": "execute_result"
    }
   ],
   "source": [
    "data.shape"
   ]
  },
  {
   "cell_type": "code",
   "execution_count": 46,
   "id": "0a29e892",
   "metadata": {},
   "outputs": [
    {
     "name": "stdout",
     "output_type": "stream",
     "text": [
      "<class 'pandas.core.frame.DataFrame'>\n",
      "RangeIndex: 51717 entries, 0 to 51716\n",
      "Data columns (total 17 columns):\n",
      " #   Column                       Non-Null Count  Dtype \n",
      "---  ------                       --------------  ----- \n",
      " 0   url                          51717 non-null  object\n",
      " 1   address                      51717 non-null  object\n",
      " 2   name                         51717 non-null  object\n",
      " 3   online_order                 51717 non-null  object\n",
      " 4   book_table                   51717 non-null  object\n",
      " 5   rate                         43942 non-null  object\n",
      " 6   votes                        51717 non-null  int64 \n",
      " 7   phone                        50509 non-null  object\n",
      " 8   location                     51696 non-null  object\n",
      " 9   rest_type                    51490 non-null  object\n",
      " 10  dish_liked                   23639 non-null  object\n",
      " 11  cuisines                     51672 non-null  object\n",
      " 12  approx_cost(for two people)  51371 non-null  object\n",
      " 13  reviews_list                 51717 non-null  object\n",
      " 14  menu_item                    51717 non-null  object\n",
      " 15  listed_in(type)              51717 non-null  object\n",
      " 16  listed_in(city)              51717 non-null  object\n",
      "dtypes: int64(1), object(16)\n",
      "memory usage: 6.7+ MB\n"
     ]
    }
   ],
   "source": [
    "data.info()"
   ]
  },
  {
   "cell_type": "markdown",
   "id": "821e921e",
   "metadata": {},
   "source": [
    "Deleting redundant columns"
   ]
  },
  {
   "cell_type": "code",
   "execution_count": 47,
   "id": "30dc2139",
   "metadata": {},
   "outputs": [
    {
     "data": {
      "text/plain": [
       "Index(['url', 'address', 'name', 'online_order', 'book_table', 'rate', 'votes',\n",
       "       'phone', 'location', 'rest_type', 'dish_liked', 'cuisines',\n",
       "       'approx_cost(for two people)', 'reviews_list', 'menu_item',\n",
       "       'listed_in(type)', 'listed_in(city)'],\n",
       "      dtype='object')"
      ]
     },
     "execution_count": 47,
     "metadata": {},
     "output_type": "execute_result"
    }
   ],
   "source": [
    "data.columns"
   ]
  },
  {
   "cell_type": "code",
   "execution_count": 48,
   "id": "2ecd2428",
   "metadata": {},
   "outputs": [],
   "source": [
    "col_to_keep = ['name', 'location','online_order', 'book_table', 'rate','dish_liked','approx_cost(for two people)']\n",
    "col_to_drop = ['url', 'address', 'votes','phone', 'rest_type','cuisines','reviews_list', 'menu_item','listed_in(type)', 'listed_in(city)']"
   ]
  },
  {
   "cell_type": "code",
   "execution_count": 16,
   "id": "d8fdb8b7",
   "metadata": {},
   "outputs": [
    {
     "data": {
      "text/plain": [
       "7"
      ]
     },
     "execution_count": 16,
     "metadata": {},
     "output_type": "execute_result"
    }
   ],
   "source": [
    "len(col_to_keep)"
   ]
  },
  {
   "cell_type": "code",
   "execution_count": 17,
   "id": "ecda5128",
   "metadata": {},
   "outputs": [
    {
     "data": {
      "text/plain": [
       "10"
      ]
     },
     "execution_count": 17,
     "metadata": {},
     "output_type": "execute_result"
    }
   ],
   "source": [
    "len(col_to_drop)"
   ]
  },
  {
   "cell_type": "code",
   "execution_count": 49,
   "id": "281da9be",
   "metadata": {},
   "outputs": [],
   "source": [
    "#1st method- Filtering\n",
    "data = data[col_to_keep]"
   ]
  },
  {
   "cell_type": "code",
   "execution_count": 21,
   "id": "ab8da628",
   "metadata": {},
   "outputs": [],
   "source": [
    "#2nd method - removing unnecessry column\n",
    "#data.drop(columns= col_to_drop)\n"
   ]
  },
  {
   "cell_type": "code",
   "execution_count": 50,
   "id": "85eb2090",
   "metadata": {},
   "outputs": [
    {
     "data": {
      "application/vnd.microsoft.datawrangler.viewer.v0+json": {
       "columns": [
        {
         "name": "index",
         "rawType": "int64",
         "type": "integer"
        },
        {
         "name": "name",
         "rawType": "object",
         "type": "string"
        },
        {
         "name": "location",
         "rawType": "object",
         "type": "unknown"
        },
        {
         "name": "online_order",
         "rawType": "object",
         "type": "string"
        },
        {
         "name": "book_table",
         "rawType": "object",
         "type": "string"
        },
        {
         "name": "rate",
         "rawType": "object",
         "type": "unknown"
        },
        {
         "name": "dish_liked",
         "rawType": "object",
         "type": "unknown"
        },
        {
         "name": "approx_cost(for two people)",
         "rawType": "object",
         "type": "unknown"
        }
       ],
       "ref": "96cf3c65-39c3-49d7-9290-867d6caca953",
       "rows": [
        [
         "0",
         "Jalsa",
         "Banashankari",
         "Yes",
         "Yes",
         "4.1/5",
         "Pasta, Lunch Buffet, Masala Papad, Paneer Lajawab, Tomato Shorba, Dum Biryani, Sweet Corn Soup",
         "800"
        ],
        [
         "1",
         "Spice Elephant",
         "Banashankari",
         "Yes",
         "No",
         "4.1/5",
         "Momos, Lunch Buffet, Chocolate Nirvana, Thai Green Curry, Paneer Tikka, Dum Biryani, Chicken Biryani",
         "800"
        ],
        [
         "2",
         "San Churro Cafe",
         "Banashankari",
         "Yes",
         "No",
         "3.8/5",
         "Churros, Cannelloni, Minestrone Soup, Hot Chocolate, Pink Sauce Pasta, Salsa, Veg Supreme Pizza",
         "800"
        ],
        [
         "3",
         "Addhuri Udupi Bhojana",
         "Banashankari",
         "No",
         "No",
         "3.7/5",
         "Masala Dosa",
         "300"
        ],
        [
         "4",
         "Grand Village",
         "Basavanagudi",
         "No",
         "No",
         "3.8/5",
         "Panipuri, Gol Gappe",
         "600"
        ],
        [
         "5",
         "Timepass Dinner",
         "Basavanagudi",
         "Yes",
         "No",
         "3.8/5",
         "Onion Rings, Pasta, Kadhai Paneer, Salads, Salad, Roti, Jeera Rice",
         "600"
        ],
        [
         "6",
         "Rosewood International Hotel - Bar & Restaurant",
         "Mysore Road",
         "No",
         "No",
         "3.6/5",
         null,
         "800"
        ],
        [
         "7",
         "Onesta",
         "Banashankari",
         "Yes",
         "Yes",
         "4.6/5",
         "Farmhouse Pizza, Chocolate Banana, Virgin Mojito, Pasta, Paneer Tikka, Lime Soda, Prawn Pizza",
         "600"
        ],
        [
         "8",
         "Penthouse Cafe",
         "Banashankari",
         "Yes",
         "No",
         "4.0/5",
         "Pizza, Mocktails, Coffee, Nachos, Salad, Pasta, Sandwiches",
         "700"
        ],
        [
         "9",
         "Smacznego",
         "Banashankari",
         "Yes",
         "No",
         "4.2/5",
         "Waffles, Pasta, Coleslaw Sandwich, Choco Waffle, Tacos, Momos, Cheese Nachos",
         "550"
        ],
        [
         "10",
         "CafÃÂÃÂÃÂÃÂÃÂÃÂÃÂÃÂ© Down The Alley",
         "Banashankari",
         "Yes",
         "No",
         "4.1/5",
         "Waffles, Pasta, Crispy Chicken, Honey Chilli Chicken, Sandwich, Coffee, Crepe",
         "500"
        ],
        [
         "11",
         "Cafe Shuffle",
         "Banashankari",
         "Yes",
         "Yes",
         "4.2/5",
         "Mocktails, Peri Fries, Lasagne, Pizza, Chicken Bbq Wings, Virgin Mojito, Nachos",
         "600"
        ],
        [
         "12",
         "The Coffee Shack",
         "Banashankari",
         "Yes",
         "Yes",
         "4.2/5",
         "Coffee, Spaghetti, Pancakes, Nachos, Pasta, Sandwich, Garlic Bread",
         "500"
        ],
        [
         "13",
         "Caf-Eleven",
         "Banashankari",
         "No",
         "No",
         "4.0/5",
         "Sandwich, Omelette, Ice Tea, Virgin Mojito, Hot Chocolate, Pasta Arrabiata, Hazelnut Cappuccino",
         "450"
        ],
        [
         "14",
         "San Churro Cafe",
         "Banashankari",
         "Yes",
         "No",
         "3.8/5",
         "Churros, Cannelloni, Minestrone Soup, Hot Chocolate, Pink Sauce Pasta, Salsa, Veg Supreme Pizza",
         "800"
        ],
        [
         "15",
         "Cafe Vivacity",
         "Banashankari",
         "Yes",
         "No",
         "3.8/5",
         "Garlic Bread, Burgers, Sandwiches, Pizza, Hot Chocolate Fudge, Waffles, Potato Wedges",
         "650"
        ],
        [
         "16",
         "Catch-up-ino",
         "Banashankari",
         "Yes",
         "No",
         "3.9/5",
         "Momos, Mushroom Bruschettas, Jalapeno Cheeseballs, Pasta, Red Velvet Shake, Red Velvet Milkshake, Maggi",
         "800"
        ],
        [
         "17",
         "Kirthi's Biryani",
         "Banashankari",
         "Yes",
         "No",
         "3.8/5",
         "Pasta, Gelato, Garlic Bread, Mojito, Nachos, Paneer Pizza, Mocktails",
         "700"
        ],
        [
         "18",
         "T3H Cafe",
         "Banashankari",
         "No",
         "No",
         "3.9/5",
         "Cheese Maggi, Peri Peri Fries, Pasta Arrabiata",
         "300"
        ],
        [
         "19",
         "360 Atoms Restaurant And Cafe",
         "Banashankari",
         "Yes",
         "No",
         "3.1/5",
         null,
         "400"
        ],
        [
         "20",
         "The Vintage Cafe",
         "Banashankari",
         "Yes",
         "No",
         "3.0/5",
         "Burgers, Caramel Milkshake, Iced Coffee, Iced Tea",
         "400"
        ],
        [
         "21",
         "Woodee Pizza",
         "Banashankari",
         "Yes",
         "No",
         "3.7/5",
         "Pizza, Garlic Bread",
         "500"
        ],
        [
         "22",
         "Cafe Coffee Day",
         "Banashankari",
         "No",
         "No",
         "3.6/5",
         null,
         "900"
        ],
        [
         "23",
         "My Tea House",
         "Banashankari",
         "Yes",
         "No",
         "3.6/5",
         "Pasta, Iced Tea",
         "600"
        ],
        [
         "24",
         "Hide Out Cafe",
         "Banashankari",
         "No",
         "No",
         "3.7/5",
         null,
         "300"
        ],
        [
         "25",
         "CAFE NOVA",
         "Banashankari",
         "No",
         "No",
         "3.2/5",
         null,
         "600"
        ],
        [
         "26",
         "Coffee Tindi",
         "Banashankari",
         "Yes",
         "No",
         "3.8/5",
         null,
         "200"
        ],
        [
         "27",
         "Sea Green Cafe",
         "Banashankari",
         "No",
         "No",
         "3.3/5",
         null,
         "500"
        ],
        [
         "28",
         "Cuppa",
         "Banashankari",
         "No",
         "No",
         "3.3/5",
         null,
         "550"
        ],
        [
         "29",
         "Srinathji's Cafe",
         "Basavanagudi",
         "No",
         "No",
         "3.8/5",
         "Paratha, Sandwich, Chilli Idli, Noodles, Sandwiches, Lime Soda",
         "550"
        ],
        [
         "30",
         "Redberrys",
         "Basavanagudi",
         "Yes",
         "No",
         "4.0/5",
         "Pizza, Fries, Anjeer Ice Cream, Sandwiches, Gelato, Burgers, Kesar Badam",
         "600"
        ],
        [
         "31",
         "Foodiction",
         "Banashankari",
         "Yes",
         "No",
         "2.8/5",
         "Burgers, Lassi, Chicken Grill, Naan, Momos, Chicken Burger, Biryani",
         "500"
        ],
        [
         "32",
         "Sweet Truth",
         "Banashankari",
         "Yes",
         "No",
         "3.9/5",
         null,
         "500"
        ],
        [
         "33",
         "Ovenstory Pizza",
         "Banashankari",
         "Yes",
         "No",
         "3.9/5",
         "Paneer Tikka, Garlic Bread, Thin Crust Pizza, Falafel, Veggie Pizza",
         "750"
        ],
        [
         "34",
         "Faasos",
         "Banashankari",
         "Yes",
         "No",
         "4.2/5",
         "Rolls, Veggie Wrap, Chocolate Fantasy, Rice Bowls, Chicken Rice, Paneer Makhanwala, Chicken Tikka Wrap",
         "500"
        ],
        [
         "35",
         "Behrouz Biryani",
         "Banashankari",
         "Yes",
         "No",
         "3.9/5",
         "Raita, Gulab Jamun, Paneer Biryani, Vegetable Biryani, Gosht Dum Biryani, Chicken Biryani, Murgh Biryani",
         "650"
        ],
        [
         "36",
         "Fast And Fresh",
         "Banashankari",
         "Yes",
         "No",
         "2.8/5",
         null,
         "400"
        ],
        [
         "37",
         "Szechuan Dragon",
         "Banashankari",
         "Yes",
         "No",
         "4.2/5",
         "Noodles, Momos, Veg Manchow Soup, Kung Pao Chicken, Chicken Lollipop, Chop Suey, Dragon Chicken",
         "600"
        ],
        [
         "38",
         "Empire Restaurant",
         "Jayanagar",
         "Yes",
         "No",
         "4.4/5",
         "Chicken Tikka Masala, Mutton Keema Dosa, Mutton Biryani, Raan Biryani, Brain Fry, Chicken Grill, Ghee Rice",
         "750"
        ],
        [
         "39",
         "Maruthi Davangere Benne Dosa",
         "Banashankari",
         "Yes",
         "No",
         "4.0/5",
         null,
         "150"
        ],
        [
         "40",
         "Chaatimes",
         "Basavanagudi",
         "Yes",
         "No",
         "3.8/5",
         "Dabeli, Faluda, Masala Poori, Sandwiches, Tokri Chaat, Pav Bhaji, Dahipuri",
         "200"
        ],
        [
         "41",
         "Havyaka Mess",
         "Banashankari",
         "No",
         "No",
         "3.9/5",
         null,
         "300"
        ],
        [
         "42",
         "McDonald's",
         "Banashankari",
         "Yes",
         "No",
         "3.9/5",
         "Burgers, Fries, Hot Chocolate",
         "500"
        ],
        [
         "43",
         "Domino's Pizza",
         "Banashankari",
         "Yes",
         "No",
         "3.9/5",
         "Pane Pizza, Lava Cake, Pasta, Stuffed Garlic Bread, Chocolava Cake, Tacos",
         "800"
        ],
        [
         "44",
         "Onesta",
         "Banashankari",
         "Yes",
         "Yes",
         "4.6/5",
         "Farmhouse Pizza, Chocolate Banana, Virgin Mojito, Pasta, Paneer Tikka, Lime Soda, Prawn Pizza",
         "600"
        ],
        [
         "45",
         "Hotboxit",
         "Banashankari",
         "No",
         "No",
         "3.8/5",
         "Prompt Service",
         "400"
        ],
        [
         "46",
         "Kitchen Garden",
         "Kumaraswamy Layout",
         "Yes",
         "No",
         "3.6/5",
         "Biryani",
         "300"
        ],
        [
         "47",
         "Recipe",
         "Kumaraswamy Layout",
         "Yes",
         "No",
         "4.0/5",
         "Butter Chicken, Noodles, Thali, Biryani",
         "450"
        ],
        [
         "48",
         "Beijing Bites",
         "Rajarajeshwari Nagar",
         "Yes",
         "No",
         "3.7/5",
         "Momos, Dragon Chicken, Hakka Noodles, Chowmein, Chop Suey, Chilli Garlic Noodles, Garlic Rice",
         "850"
        ],
        [
         "49",
         "Tasty Bytes",
         "Kumaraswamy Layout",
         "Yes",
         "No",
         "3.1/5",
         "Paratha, Pasta",
         "300"
        ]
       ],
       "shape": {
        "columns": 7,
        "rows": 51717
       }
      },
      "text/html": [
       "<div>\n",
       "<style scoped>\n",
       "    .dataframe tbody tr th:only-of-type {\n",
       "        vertical-align: middle;\n",
       "    }\n",
       "\n",
       "    .dataframe tbody tr th {\n",
       "        vertical-align: top;\n",
       "    }\n",
       "\n",
       "    .dataframe thead th {\n",
       "        text-align: right;\n",
       "    }\n",
       "</style>\n",
       "<table border=\"1\" class=\"dataframe\">\n",
       "  <thead>\n",
       "    <tr style=\"text-align: right;\">\n",
       "      <th></th>\n",
       "      <th>name</th>\n",
       "      <th>location</th>\n",
       "      <th>online_order</th>\n",
       "      <th>book_table</th>\n",
       "      <th>rate</th>\n",
       "      <th>dish_liked</th>\n",
       "      <th>approx_cost(for two people)</th>\n",
       "    </tr>\n",
       "  </thead>\n",
       "  <tbody>\n",
       "    <tr>\n",
       "      <th>0</th>\n",
       "      <td>Jalsa</td>\n",
       "      <td>Banashankari</td>\n",
       "      <td>Yes</td>\n",
       "      <td>Yes</td>\n",
       "      <td>4.1/5</td>\n",
       "      <td>Pasta, Lunch Buffet, Masala Papad, Paneer Laja...</td>\n",
       "      <td>800</td>\n",
       "    </tr>\n",
       "    <tr>\n",
       "      <th>1</th>\n",
       "      <td>Spice Elephant</td>\n",
       "      <td>Banashankari</td>\n",
       "      <td>Yes</td>\n",
       "      <td>No</td>\n",
       "      <td>4.1/5</td>\n",
       "      <td>Momos, Lunch Buffet, Chocolate Nirvana, Thai G...</td>\n",
       "      <td>800</td>\n",
       "    </tr>\n",
       "    <tr>\n",
       "      <th>2</th>\n",
       "      <td>San Churro Cafe</td>\n",
       "      <td>Banashankari</td>\n",
       "      <td>Yes</td>\n",
       "      <td>No</td>\n",
       "      <td>3.8/5</td>\n",
       "      <td>Churros, Cannelloni, Minestrone Soup, Hot Choc...</td>\n",
       "      <td>800</td>\n",
       "    </tr>\n",
       "    <tr>\n",
       "      <th>3</th>\n",
       "      <td>Addhuri Udupi Bhojana</td>\n",
       "      <td>Banashankari</td>\n",
       "      <td>No</td>\n",
       "      <td>No</td>\n",
       "      <td>3.7/5</td>\n",
       "      <td>Masala Dosa</td>\n",
       "      <td>300</td>\n",
       "    </tr>\n",
       "    <tr>\n",
       "      <th>4</th>\n",
       "      <td>Grand Village</td>\n",
       "      <td>Basavanagudi</td>\n",
       "      <td>No</td>\n",
       "      <td>No</td>\n",
       "      <td>3.8/5</td>\n",
       "      <td>Panipuri, Gol Gappe</td>\n",
       "      <td>600</td>\n",
       "    </tr>\n",
       "    <tr>\n",
       "      <th>...</th>\n",
       "      <td>...</td>\n",
       "      <td>...</td>\n",
       "      <td>...</td>\n",
       "      <td>...</td>\n",
       "      <td>...</td>\n",
       "      <td>...</td>\n",
       "      <td>...</td>\n",
       "    </tr>\n",
       "    <tr>\n",
       "      <th>51712</th>\n",
       "      <td>Best Brews - Four Points by Sheraton Bengaluru...</td>\n",
       "      <td>Whitefield</td>\n",
       "      <td>No</td>\n",
       "      <td>No</td>\n",
       "      <td>3.6 /5</td>\n",
       "      <td>NaN</td>\n",
       "      <td>1,500</td>\n",
       "    </tr>\n",
       "    <tr>\n",
       "      <th>51713</th>\n",
       "      <td>Vinod Bar And Restaurant</td>\n",
       "      <td>Whitefield</td>\n",
       "      <td>No</td>\n",
       "      <td>No</td>\n",
       "      <td>NaN</td>\n",
       "      <td>NaN</td>\n",
       "      <td>600</td>\n",
       "    </tr>\n",
       "    <tr>\n",
       "      <th>51714</th>\n",
       "      <td>Plunge - Sheraton Grand Bengaluru Whitefield H...</td>\n",
       "      <td>Whitefield</td>\n",
       "      <td>No</td>\n",
       "      <td>No</td>\n",
       "      <td>NaN</td>\n",
       "      <td>NaN</td>\n",
       "      <td>2,000</td>\n",
       "    </tr>\n",
       "    <tr>\n",
       "      <th>51715</th>\n",
       "      <td>Chime - Sheraton Grand Bengaluru Whitefield Ho...</td>\n",
       "      <td>ITPL Main Road, Whitefield</td>\n",
       "      <td>No</td>\n",
       "      <td>Yes</td>\n",
       "      <td>4.3 /5</td>\n",
       "      <td>Cocktails, Pizza, Buttermilk</td>\n",
       "      <td>2,500</td>\n",
       "    </tr>\n",
       "    <tr>\n",
       "      <th>51716</th>\n",
       "      <td>The Nest - The Den Bengaluru</td>\n",
       "      <td>ITPL Main Road, Whitefield</td>\n",
       "      <td>No</td>\n",
       "      <td>No</td>\n",
       "      <td>3.4 /5</td>\n",
       "      <td>NaN</td>\n",
       "      <td>1,500</td>\n",
       "    </tr>\n",
       "  </tbody>\n",
       "</table>\n",
       "<p>51717 rows × 7 columns</p>\n",
       "</div>"
      ],
      "text/plain": [
       "                                                    name  \\\n",
       "0                                                  Jalsa   \n",
       "1                                         Spice Elephant   \n",
       "2                                        San Churro Cafe   \n",
       "3                                  Addhuri Udupi Bhojana   \n",
       "4                                          Grand Village   \n",
       "...                                                  ...   \n",
       "51712  Best Brews - Four Points by Sheraton Bengaluru...   \n",
       "51713                           Vinod Bar And Restaurant   \n",
       "51714  Plunge - Sheraton Grand Bengaluru Whitefield H...   \n",
       "51715  Chime - Sheraton Grand Bengaluru Whitefield Ho...   \n",
       "51716                       The Nest - The Den Bengaluru   \n",
       "\n",
       "                         location online_order book_table    rate  \\\n",
       "0                    Banashankari          Yes        Yes   4.1/5   \n",
       "1                    Banashankari          Yes         No   4.1/5   \n",
       "2                    Banashankari          Yes         No   3.8/5   \n",
       "3                    Banashankari           No         No   3.7/5   \n",
       "4                    Basavanagudi           No         No   3.8/5   \n",
       "...                           ...          ...        ...     ...   \n",
       "51712                  Whitefield           No         No  3.6 /5   \n",
       "51713                  Whitefield           No         No     NaN   \n",
       "51714                  Whitefield           No         No     NaN   \n",
       "51715  ITPL Main Road, Whitefield           No        Yes  4.3 /5   \n",
       "51716  ITPL Main Road, Whitefield           No         No  3.4 /5   \n",
       "\n",
       "                                              dish_liked  \\\n",
       "0      Pasta, Lunch Buffet, Masala Papad, Paneer Laja...   \n",
       "1      Momos, Lunch Buffet, Chocolate Nirvana, Thai G...   \n",
       "2      Churros, Cannelloni, Minestrone Soup, Hot Choc...   \n",
       "3                                            Masala Dosa   \n",
       "4                                    Panipuri, Gol Gappe   \n",
       "...                                                  ...   \n",
       "51712                                                NaN   \n",
       "51713                                                NaN   \n",
       "51714                                                NaN   \n",
       "51715                       Cocktails, Pizza, Buttermilk   \n",
       "51716                                                NaN   \n",
       "\n",
       "      approx_cost(for two people)  \n",
       "0                             800  \n",
       "1                             800  \n",
       "2                             800  \n",
       "3                             300  \n",
       "4                             600  \n",
       "...                           ...  \n",
       "51712                       1,500  \n",
       "51713                         600  \n",
       "51714                       2,000  \n",
       "51715                       2,500  \n",
       "51716                       1,500  \n",
       "\n",
       "[51717 rows x 7 columns]"
      ]
     },
     "execution_count": 50,
     "metadata": {},
     "output_type": "execute_result"
    }
   ],
   "source": [
    "data"
   ]
  },
  {
   "cell_type": "markdown",
   "id": "cd33adf3",
   "metadata": {},
   "source": [
    "Renaming the columns."
   ]
  },
  {
   "cell_type": "code",
   "execution_count": 27,
   "id": "e101e133",
   "metadata": {},
   "outputs": [
    {
     "data": {
      "application/vnd.microsoft.datawrangler.viewer.v0+json": {
       "columns": [
        {
         "name": "index",
         "rawType": "int64",
         "type": "integer"
        },
        {
         "name": "Name",
         "rawType": "object",
         "type": "string"
        },
        {
         "name": "location",
         "rawType": "object",
         "type": "unknown"
        },
        {
         "name": "online_order",
         "rawType": "object",
         "type": "string"
        },
        {
         "name": "book_table",
         "rawType": "object",
         "type": "string"
        },
        {
         "name": "rate",
         "rawType": "object",
         "type": "unknown"
        },
        {
         "name": "dish_liked",
         "rawType": "object",
         "type": "unknown"
        },
        {
         "name": "approx_cost(for two people)",
         "rawType": "object",
         "type": "unknown"
        }
       ],
       "ref": "df7e1b02-722c-4fd6-88f6-ec1a6d1b78a0",
       "rows": [
        [
         "0",
         "Jalsa",
         "Banashankari",
         "Yes",
         "Yes",
         "4.1/5",
         "Pasta, Lunch Buffet, Masala Papad, Paneer Lajawab, Tomato Shorba, Dum Biryani, Sweet Corn Soup",
         "800"
        ],
        [
         "1",
         "Spice Elephant",
         "Banashankari",
         "Yes",
         "No",
         "4.1/5",
         "Momos, Lunch Buffet, Chocolate Nirvana, Thai Green Curry, Paneer Tikka, Dum Biryani, Chicken Biryani",
         "800"
        ],
        [
         "2",
         "San Churro Cafe",
         "Banashankari",
         "Yes",
         "No",
         "3.8/5",
         "Churros, Cannelloni, Minestrone Soup, Hot Chocolate, Pink Sauce Pasta, Salsa, Veg Supreme Pizza",
         "800"
        ],
        [
         "3",
         "Addhuri Udupi Bhojana",
         "Banashankari",
         "No",
         "No",
         "3.7/5",
         "Masala Dosa",
         "300"
        ],
        [
         "4",
         "Grand Village",
         "Basavanagudi",
         "No",
         "No",
         "3.8/5",
         "Panipuri, Gol Gappe",
         "600"
        ],
        [
         "5",
         "Timepass Dinner",
         "Basavanagudi",
         "Yes",
         "No",
         "3.8/5",
         "Onion Rings, Pasta, Kadhai Paneer, Salads, Salad, Roti, Jeera Rice",
         "600"
        ],
        [
         "6",
         "Rosewood International Hotel - Bar & Restaurant",
         "Mysore Road",
         "No",
         "No",
         "3.6/5",
         null,
         "800"
        ],
        [
         "7",
         "Onesta",
         "Banashankari",
         "Yes",
         "Yes",
         "4.6/5",
         "Farmhouse Pizza, Chocolate Banana, Virgin Mojito, Pasta, Paneer Tikka, Lime Soda, Prawn Pizza",
         "600"
        ],
        [
         "8",
         "Penthouse Cafe",
         "Banashankari",
         "Yes",
         "No",
         "4.0/5",
         "Pizza, Mocktails, Coffee, Nachos, Salad, Pasta, Sandwiches",
         "700"
        ],
        [
         "9",
         "Smacznego",
         "Banashankari",
         "Yes",
         "No",
         "4.2/5",
         "Waffles, Pasta, Coleslaw Sandwich, Choco Waffle, Tacos, Momos, Cheese Nachos",
         "550"
        ],
        [
         "10",
         "CafÃÂÃÂÃÂÃÂÃÂÃÂÃÂÃÂ© Down The Alley",
         "Banashankari",
         "Yes",
         "No",
         "4.1/5",
         "Waffles, Pasta, Crispy Chicken, Honey Chilli Chicken, Sandwich, Coffee, Crepe",
         "500"
        ],
        [
         "11",
         "Cafe Shuffle",
         "Banashankari",
         "Yes",
         "Yes",
         "4.2/5",
         "Mocktails, Peri Fries, Lasagne, Pizza, Chicken Bbq Wings, Virgin Mojito, Nachos",
         "600"
        ],
        [
         "12",
         "The Coffee Shack",
         "Banashankari",
         "Yes",
         "Yes",
         "4.2/5",
         "Coffee, Spaghetti, Pancakes, Nachos, Pasta, Sandwich, Garlic Bread",
         "500"
        ],
        [
         "13",
         "Caf-Eleven",
         "Banashankari",
         "No",
         "No",
         "4.0/5",
         "Sandwich, Omelette, Ice Tea, Virgin Mojito, Hot Chocolate, Pasta Arrabiata, Hazelnut Cappuccino",
         "450"
        ],
        [
         "14",
         "San Churro Cafe",
         "Banashankari",
         "Yes",
         "No",
         "3.8/5",
         "Churros, Cannelloni, Minestrone Soup, Hot Chocolate, Pink Sauce Pasta, Salsa, Veg Supreme Pizza",
         "800"
        ],
        [
         "15",
         "Cafe Vivacity",
         "Banashankari",
         "Yes",
         "No",
         "3.8/5",
         "Garlic Bread, Burgers, Sandwiches, Pizza, Hot Chocolate Fudge, Waffles, Potato Wedges",
         "650"
        ],
        [
         "16",
         "Catch-up-ino",
         "Banashankari",
         "Yes",
         "No",
         "3.9/5",
         "Momos, Mushroom Bruschettas, Jalapeno Cheeseballs, Pasta, Red Velvet Shake, Red Velvet Milkshake, Maggi",
         "800"
        ],
        [
         "17",
         "Kirthi's Biryani",
         "Banashankari",
         "Yes",
         "No",
         "3.8/5",
         "Pasta, Gelato, Garlic Bread, Mojito, Nachos, Paneer Pizza, Mocktails",
         "700"
        ],
        [
         "18",
         "T3H Cafe",
         "Banashankari",
         "No",
         "No",
         "3.9/5",
         "Cheese Maggi, Peri Peri Fries, Pasta Arrabiata",
         "300"
        ],
        [
         "19",
         "360 Atoms Restaurant And Cafe",
         "Banashankari",
         "Yes",
         "No",
         "3.1/5",
         null,
         "400"
        ],
        [
         "20",
         "The Vintage Cafe",
         "Banashankari",
         "Yes",
         "No",
         "3.0/5",
         "Burgers, Caramel Milkshake, Iced Coffee, Iced Tea",
         "400"
        ],
        [
         "21",
         "Woodee Pizza",
         "Banashankari",
         "Yes",
         "No",
         "3.7/5",
         "Pizza, Garlic Bread",
         "500"
        ],
        [
         "22",
         "Cafe Coffee Day",
         "Banashankari",
         "No",
         "No",
         "3.6/5",
         null,
         "900"
        ],
        [
         "23",
         "My Tea House",
         "Banashankari",
         "Yes",
         "No",
         "3.6/5",
         "Pasta, Iced Tea",
         "600"
        ],
        [
         "24",
         "Hide Out Cafe",
         "Banashankari",
         "No",
         "No",
         "3.7/5",
         null,
         "300"
        ],
        [
         "25",
         "CAFE NOVA",
         "Banashankari",
         "No",
         "No",
         "3.2/5",
         null,
         "600"
        ],
        [
         "26",
         "Coffee Tindi",
         "Banashankari",
         "Yes",
         "No",
         "3.8/5",
         null,
         "200"
        ],
        [
         "27",
         "Sea Green Cafe",
         "Banashankari",
         "No",
         "No",
         "3.3/5",
         null,
         "500"
        ],
        [
         "28",
         "Cuppa",
         "Banashankari",
         "No",
         "No",
         "3.3/5",
         null,
         "550"
        ],
        [
         "29",
         "Srinathji's Cafe",
         "Basavanagudi",
         "No",
         "No",
         "3.8/5",
         "Paratha, Sandwich, Chilli Idli, Noodles, Sandwiches, Lime Soda",
         "550"
        ],
        [
         "30",
         "Redberrys",
         "Basavanagudi",
         "Yes",
         "No",
         "4.0/5",
         "Pizza, Fries, Anjeer Ice Cream, Sandwiches, Gelato, Burgers, Kesar Badam",
         "600"
        ],
        [
         "31",
         "Foodiction",
         "Banashankari",
         "Yes",
         "No",
         "2.8/5",
         "Burgers, Lassi, Chicken Grill, Naan, Momos, Chicken Burger, Biryani",
         "500"
        ],
        [
         "32",
         "Sweet Truth",
         "Banashankari",
         "Yes",
         "No",
         "3.9/5",
         null,
         "500"
        ],
        [
         "33",
         "Ovenstory Pizza",
         "Banashankari",
         "Yes",
         "No",
         "3.9/5",
         "Paneer Tikka, Garlic Bread, Thin Crust Pizza, Falafel, Veggie Pizza",
         "750"
        ],
        [
         "34",
         "Faasos",
         "Banashankari",
         "Yes",
         "No",
         "4.2/5",
         "Rolls, Veggie Wrap, Chocolate Fantasy, Rice Bowls, Chicken Rice, Paneer Makhanwala, Chicken Tikka Wrap",
         "500"
        ],
        [
         "35",
         "Behrouz Biryani",
         "Banashankari",
         "Yes",
         "No",
         "3.9/5",
         "Raita, Gulab Jamun, Paneer Biryani, Vegetable Biryani, Gosht Dum Biryani, Chicken Biryani, Murgh Biryani",
         "650"
        ],
        [
         "36",
         "Fast And Fresh",
         "Banashankari",
         "Yes",
         "No",
         "2.8/5",
         null,
         "400"
        ],
        [
         "37",
         "Szechuan Dragon",
         "Banashankari",
         "Yes",
         "No",
         "4.2/5",
         "Noodles, Momos, Veg Manchow Soup, Kung Pao Chicken, Chicken Lollipop, Chop Suey, Dragon Chicken",
         "600"
        ],
        [
         "38",
         "Empire Restaurant",
         "Jayanagar",
         "Yes",
         "No",
         "4.4/5",
         "Chicken Tikka Masala, Mutton Keema Dosa, Mutton Biryani, Raan Biryani, Brain Fry, Chicken Grill, Ghee Rice",
         "750"
        ],
        [
         "39",
         "Maruthi Davangere Benne Dosa",
         "Banashankari",
         "Yes",
         "No",
         "4.0/5",
         null,
         "150"
        ],
        [
         "40",
         "Chaatimes",
         "Basavanagudi",
         "Yes",
         "No",
         "3.8/5",
         "Dabeli, Faluda, Masala Poori, Sandwiches, Tokri Chaat, Pav Bhaji, Dahipuri",
         "200"
        ],
        [
         "41",
         "Havyaka Mess",
         "Banashankari",
         "No",
         "No",
         "3.9/5",
         null,
         "300"
        ],
        [
         "42",
         "McDonald's",
         "Banashankari",
         "Yes",
         "No",
         "3.9/5",
         "Burgers, Fries, Hot Chocolate",
         "500"
        ],
        [
         "43",
         "Domino's Pizza",
         "Banashankari",
         "Yes",
         "No",
         "3.9/5",
         "Pane Pizza, Lava Cake, Pasta, Stuffed Garlic Bread, Chocolava Cake, Tacos",
         "800"
        ],
        [
         "44",
         "Onesta",
         "Banashankari",
         "Yes",
         "Yes",
         "4.6/5",
         "Farmhouse Pizza, Chocolate Banana, Virgin Mojito, Pasta, Paneer Tikka, Lime Soda, Prawn Pizza",
         "600"
        ],
        [
         "45",
         "Hotboxit",
         "Banashankari",
         "No",
         "No",
         "3.8/5",
         "Prompt Service",
         "400"
        ],
        [
         "46",
         "Kitchen Garden",
         "Kumaraswamy Layout",
         "Yes",
         "No",
         "3.6/5",
         "Biryani",
         "300"
        ],
        [
         "47",
         "Recipe",
         "Kumaraswamy Layout",
         "Yes",
         "No",
         "4.0/5",
         "Butter Chicken, Noodles, Thali, Biryani",
         "450"
        ],
        [
         "48",
         "Beijing Bites",
         "Rajarajeshwari Nagar",
         "Yes",
         "No",
         "3.7/5",
         "Momos, Dragon Chicken, Hakka Noodles, Chowmein, Chop Suey, Chilli Garlic Noodles, Garlic Rice",
         "850"
        ],
        [
         "49",
         "Tasty Bytes",
         "Kumaraswamy Layout",
         "Yes",
         "No",
         "3.1/5",
         "Paratha, Pasta",
         "300"
        ]
       ],
       "shape": {
        "columns": 7,
        "rows": 51717
       }
      },
      "text/html": [
       "<div>\n",
       "<style scoped>\n",
       "    .dataframe tbody tr th:only-of-type {\n",
       "        vertical-align: middle;\n",
       "    }\n",
       "\n",
       "    .dataframe tbody tr th {\n",
       "        vertical-align: top;\n",
       "    }\n",
       "\n",
       "    .dataframe thead th {\n",
       "        text-align: right;\n",
       "    }\n",
       "</style>\n",
       "<table border=\"1\" class=\"dataframe\">\n",
       "  <thead>\n",
       "    <tr style=\"text-align: right;\">\n",
       "      <th></th>\n",
       "      <th>Name</th>\n",
       "      <th>location</th>\n",
       "      <th>online_order</th>\n",
       "      <th>book_table</th>\n",
       "      <th>rate</th>\n",
       "      <th>dish_liked</th>\n",
       "      <th>approx_cost(for two people)</th>\n",
       "    </tr>\n",
       "  </thead>\n",
       "  <tbody>\n",
       "    <tr>\n",
       "      <th>0</th>\n",
       "      <td>Jalsa</td>\n",
       "      <td>Banashankari</td>\n",
       "      <td>Yes</td>\n",
       "      <td>Yes</td>\n",
       "      <td>4.1/5</td>\n",
       "      <td>Pasta, Lunch Buffet, Masala Papad, Paneer Laja...</td>\n",
       "      <td>800</td>\n",
       "    </tr>\n",
       "    <tr>\n",
       "      <th>1</th>\n",
       "      <td>Spice Elephant</td>\n",
       "      <td>Banashankari</td>\n",
       "      <td>Yes</td>\n",
       "      <td>No</td>\n",
       "      <td>4.1/5</td>\n",
       "      <td>Momos, Lunch Buffet, Chocolate Nirvana, Thai G...</td>\n",
       "      <td>800</td>\n",
       "    </tr>\n",
       "    <tr>\n",
       "      <th>2</th>\n",
       "      <td>San Churro Cafe</td>\n",
       "      <td>Banashankari</td>\n",
       "      <td>Yes</td>\n",
       "      <td>No</td>\n",
       "      <td>3.8/5</td>\n",
       "      <td>Churros, Cannelloni, Minestrone Soup, Hot Choc...</td>\n",
       "      <td>800</td>\n",
       "    </tr>\n",
       "    <tr>\n",
       "      <th>3</th>\n",
       "      <td>Addhuri Udupi Bhojana</td>\n",
       "      <td>Banashankari</td>\n",
       "      <td>No</td>\n",
       "      <td>No</td>\n",
       "      <td>3.7/5</td>\n",
       "      <td>Masala Dosa</td>\n",
       "      <td>300</td>\n",
       "    </tr>\n",
       "    <tr>\n",
       "      <th>4</th>\n",
       "      <td>Grand Village</td>\n",
       "      <td>Basavanagudi</td>\n",
       "      <td>No</td>\n",
       "      <td>No</td>\n",
       "      <td>3.8/5</td>\n",
       "      <td>Panipuri, Gol Gappe</td>\n",
       "      <td>600</td>\n",
       "    </tr>\n",
       "    <tr>\n",
       "      <th>...</th>\n",
       "      <td>...</td>\n",
       "      <td>...</td>\n",
       "      <td>...</td>\n",
       "      <td>...</td>\n",
       "      <td>...</td>\n",
       "      <td>...</td>\n",
       "      <td>...</td>\n",
       "    </tr>\n",
       "    <tr>\n",
       "      <th>51712</th>\n",
       "      <td>Best Brews - Four Points by Sheraton Bengaluru...</td>\n",
       "      <td>Whitefield</td>\n",
       "      <td>No</td>\n",
       "      <td>No</td>\n",
       "      <td>3.6 /5</td>\n",
       "      <td>NaN</td>\n",
       "      <td>1,500</td>\n",
       "    </tr>\n",
       "    <tr>\n",
       "      <th>51713</th>\n",
       "      <td>Vinod Bar And Restaurant</td>\n",
       "      <td>Whitefield</td>\n",
       "      <td>No</td>\n",
       "      <td>No</td>\n",
       "      <td>NaN</td>\n",
       "      <td>NaN</td>\n",
       "      <td>600</td>\n",
       "    </tr>\n",
       "    <tr>\n",
       "      <th>51714</th>\n",
       "      <td>Plunge - Sheraton Grand Bengaluru Whitefield H...</td>\n",
       "      <td>Whitefield</td>\n",
       "      <td>No</td>\n",
       "      <td>No</td>\n",
       "      <td>NaN</td>\n",
       "      <td>NaN</td>\n",
       "      <td>2,000</td>\n",
       "    </tr>\n",
       "    <tr>\n",
       "      <th>51715</th>\n",
       "      <td>Chime - Sheraton Grand Bengaluru Whitefield Ho...</td>\n",
       "      <td>ITPL Main Road, Whitefield</td>\n",
       "      <td>No</td>\n",
       "      <td>Yes</td>\n",
       "      <td>4.3 /5</td>\n",
       "      <td>Cocktails, Pizza, Buttermilk</td>\n",
       "      <td>2,500</td>\n",
       "    </tr>\n",
       "    <tr>\n",
       "      <th>51716</th>\n",
       "      <td>The Nest - The Den Bengaluru</td>\n",
       "      <td>ITPL Main Road, Whitefield</td>\n",
       "      <td>No</td>\n",
       "      <td>No</td>\n",
       "      <td>3.4 /5</td>\n",
       "      <td>NaN</td>\n",
       "      <td>1,500</td>\n",
       "    </tr>\n",
       "  </tbody>\n",
       "</table>\n",
       "<p>51717 rows × 7 columns</p>\n",
       "</div>"
      ],
      "text/plain": [
       "                                                    Name  \\\n",
       "0                                                  Jalsa   \n",
       "1                                         Spice Elephant   \n",
       "2                                        San Churro Cafe   \n",
       "3                                  Addhuri Udupi Bhojana   \n",
       "4                                          Grand Village   \n",
       "...                                                  ...   \n",
       "51712  Best Brews - Four Points by Sheraton Bengaluru...   \n",
       "51713                           Vinod Bar And Restaurant   \n",
       "51714  Plunge - Sheraton Grand Bengaluru Whitefield H...   \n",
       "51715  Chime - Sheraton Grand Bengaluru Whitefield Ho...   \n",
       "51716                       The Nest - The Den Bengaluru   \n",
       "\n",
       "                         location online_order book_table    rate  \\\n",
       "0                    Banashankari          Yes        Yes   4.1/5   \n",
       "1                    Banashankari          Yes         No   4.1/5   \n",
       "2                    Banashankari          Yes         No   3.8/5   \n",
       "3                    Banashankari           No         No   3.7/5   \n",
       "4                    Basavanagudi           No         No   3.8/5   \n",
       "...                           ...          ...        ...     ...   \n",
       "51712                  Whitefield           No         No  3.6 /5   \n",
       "51713                  Whitefield           No         No     NaN   \n",
       "51714                  Whitefield           No         No     NaN   \n",
       "51715  ITPL Main Road, Whitefield           No        Yes  4.3 /5   \n",
       "51716  ITPL Main Road, Whitefield           No         No  3.4 /5   \n",
       "\n",
       "                                              dish_liked  \\\n",
       "0      Pasta, Lunch Buffet, Masala Papad, Paneer Laja...   \n",
       "1      Momos, Lunch Buffet, Chocolate Nirvana, Thai G...   \n",
       "2      Churros, Cannelloni, Minestrone Soup, Hot Choc...   \n",
       "3                                            Masala Dosa   \n",
       "4                                    Panipuri, Gol Gappe   \n",
       "...                                                  ...   \n",
       "51712                                                NaN   \n",
       "51713                                                NaN   \n",
       "51714                                                NaN   \n",
       "51715                       Cocktails, Pizza, Buttermilk   \n",
       "51716                                                NaN   \n",
       "\n",
       "      approx_cost(for two people)  \n",
       "0                             800  \n",
       "1                             800  \n",
       "2                             800  \n",
       "3                             300  \n",
       "4                             600  \n",
       "...                           ...  \n",
       "51712                       1,500  \n",
       "51713                         600  \n",
       "51714                       2,000  \n",
       "51715                       2,500  \n",
       "51716                       1,500  \n",
       "\n",
       "[51717 rows x 7 columns]"
      ]
     },
     "execution_count": 27,
     "metadata": {},
     "output_type": "execute_result"
    }
   ],
   "source": [
    "data.rename(columns= {\"name\":\"Name\"})"
   ]
  },
  {
   "cell_type": "code",
   "execution_count": 51,
   "id": "2cd8d6e1",
   "metadata": {},
   "outputs": [
    {
     "data": {
      "text/plain": [
       "'Name'"
      ]
     },
     "execution_count": 51,
     "metadata": {},
     "output_type": "execute_result"
    }
   ],
   "source": [
    "data.columns[0].capitalize()"
   ]
  },
  {
   "cell_type": "code",
   "execution_count": 52,
   "id": "b679da34",
   "metadata": {},
   "outputs": [],
   "source": [
    "new_col_names = []\n",
    "for i in data.columns:\n",
    "    new_col_names.append(i.capitalize())"
   ]
  },
  {
   "cell_type": "code",
   "execution_count": 56,
   "id": "2fd876b9",
   "metadata": {},
   "outputs": [],
   "source": [
    "data.columns = new_col_names"
   ]
  },
  {
   "cell_type": "code",
   "execution_count": 57,
   "id": "17559af7",
   "metadata": {},
   "outputs": [
    {
     "data": {
      "application/vnd.microsoft.datawrangler.viewer.v0+json": {
       "columns": [
        {
         "name": "index",
         "rawType": "int64",
         "type": "integer"
        },
        {
         "name": "Name",
         "rawType": "object",
         "type": "string"
        },
        {
         "name": "Location",
         "rawType": "object",
         "type": "unknown"
        },
        {
         "name": "Online_order",
         "rawType": "object",
         "type": "string"
        },
        {
         "name": "Book_table",
         "rawType": "object",
         "type": "string"
        },
        {
         "name": "Rate",
         "rawType": "object",
         "type": "unknown"
        },
        {
         "name": "Dish_liked",
         "rawType": "object",
         "type": "unknown"
        },
        {
         "name": "Approx_cost(for two people)",
         "rawType": "object",
         "type": "unknown"
        }
       ],
       "ref": "819b8c64-bb12-48dc-84a8-5b7bf72d4137",
       "rows": [
        [
         "0",
         "Jalsa",
         "Banashankari",
         "Yes",
         "Yes",
         "4.1/5",
         "Pasta, Lunch Buffet, Masala Papad, Paneer Lajawab, Tomato Shorba, Dum Biryani, Sweet Corn Soup",
         "800"
        ],
        [
         "1",
         "Spice Elephant",
         "Banashankari",
         "Yes",
         "No",
         "4.1/5",
         "Momos, Lunch Buffet, Chocolate Nirvana, Thai Green Curry, Paneer Tikka, Dum Biryani, Chicken Biryani",
         "800"
        ],
        [
         "2",
         "San Churro Cafe",
         "Banashankari",
         "Yes",
         "No",
         "3.8/5",
         "Churros, Cannelloni, Minestrone Soup, Hot Chocolate, Pink Sauce Pasta, Salsa, Veg Supreme Pizza",
         "800"
        ],
        [
         "3",
         "Addhuri Udupi Bhojana",
         "Banashankari",
         "No",
         "No",
         "3.7/5",
         "Masala Dosa",
         "300"
        ],
        [
         "4",
         "Grand Village",
         "Basavanagudi",
         "No",
         "No",
         "3.8/5",
         "Panipuri, Gol Gappe",
         "600"
        ],
        [
         "5",
         "Timepass Dinner",
         "Basavanagudi",
         "Yes",
         "No",
         "3.8/5",
         "Onion Rings, Pasta, Kadhai Paneer, Salads, Salad, Roti, Jeera Rice",
         "600"
        ],
        [
         "6",
         "Rosewood International Hotel - Bar & Restaurant",
         "Mysore Road",
         "No",
         "No",
         "3.6/5",
         null,
         "800"
        ],
        [
         "7",
         "Onesta",
         "Banashankari",
         "Yes",
         "Yes",
         "4.6/5",
         "Farmhouse Pizza, Chocolate Banana, Virgin Mojito, Pasta, Paneer Tikka, Lime Soda, Prawn Pizza",
         "600"
        ],
        [
         "8",
         "Penthouse Cafe",
         "Banashankari",
         "Yes",
         "No",
         "4.0/5",
         "Pizza, Mocktails, Coffee, Nachos, Salad, Pasta, Sandwiches",
         "700"
        ],
        [
         "9",
         "Smacznego",
         "Banashankari",
         "Yes",
         "No",
         "4.2/5",
         "Waffles, Pasta, Coleslaw Sandwich, Choco Waffle, Tacos, Momos, Cheese Nachos",
         "550"
        ],
        [
         "10",
         "CafÃÂÃÂÃÂÃÂÃÂÃÂÃÂÃÂ© Down The Alley",
         "Banashankari",
         "Yes",
         "No",
         "4.1/5",
         "Waffles, Pasta, Crispy Chicken, Honey Chilli Chicken, Sandwich, Coffee, Crepe",
         "500"
        ],
        [
         "11",
         "Cafe Shuffle",
         "Banashankari",
         "Yes",
         "Yes",
         "4.2/5",
         "Mocktails, Peri Fries, Lasagne, Pizza, Chicken Bbq Wings, Virgin Mojito, Nachos",
         "600"
        ],
        [
         "12",
         "The Coffee Shack",
         "Banashankari",
         "Yes",
         "Yes",
         "4.2/5",
         "Coffee, Spaghetti, Pancakes, Nachos, Pasta, Sandwich, Garlic Bread",
         "500"
        ],
        [
         "13",
         "Caf-Eleven",
         "Banashankari",
         "No",
         "No",
         "4.0/5",
         "Sandwich, Omelette, Ice Tea, Virgin Mojito, Hot Chocolate, Pasta Arrabiata, Hazelnut Cappuccino",
         "450"
        ],
        [
         "14",
         "San Churro Cafe",
         "Banashankari",
         "Yes",
         "No",
         "3.8/5",
         "Churros, Cannelloni, Minestrone Soup, Hot Chocolate, Pink Sauce Pasta, Salsa, Veg Supreme Pizza",
         "800"
        ],
        [
         "15",
         "Cafe Vivacity",
         "Banashankari",
         "Yes",
         "No",
         "3.8/5",
         "Garlic Bread, Burgers, Sandwiches, Pizza, Hot Chocolate Fudge, Waffles, Potato Wedges",
         "650"
        ],
        [
         "16",
         "Catch-up-ino",
         "Banashankari",
         "Yes",
         "No",
         "3.9/5",
         "Momos, Mushroom Bruschettas, Jalapeno Cheeseballs, Pasta, Red Velvet Shake, Red Velvet Milkshake, Maggi",
         "800"
        ],
        [
         "17",
         "Kirthi's Biryani",
         "Banashankari",
         "Yes",
         "No",
         "3.8/5",
         "Pasta, Gelato, Garlic Bread, Mojito, Nachos, Paneer Pizza, Mocktails",
         "700"
        ],
        [
         "18",
         "T3H Cafe",
         "Banashankari",
         "No",
         "No",
         "3.9/5",
         "Cheese Maggi, Peri Peri Fries, Pasta Arrabiata",
         "300"
        ],
        [
         "19",
         "360 Atoms Restaurant And Cafe",
         "Banashankari",
         "Yes",
         "No",
         "3.1/5",
         null,
         "400"
        ],
        [
         "20",
         "The Vintage Cafe",
         "Banashankari",
         "Yes",
         "No",
         "3.0/5",
         "Burgers, Caramel Milkshake, Iced Coffee, Iced Tea",
         "400"
        ],
        [
         "21",
         "Woodee Pizza",
         "Banashankari",
         "Yes",
         "No",
         "3.7/5",
         "Pizza, Garlic Bread",
         "500"
        ],
        [
         "22",
         "Cafe Coffee Day",
         "Banashankari",
         "No",
         "No",
         "3.6/5",
         null,
         "900"
        ],
        [
         "23",
         "My Tea House",
         "Banashankari",
         "Yes",
         "No",
         "3.6/5",
         "Pasta, Iced Tea",
         "600"
        ],
        [
         "24",
         "Hide Out Cafe",
         "Banashankari",
         "No",
         "No",
         "3.7/5",
         null,
         "300"
        ],
        [
         "25",
         "CAFE NOVA",
         "Banashankari",
         "No",
         "No",
         "3.2/5",
         null,
         "600"
        ],
        [
         "26",
         "Coffee Tindi",
         "Banashankari",
         "Yes",
         "No",
         "3.8/5",
         null,
         "200"
        ],
        [
         "27",
         "Sea Green Cafe",
         "Banashankari",
         "No",
         "No",
         "3.3/5",
         null,
         "500"
        ],
        [
         "28",
         "Cuppa",
         "Banashankari",
         "No",
         "No",
         "3.3/5",
         null,
         "550"
        ],
        [
         "29",
         "Srinathji's Cafe",
         "Basavanagudi",
         "No",
         "No",
         "3.8/5",
         "Paratha, Sandwich, Chilli Idli, Noodles, Sandwiches, Lime Soda",
         "550"
        ],
        [
         "30",
         "Redberrys",
         "Basavanagudi",
         "Yes",
         "No",
         "4.0/5",
         "Pizza, Fries, Anjeer Ice Cream, Sandwiches, Gelato, Burgers, Kesar Badam",
         "600"
        ],
        [
         "31",
         "Foodiction",
         "Banashankari",
         "Yes",
         "No",
         "2.8/5",
         "Burgers, Lassi, Chicken Grill, Naan, Momos, Chicken Burger, Biryani",
         "500"
        ],
        [
         "32",
         "Sweet Truth",
         "Banashankari",
         "Yes",
         "No",
         "3.9/5",
         null,
         "500"
        ],
        [
         "33",
         "Ovenstory Pizza",
         "Banashankari",
         "Yes",
         "No",
         "3.9/5",
         "Paneer Tikka, Garlic Bread, Thin Crust Pizza, Falafel, Veggie Pizza",
         "750"
        ],
        [
         "34",
         "Faasos",
         "Banashankari",
         "Yes",
         "No",
         "4.2/5",
         "Rolls, Veggie Wrap, Chocolate Fantasy, Rice Bowls, Chicken Rice, Paneer Makhanwala, Chicken Tikka Wrap",
         "500"
        ],
        [
         "35",
         "Behrouz Biryani",
         "Banashankari",
         "Yes",
         "No",
         "3.9/5",
         "Raita, Gulab Jamun, Paneer Biryani, Vegetable Biryani, Gosht Dum Biryani, Chicken Biryani, Murgh Biryani",
         "650"
        ],
        [
         "36",
         "Fast And Fresh",
         "Banashankari",
         "Yes",
         "No",
         "2.8/5",
         null,
         "400"
        ],
        [
         "37",
         "Szechuan Dragon",
         "Banashankari",
         "Yes",
         "No",
         "4.2/5",
         "Noodles, Momos, Veg Manchow Soup, Kung Pao Chicken, Chicken Lollipop, Chop Suey, Dragon Chicken",
         "600"
        ],
        [
         "38",
         "Empire Restaurant",
         "Jayanagar",
         "Yes",
         "No",
         "4.4/5",
         "Chicken Tikka Masala, Mutton Keema Dosa, Mutton Biryani, Raan Biryani, Brain Fry, Chicken Grill, Ghee Rice",
         "750"
        ],
        [
         "39",
         "Maruthi Davangere Benne Dosa",
         "Banashankari",
         "Yes",
         "No",
         "4.0/5",
         null,
         "150"
        ],
        [
         "40",
         "Chaatimes",
         "Basavanagudi",
         "Yes",
         "No",
         "3.8/5",
         "Dabeli, Faluda, Masala Poori, Sandwiches, Tokri Chaat, Pav Bhaji, Dahipuri",
         "200"
        ],
        [
         "41",
         "Havyaka Mess",
         "Banashankari",
         "No",
         "No",
         "3.9/5",
         null,
         "300"
        ],
        [
         "42",
         "McDonald's",
         "Banashankari",
         "Yes",
         "No",
         "3.9/5",
         "Burgers, Fries, Hot Chocolate",
         "500"
        ],
        [
         "43",
         "Domino's Pizza",
         "Banashankari",
         "Yes",
         "No",
         "3.9/5",
         "Pane Pizza, Lava Cake, Pasta, Stuffed Garlic Bread, Chocolava Cake, Tacos",
         "800"
        ],
        [
         "44",
         "Onesta",
         "Banashankari",
         "Yes",
         "Yes",
         "4.6/5",
         "Farmhouse Pizza, Chocolate Banana, Virgin Mojito, Pasta, Paneer Tikka, Lime Soda, Prawn Pizza",
         "600"
        ],
        [
         "45",
         "Hotboxit",
         "Banashankari",
         "No",
         "No",
         "3.8/5",
         "Prompt Service",
         "400"
        ],
        [
         "46",
         "Kitchen Garden",
         "Kumaraswamy Layout",
         "Yes",
         "No",
         "3.6/5",
         "Biryani",
         "300"
        ],
        [
         "47",
         "Recipe",
         "Kumaraswamy Layout",
         "Yes",
         "No",
         "4.0/5",
         "Butter Chicken, Noodles, Thali, Biryani",
         "450"
        ],
        [
         "48",
         "Beijing Bites",
         "Rajarajeshwari Nagar",
         "Yes",
         "No",
         "3.7/5",
         "Momos, Dragon Chicken, Hakka Noodles, Chowmein, Chop Suey, Chilli Garlic Noodles, Garlic Rice",
         "850"
        ],
        [
         "49",
         "Tasty Bytes",
         "Kumaraswamy Layout",
         "Yes",
         "No",
         "3.1/5",
         "Paratha, Pasta",
         "300"
        ]
       ],
       "shape": {
        "columns": 7,
        "rows": 51717
       }
      },
      "text/html": [
       "<div>\n",
       "<style scoped>\n",
       "    .dataframe tbody tr th:only-of-type {\n",
       "        vertical-align: middle;\n",
       "    }\n",
       "\n",
       "    .dataframe tbody tr th {\n",
       "        vertical-align: top;\n",
       "    }\n",
       "\n",
       "    .dataframe thead th {\n",
       "        text-align: right;\n",
       "    }\n",
       "</style>\n",
       "<table border=\"1\" class=\"dataframe\">\n",
       "  <thead>\n",
       "    <tr style=\"text-align: right;\">\n",
       "      <th></th>\n",
       "      <th>Name</th>\n",
       "      <th>Location</th>\n",
       "      <th>Online_order</th>\n",
       "      <th>Book_table</th>\n",
       "      <th>Rate</th>\n",
       "      <th>Dish_liked</th>\n",
       "      <th>Approx_cost(for two people)</th>\n",
       "    </tr>\n",
       "  </thead>\n",
       "  <tbody>\n",
       "    <tr>\n",
       "      <th>0</th>\n",
       "      <td>Jalsa</td>\n",
       "      <td>Banashankari</td>\n",
       "      <td>Yes</td>\n",
       "      <td>Yes</td>\n",
       "      <td>4.1/5</td>\n",
       "      <td>Pasta, Lunch Buffet, Masala Papad, Paneer Laja...</td>\n",
       "      <td>800</td>\n",
       "    </tr>\n",
       "    <tr>\n",
       "      <th>1</th>\n",
       "      <td>Spice Elephant</td>\n",
       "      <td>Banashankari</td>\n",
       "      <td>Yes</td>\n",
       "      <td>No</td>\n",
       "      <td>4.1/5</td>\n",
       "      <td>Momos, Lunch Buffet, Chocolate Nirvana, Thai G...</td>\n",
       "      <td>800</td>\n",
       "    </tr>\n",
       "    <tr>\n",
       "      <th>2</th>\n",
       "      <td>San Churro Cafe</td>\n",
       "      <td>Banashankari</td>\n",
       "      <td>Yes</td>\n",
       "      <td>No</td>\n",
       "      <td>3.8/5</td>\n",
       "      <td>Churros, Cannelloni, Minestrone Soup, Hot Choc...</td>\n",
       "      <td>800</td>\n",
       "    </tr>\n",
       "    <tr>\n",
       "      <th>3</th>\n",
       "      <td>Addhuri Udupi Bhojana</td>\n",
       "      <td>Banashankari</td>\n",
       "      <td>No</td>\n",
       "      <td>No</td>\n",
       "      <td>3.7/5</td>\n",
       "      <td>Masala Dosa</td>\n",
       "      <td>300</td>\n",
       "    </tr>\n",
       "    <tr>\n",
       "      <th>4</th>\n",
       "      <td>Grand Village</td>\n",
       "      <td>Basavanagudi</td>\n",
       "      <td>No</td>\n",
       "      <td>No</td>\n",
       "      <td>3.8/5</td>\n",
       "      <td>Panipuri, Gol Gappe</td>\n",
       "      <td>600</td>\n",
       "    </tr>\n",
       "    <tr>\n",
       "      <th>...</th>\n",
       "      <td>...</td>\n",
       "      <td>...</td>\n",
       "      <td>...</td>\n",
       "      <td>...</td>\n",
       "      <td>...</td>\n",
       "      <td>...</td>\n",
       "      <td>...</td>\n",
       "    </tr>\n",
       "    <tr>\n",
       "      <th>51712</th>\n",
       "      <td>Best Brews - Four Points by Sheraton Bengaluru...</td>\n",
       "      <td>Whitefield</td>\n",
       "      <td>No</td>\n",
       "      <td>No</td>\n",
       "      <td>3.6 /5</td>\n",
       "      <td>NaN</td>\n",
       "      <td>1,500</td>\n",
       "    </tr>\n",
       "    <tr>\n",
       "      <th>51713</th>\n",
       "      <td>Vinod Bar And Restaurant</td>\n",
       "      <td>Whitefield</td>\n",
       "      <td>No</td>\n",
       "      <td>No</td>\n",
       "      <td>NaN</td>\n",
       "      <td>NaN</td>\n",
       "      <td>600</td>\n",
       "    </tr>\n",
       "    <tr>\n",
       "      <th>51714</th>\n",
       "      <td>Plunge - Sheraton Grand Bengaluru Whitefield H...</td>\n",
       "      <td>Whitefield</td>\n",
       "      <td>No</td>\n",
       "      <td>No</td>\n",
       "      <td>NaN</td>\n",
       "      <td>NaN</td>\n",
       "      <td>2,000</td>\n",
       "    </tr>\n",
       "    <tr>\n",
       "      <th>51715</th>\n",
       "      <td>Chime - Sheraton Grand Bengaluru Whitefield Ho...</td>\n",
       "      <td>ITPL Main Road, Whitefield</td>\n",
       "      <td>No</td>\n",
       "      <td>Yes</td>\n",
       "      <td>4.3 /5</td>\n",
       "      <td>Cocktails, Pizza, Buttermilk</td>\n",
       "      <td>2,500</td>\n",
       "    </tr>\n",
       "    <tr>\n",
       "      <th>51716</th>\n",
       "      <td>The Nest - The Den Bengaluru</td>\n",
       "      <td>ITPL Main Road, Whitefield</td>\n",
       "      <td>No</td>\n",
       "      <td>No</td>\n",
       "      <td>3.4 /5</td>\n",
       "      <td>NaN</td>\n",
       "      <td>1,500</td>\n",
       "    </tr>\n",
       "  </tbody>\n",
       "</table>\n",
       "<p>51717 rows × 7 columns</p>\n",
       "</div>"
      ],
      "text/plain": [
       "                                                    Name  \\\n",
       "0                                                  Jalsa   \n",
       "1                                         Spice Elephant   \n",
       "2                                        San Churro Cafe   \n",
       "3                                  Addhuri Udupi Bhojana   \n",
       "4                                          Grand Village   \n",
       "...                                                  ...   \n",
       "51712  Best Brews - Four Points by Sheraton Bengaluru...   \n",
       "51713                           Vinod Bar And Restaurant   \n",
       "51714  Plunge - Sheraton Grand Bengaluru Whitefield H...   \n",
       "51715  Chime - Sheraton Grand Bengaluru Whitefield Ho...   \n",
       "51716                       The Nest - The Den Bengaluru   \n",
       "\n",
       "                         Location Online_order Book_table    Rate  \\\n",
       "0                    Banashankari          Yes        Yes   4.1/5   \n",
       "1                    Banashankari          Yes         No   4.1/5   \n",
       "2                    Banashankari          Yes         No   3.8/5   \n",
       "3                    Banashankari           No         No   3.7/5   \n",
       "4                    Basavanagudi           No         No   3.8/5   \n",
       "...                           ...          ...        ...     ...   \n",
       "51712                  Whitefield           No         No  3.6 /5   \n",
       "51713                  Whitefield           No         No     NaN   \n",
       "51714                  Whitefield           No         No     NaN   \n",
       "51715  ITPL Main Road, Whitefield           No        Yes  4.3 /5   \n",
       "51716  ITPL Main Road, Whitefield           No         No  3.4 /5   \n",
       "\n",
       "                                              Dish_liked  \\\n",
       "0      Pasta, Lunch Buffet, Masala Papad, Paneer Laja...   \n",
       "1      Momos, Lunch Buffet, Chocolate Nirvana, Thai G...   \n",
       "2      Churros, Cannelloni, Minestrone Soup, Hot Choc...   \n",
       "3                                            Masala Dosa   \n",
       "4                                    Panipuri, Gol Gappe   \n",
       "...                                                  ...   \n",
       "51712                                                NaN   \n",
       "51713                                                NaN   \n",
       "51714                                                NaN   \n",
       "51715                       Cocktails, Pizza, Buttermilk   \n",
       "51716                                                NaN   \n",
       "\n",
       "      Approx_cost(for two people)  \n",
       "0                             800  \n",
       "1                             800  \n",
       "2                             800  \n",
       "3                             300  \n",
       "4                             600  \n",
       "...                           ...  \n",
       "51712                       1,500  \n",
       "51713                         600  \n",
       "51714                       2,000  \n",
       "51715                       2,500  \n",
       "51716                       1,500  \n",
       "\n",
       "[51717 rows x 7 columns]"
      ]
     },
     "execution_count": 57,
     "metadata": {},
     "output_type": "execute_result"
    }
   ],
   "source": [
    "data"
   ]
  },
  {
   "cell_type": "markdown",
   "id": "7e73f2fd",
   "metadata": {},
   "source": [
    "Dropping duplicates."
   ]
  },
  {
   "cell_type": "code",
   "execution_count": 69,
   "id": "fce8f12c",
   "metadata": {},
   "outputs": [
    {
     "data": {
      "application/vnd.microsoft.datawrangler.viewer.v0+json": {
       "columns": [
        {
         "name": "index",
         "rawType": "bool",
         "type": "boolean"
        },
        {
         "name": "count",
         "rawType": "int64",
         "type": "integer"
        }
       ],
       "ref": "a4e2115c-0b42-45c8-b7a8-75f8d2a3016c",
       "rows": [
        [
         "False",
         "19454"
        ]
       ],
       "shape": {
        "columns": 1,
        "rows": 1
       }
      },
      "text/plain": [
       "False    19454\n",
       "Name: count, dtype: int64"
      ]
     },
     "execution_count": 69,
     "metadata": {},
     "output_type": "execute_result"
    }
   ],
   "source": [
    "data.duplicated().value_counts()"
   ]
  },
  {
   "cell_type": "code",
   "execution_count": 68,
   "id": "4d7b0171",
   "metadata": {},
   "outputs": [
    {
     "data": {
      "text/plain": [
       "np.int64(0)"
      ]
     },
     "execution_count": 68,
     "metadata": {},
     "output_type": "execute_result"
    }
   ],
   "source": [
    "data.duplicated().sum()"
   ]
  },
  {
   "cell_type": "code",
   "execution_count": 67,
   "id": "6f425201",
   "metadata": {},
   "outputs": [
    {
     "name": "stderr",
     "output_type": "stream",
     "text": [
      "C:\\Users\\ToxsandBRO\\AppData\\Local\\Temp\\ipykernel_18020\\947344984.py:1: SettingWithCopyWarning: \n",
      "A value is trying to be set on a copy of a slice from a DataFrame\n",
      "\n",
      "See the caveats in the documentation: https://pandas.pydata.org/pandas-docs/stable/user_guide/indexing.html#returning-a-view-versus-a-copy\n",
      "  data.drop_duplicates(inplace= True)\n"
     ]
    }
   ],
   "source": [
    "data.drop_duplicates(inplace= True)"
   ]
  },
  {
   "cell_type": "markdown",
   "id": "de42e698",
   "metadata": {},
   "source": [
    "Remove the NaN values from the dataset"
   ]
  },
  {
   "cell_type": "code",
   "execution_count": 73,
   "id": "6dcffa06",
   "metadata": {},
   "outputs": [
    {
     "data": {
      "application/vnd.microsoft.datawrangler.viewer.v0+json": {
       "columns": [
        {
         "name": "index",
         "rawType": "object",
         "type": "string"
        },
        {
         "name": "0",
         "rawType": "int64",
         "type": "integer"
        }
       ],
       "ref": "43cb71ee-a518-4688-8873-fedc3c919df7",
       "rows": [
        [
         "Name",
         "0"
        ],
        [
         "Location",
         "0"
        ],
        [
         "Online_order",
         "0"
        ],
        [
         "Book_table",
         "0"
        ],
        [
         "Rate",
         "0"
        ],
        [
         "Dish_liked",
         "0"
        ],
        [
         "Approx_cost(for two people)",
         "0"
        ]
       ],
       "shape": {
        "columns": 1,
        "rows": 7
       }
      },
      "text/plain": [
       "Name                           0\n",
       "Location                       0\n",
       "Online_order                   0\n",
       "Book_table                     0\n",
       "Rate                           0\n",
       "Dish_liked                     0\n",
       "Approx_cost(for two people)    0\n",
       "dtype: int64"
      ]
     },
     "execution_count": 73,
     "metadata": {},
     "output_type": "execute_result"
    }
   ],
   "source": [
    "data.isna().sum()"
   ]
  },
  {
   "cell_type": "code",
   "execution_count": 72,
   "id": "505fc879",
   "metadata": {},
   "outputs": [
    {
     "name": "stderr",
     "output_type": "stream",
     "text": [
      "C:\\Users\\ToxsandBRO\\AppData\\Local\\Temp\\ipykernel_18020\\1335109364.py:1: SettingWithCopyWarning: \n",
      "A value is trying to be set on a copy of a slice from a DataFrame\n",
      "\n",
      "See the caveats in the documentation: https://pandas.pydata.org/pandas-docs/stable/user_guide/indexing.html#returning-a-view-versus-a-copy\n",
      "  data.dropna(inplace= True)\n"
     ]
    }
   ],
   "source": [
    "data.dropna(inplace= True)"
   ]
  },
  {
   "cell_type": "code",
   "execution_count": 75,
   "id": "b9d349b4",
   "metadata": {},
   "outputs": [],
   "source": [
    "#fix the indexes after removing null value\n",
    "data.reset_index(inplace= True)"
   ]
  },
  {
   "cell_type": "code",
   "execution_count": 78,
   "id": "a91dd5b6",
   "metadata": {},
   "outputs": [
    {
     "name": "stderr",
     "output_type": "stream",
     "text": [
      "C:\\Users\\ToxsandBRO\\AppData\\Local\\Temp\\ipykernel_18020\\810278850.py:2: SettingWithCopyWarning: \n",
      "A value is trying to be set on a copy of a slice from a DataFrame\n",
      "\n",
      "See the caveats in the documentation: https://pandas.pydata.org/pandas-docs/stable/user_guide/indexing.html#returning-a-view-versus-a-copy\n",
      "  data.drop(columns= \"index\", inplace= True)\n"
     ]
    }
   ],
   "source": [
    "#remove unnamed col\n",
    "data.drop(columns= \"index\", inplace= True)"
   ]
  },
  {
   "cell_type": "markdown",
   "id": "a4d745ea",
   "metadata": {},
   "source": [
    "Cleaning individual columns."
   ]
  },
  {
   "cell_type": "code",
   "execution_count": 82,
   "id": "de1ac3c6",
   "metadata": {},
   "outputs": [
    {
     "data": {
      "text/plain": [
       "str"
      ]
     },
     "execution_count": 82,
     "metadata": {},
     "output_type": "execute_result"
    }
   ],
   "source": [
    "type(data['Rate'][14])"
   ]
  },
  {
   "cell_type": "code",
   "execution_count": 85,
   "id": "677eb1b1",
   "metadata": {},
   "outputs": [
    {
     "data": {
      "application/vnd.microsoft.datawrangler.viewer.v0+json": {
       "columns": [
        {
         "name": "index",
         "rawType": "int64",
         "type": "integer"
        },
        {
         "name": "Rate",
         "rawType": "object",
         "type": "string"
        }
       ],
       "ref": "40387036-43b0-4ec2-99a5-4f8c4167ad78",
       "rows": [
        [
         "0",
         "4.1/5"
        ],
        [
         "1",
         "4.1/5"
        ],
        [
         "2",
         "3.8/5"
        ],
        [
         "3",
         "3.7/5"
        ],
        [
         "4",
         "3.8/5"
        ],
        [
         "5",
         "3.8/5"
        ],
        [
         "6",
         "4.6/5"
        ],
        [
         "7",
         "4.0/5"
        ],
        [
         "8",
         "4.2/5"
        ],
        [
         "9",
         "4.1/5"
        ],
        [
         "10",
         "4.2/5"
        ],
        [
         "11",
         "4.2/5"
        ],
        [
         "12",
         "4.0/5"
        ],
        [
         "13",
         "3.8/5"
        ],
        [
         "14",
         "3.9/5"
        ],
        [
         "15",
         "3.8/5"
        ],
        [
         "16",
         "3.9/5"
        ],
        [
         "17",
         "3.0/5"
        ],
        [
         "18",
         "3.7/5"
        ],
        [
         "19",
         "3.6/5"
        ],
        [
         "20",
         "3.8/5"
        ],
        [
         "21",
         "4.0/5"
        ],
        [
         "22",
         "2.8/5"
        ],
        [
         "23",
         "3.9/5"
        ],
        [
         "24",
         "4.2/5"
        ],
        [
         "25",
         "3.9/5"
        ],
        [
         "26",
         "4.2/5"
        ],
        [
         "27",
         "4.4/5"
        ],
        [
         "28",
         "3.8/5"
        ],
        [
         "29",
         "3.9/5"
        ],
        [
         "30",
         "3.9/5"
        ],
        [
         "31",
         "3.8/5"
        ],
        [
         "32",
         "3.6/5"
        ],
        [
         "33",
         "4.0/5"
        ],
        [
         "34",
         "3.7/5"
        ],
        [
         "35",
         "3.1/5"
        ],
        [
         "36",
         "4.3/5"
        ],
        [
         "37",
         "4.0/5"
        ],
        [
         "38",
         "4.0/5"
        ],
        [
         "39",
         "3.9/5"
        ],
        [
         "40",
         "4.2/5"
        ],
        [
         "41",
         "4.2/5"
        ],
        [
         "42",
         "3.6/5"
        ],
        [
         "43",
         "4.0/5"
        ],
        [
         "44",
         "4.1/5"
        ],
        [
         "45",
         "4.1/5"
        ],
        [
         "46",
         "4.1/5"
        ],
        [
         "47",
         "3.6/5"
        ],
        [
         "48",
         "4.1/5"
        ],
        [
         "49",
         "3.8/5"
        ]
       ],
       "shape": {
        "columns": 1,
        "rows": 8256
       }
      },
      "text/plain": [
       "0        4.1/5\n",
       "1        4.1/5\n",
       "2        3.8/5\n",
       "3        3.7/5\n",
       "4        3.8/5\n",
       "         ...  \n",
       "8251    2.5 /5\n",
       "8252    3.6 /5\n",
       "8253    3.8 /5\n",
       "8254    4.2 /5\n",
       "8255    2.5 /5\n",
       "Name: Rate, Length: 8256, dtype: object"
      ]
     },
     "execution_count": 85,
     "metadata": {},
     "output_type": "execute_result"
    }
   ],
   "source": [
    "data['Rate']"
   ]
  },
  {
   "cell_type": "code",
   "execution_count": 88,
   "id": "30c156b4",
   "metadata": {},
   "outputs": [
    {
     "name": "stderr",
     "output_type": "stream",
     "text": [
      "C:\\Users\\ToxsandBRO\\AppData\\Local\\Temp\\ipykernel_18020\\2204008464.py:2: SettingWithCopyWarning: \n",
      "A value is trying to be set on a copy of a slice from a DataFrame.\n",
      "Try using .loc[row_indexer,col_indexer] = value instead\n",
      "\n",
      "See the caveats in the documentation: https://pandas.pydata.org/pandas-docs/stable/user_guide/indexing.html#returning-a-view-versus-a-copy\n",
      "  data['Rate'] = data['Rate'].str.replace(\" \",\"\")\n"
     ]
    }
   ],
   "source": [
    "#trim extra space\n",
    "data['Rate'] = data['Rate'].str.replace(\" \",\"\")"
   ]
  },
  {
   "cell_type": "code",
   "execution_count": 89,
   "id": "2cbe1b59",
   "metadata": {},
   "outputs": [
    {
     "name": "stderr",
     "output_type": "stream",
     "text": [
      "C:\\Users\\ToxsandBRO\\AppData\\Local\\Temp\\ipykernel_18020\\2810323864.py:1: SettingWithCopyWarning: \n",
      "A value is trying to be set on a copy of a slice from a DataFrame.\n",
      "Try using .loc[row_indexer,col_indexer] = value instead\n",
      "\n",
      "See the caveats in the documentation: https://pandas.pydata.org/pandas-docs/stable/user_guide/indexing.html#returning-a-view-versus-a-copy\n",
      "  data['Rate'] = data[\"Rate\"].str.replace(\"/\", \" Out Of \")\n"
     ]
    }
   ],
   "source": [
    "data['Rate'] = data[\"Rate\"].str.replace(\"/\", \" Out Of \")"
   ]
  },
  {
   "cell_type": "code",
   "execution_count": 90,
   "id": "a8e70371",
   "metadata": {},
   "outputs": [
    {
     "data": {
      "application/vnd.microsoft.datawrangler.viewer.v0+json": {
       "columns": [
        {
         "name": "index",
         "rawType": "int64",
         "type": "integer"
        },
        {
         "name": "Name",
         "rawType": "object",
         "type": "string"
        },
        {
         "name": "Location",
         "rawType": "object",
         "type": "string"
        },
        {
         "name": "Online_order",
         "rawType": "object",
         "type": "string"
        },
        {
         "name": "Book_table",
         "rawType": "object",
         "type": "string"
        },
        {
         "name": "Rate",
         "rawType": "object",
         "type": "string"
        },
        {
         "name": "Dish_liked",
         "rawType": "object",
         "type": "string"
        },
        {
         "name": "Approx_cost(for two people)",
         "rawType": "object",
         "type": "string"
        }
       ],
       "ref": "5496ff95-a800-4d23-8b18-1218fbe40726",
       "rows": [
        [
         "0",
         "Jalsa",
         "Banashankari",
         "Yes",
         "Yes",
         "4.1 Out Of 5",
         "Pasta, Lunch Buffet, Masala Papad, Paneer Lajawab, Tomato Shorba, Dum Biryani, Sweet Corn Soup",
         "800"
        ],
        [
         "1",
         "Spice Elephant",
         "Banashankari",
         "Yes",
         "No",
         "4.1 Out Of 5",
         "Momos, Lunch Buffet, Chocolate Nirvana, Thai Green Curry, Paneer Tikka, Dum Biryani, Chicken Biryani",
         "800"
        ],
        [
         "2",
         "San Churro Cafe",
         "Banashankari",
         "Yes",
         "No",
         "3.8 Out Of 5",
         "Churros, Cannelloni, Minestrone Soup, Hot Chocolate, Pink Sauce Pasta, Salsa, Veg Supreme Pizza",
         "800"
        ],
        [
         "3",
         "Addhuri Udupi Bhojana",
         "Banashankari",
         "No",
         "No",
         "3.7 Out Of 5",
         "Masala Dosa",
         "300"
        ],
        [
         "4",
         "Grand Village",
         "Basavanagudi",
         "No",
         "No",
         "3.8 Out Of 5",
         "Panipuri, Gol Gappe",
         "600"
        ],
        [
         "5",
         "Timepass Dinner",
         "Basavanagudi",
         "Yes",
         "No",
         "3.8 Out Of 5",
         "Onion Rings, Pasta, Kadhai Paneer, Salads, Salad, Roti, Jeera Rice",
         "600"
        ],
        [
         "6",
         "Onesta",
         "Banashankari",
         "Yes",
         "Yes",
         "4.6 Out Of 5",
         "Farmhouse Pizza, Chocolate Banana, Virgin Mojito, Pasta, Paneer Tikka, Lime Soda, Prawn Pizza",
         "600"
        ],
        [
         "7",
         "Penthouse Cafe",
         "Banashankari",
         "Yes",
         "No",
         "4.0 Out Of 5",
         "Pizza, Mocktails, Coffee, Nachos, Salad, Pasta, Sandwiches",
         "700"
        ],
        [
         "8",
         "Smacznego",
         "Banashankari",
         "Yes",
         "No",
         "4.2 Out Of 5",
         "Waffles, Pasta, Coleslaw Sandwich, Choco Waffle, Tacos, Momos, Cheese Nachos",
         "550"
        ],
        [
         "9",
         "CafÃÂÃÂÃÂÃÂÃÂÃÂÃÂÃÂ© Down The Alley",
         "Banashankari",
         "Yes",
         "No",
         "4.1 Out Of 5",
         "Waffles, Pasta, Crispy Chicken, Honey Chilli Chicken, Sandwich, Coffee, Crepe",
         "500"
        ],
        [
         "10",
         "Cafe Shuffle",
         "Banashankari",
         "Yes",
         "Yes",
         "4.2 Out Of 5",
         "Mocktails, Peri Fries, Lasagne, Pizza, Chicken Bbq Wings, Virgin Mojito, Nachos",
         "600"
        ],
        [
         "11",
         "The Coffee Shack",
         "Banashankari",
         "Yes",
         "Yes",
         "4.2 Out Of 5",
         "Coffee, Spaghetti, Pancakes, Nachos, Pasta, Sandwich, Garlic Bread",
         "500"
        ],
        [
         "12",
         "Caf-Eleven",
         "Banashankari",
         "No",
         "No",
         "4.0 Out Of 5",
         "Sandwich, Omelette, Ice Tea, Virgin Mojito, Hot Chocolate, Pasta Arrabiata, Hazelnut Cappuccino",
         "450"
        ],
        [
         "13",
         "Cafe Vivacity",
         "Banashankari",
         "Yes",
         "No",
         "3.8 Out Of 5",
         "Garlic Bread, Burgers, Sandwiches, Pizza, Hot Chocolate Fudge, Waffles, Potato Wedges",
         "650"
        ],
        [
         "14",
         "Catch-up-ino",
         "Banashankari",
         "Yes",
         "No",
         "3.9 Out Of 5",
         "Momos, Mushroom Bruschettas, Jalapeno Cheeseballs, Pasta, Red Velvet Shake, Red Velvet Milkshake, Maggi",
         "800"
        ],
        [
         "15",
         "Kirthi's Biryani",
         "Banashankari",
         "Yes",
         "No",
         "3.8 Out Of 5",
         "Pasta, Gelato, Garlic Bread, Mojito, Nachos, Paneer Pizza, Mocktails",
         "700"
        ],
        [
         "16",
         "T3H Cafe",
         "Banashankari",
         "No",
         "No",
         "3.9 Out Of 5",
         "Cheese Maggi, Peri Peri Fries, Pasta Arrabiata",
         "300"
        ],
        [
         "17",
         "The Vintage Cafe",
         "Banashankari",
         "Yes",
         "No",
         "3.0 Out Of 5",
         "Burgers, Caramel Milkshake, Iced Coffee, Iced Tea",
         "400"
        ],
        [
         "18",
         "Woodee Pizza",
         "Banashankari",
         "Yes",
         "No",
         "3.7 Out Of 5",
         "Pizza, Garlic Bread",
         "500"
        ],
        [
         "19",
         "My Tea House",
         "Banashankari",
         "Yes",
         "No",
         "3.6 Out Of 5",
         "Pasta, Iced Tea",
         "600"
        ],
        [
         "20",
         "Srinathji's Cafe",
         "Basavanagudi",
         "No",
         "No",
         "3.8 Out Of 5",
         "Paratha, Sandwich, Chilli Idli, Noodles, Sandwiches, Lime Soda",
         "550"
        ],
        [
         "21",
         "Redberrys",
         "Basavanagudi",
         "Yes",
         "No",
         "4.0 Out Of 5",
         "Pizza, Fries, Anjeer Ice Cream, Sandwiches, Gelato, Burgers, Kesar Badam",
         "600"
        ],
        [
         "22",
         "Foodiction",
         "Banashankari",
         "Yes",
         "No",
         "2.8 Out Of 5",
         "Burgers, Lassi, Chicken Grill, Naan, Momos, Chicken Burger, Biryani",
         "500"
        ],
        [
         "23",
         "Ovenstory Pizza",
         "Banashankari",
         "Yes",
         "No",
         "3.9 Out Of 5",
         "Paneer Tikka, Garlic Bread, Thin Crust Pizza, Falafel, Veggie Pizza",
         "750"
        ],
        [
         "24",
         "Faasos",
         "Banashankari",
         "Yes",
         "No",
         "4.2 Out Of 5",
         "Rolls, Veggie Wrap, Chocolate Fantasy, Rice Bowls, Chicken Rice, Paneer Makhanwala, Chicken Tikka Wrap",
         "500"
        ],
        [
         "25",
         "Behrouz Biryani",
         "Banashankari",
         "Yes",
         "No",
         "3.9 Out Of 5",
         "Raita, Gulab Jamun, Paneer Biryani, Vegetable Biryani, Gosht Dum Biryani, Chicken Biryani, Murgh Biryani",
         "650"
        ],
        [
         "26",
         "Szechuan Dragon",
         "Banashankari",
         "Yes",
         "No",
         "4.2 Out Of 5",
         "Noodles, Momos, Veg Manchow Soup, Kung Pao Chicken, Chicken Lollipop, Chop Suey, Dragon Chicken",
         "600"
        ],
        [
         "27",
         "Empire Restaurant",
         "Jayanagar",
         "Yes",
         "No",
         "4.4 Out Of 5",
         "Chicken Tikka Masala, Mutton Keema Dosa, Mutton Biryani, Raan Biryani, Brain Fry, Chicken Grill, Ghee Rice",
         "750"
        ],
        [
         "28",
         "Chaatimes",
         "Basavanagudi",
         "Yes",
         "No",
         "3.8 Out Of 5",
         "Dabeli, Faluda, Masala Poori, Sandwiches, Tokri Chaat, Pav Bhaji, Dahipuri",
         "200"
        ],
        [
         "29",
         "McDonald's",
         "Banashankari",
         "Yes",
         "No",
         "3.9 Out Of 5",
         "Burgers, Fries, Hot Chocolate",
         "500"
        ],
        [
         "30",
         "Domino's Pizza",
         "Banashankari",
         "Yes",
         "No",
         "3.9 Out Of 5",
         "Pane Pizza, Lava Cake, Pasta, Stuffed Garlic Bread, Chocolava Cake, Tacos",
         "800"
        ],
        [
         "31",
         "Hotboxit",
         "Banashankari",
         "No",
         "No",
         "3.8 Out Of 5",
         "Prompt Service",
         "400"
        ],
        [
         "32",
         "Kitchen Garden",
         "Kumaraswamy Layout",
         "Yes",
         "No",
         "3.6 Out Of 5",
         "Biryani",
         "300"
        ],
        [
         "33",
         "Recipe",
         "Kumaraswamy Layout",
         "Yes",
         "No",
         "4.0 Out Of 5",
         "Butter Chicken, Noodles, Thali, Biryani",
         "450"
        ],
        [
         "34",
         "Beijing Bites",
         "Rajarajeshwari Nagar",
         "Yes",
         "No",
         "3.7 Out Of 5",
         "Momos, Dragon Chicken, Hakka Noodles, Chowmein, Chop Suey, Chilli Garlic Noodles, Garlic Rice",
         "850"
        ],
        [
         "35",
         "Tasty Bytes",
         "Kumaraswamy Layout",
         "Yes",
         "No",
         "3.1 Out Of 5",
         "Paratha, Pasta",
         "300"
        ],
        [
         "36",
         "Corner House Ice Cream",
         "Banashankari",
         "No",
         "No",
         "4.3 Out Of 5",
         "Hot Chocolate Fudge, Vanilla Ice Cream, Fudge Cake, Chocolate Mousse",
         "400"
        ],
        [
         "37",
         "Biryanis And More",
         "Jayanagar",
         "Yes",
         "No",
         "4.0 Out Of 5",
         "Prawn Biryani, Dragon Chicken, Chicken Boneless Biryani, Afghani Biryani, Mughlai Biryani, Paneer Tikka Biryani, Gongura Biryani",
         "750"
        ],
        [
         "38",
         "Roving Feast",
         "Banashankari",
         "No",
         "No",
         "4.0 Out Of 5",
         "Pasta, Momos, Rolls, Chicken Roll, Chilli Chicken, Paneer Roll, Spaghetti",
         "450"
        ],
        [
         "39",
         "FreshMenu",
         "Banashankari",
         "Yes",
         "No",
         "3.9 Out Of 5",
         "Salads, Sandwiches, Salad, Thai Rice, Pasta, Noodles, Pizza",
         "450"
        ],
        [
         "40",
         "Wamama",
         "Banashankari",
         "Yes",
         "Yes",
         "4.2 Out Of 5",
         "Sushi, Noodles, Wine, Khau Suey, Mocktails, Yakisoba, Spring Roll",
         "800"
        ],
        [
         "41",
         "Peppy Peppers",
         "Banashankari",
         "No",
         "No",
         "4.2 Out Of 5",
         "Pasta, Pepper Pizza, Paneer Pizza, Peppy Paneer, Nachos, Supreme Pizza, Manchow Soup",
         "800"
        ],
        [
         "42",
         "Goa 0 Km",
         "Kumaraswamy Layout",
         "Yes",
         "Yes",
         "3.6 Out Of 5",
         "Sea Food, Crab Meat, Crab Soup, Fish Curry, Chicken Cafreal, Butter Naan, Butter Chicken",
         "800"
        ],
        [
         "43",
         "1947",
         "Banashankari",
         "No",
         "Yes",
         "4.0 Out Of 5",
         "Salads, Panneer Butter Masala, Rabri, Gajar Ka Halwa, Manchow Soup, Aam Panna, Tomato Basil Soup",
         "850"
        ],
        [
         "44",
         "Kabab Magic",
         "Basavanagudi",
         "Yes",
         "No",
         "4.1 Out Of 5",
         "Grape Juice, Chicken Grill, Chicken Tikka Roll, Shawarma Roll, Chicken Shawarama, Biryani Combo, Rolls",
         "400"
        ],
        [
         "45",
         "Gustoes Beer House",
         "Banashankari",
         "No",
         "No",
         "4.1 Out Of 5",
         "Beer, Wedges, Pizza, Nachos, Salads, Papaya Salad, Buffalo Wings",
         "1,200"
        ],
        [
         "46",
         "The Biryani Cafe",
         "Banashankari",
         "No",
         "No",
         "4.1 Out Of 5",
         "Vegetable Biryani, Ginger Chicken, Chicken Biryani, Donne Biryani, Chicken Kebab, Egg Bhurji, Dum Biryani",
         "300"
        ],
        [
         "47",
         "Rolls On Wheels",
         "Banashankari",
         "No",
         "No",
         "3.6 Out Of 5",
         "Rolls, Momos, Fries, Veggie Roll, Chicken Kebab Roll, Paneer Roll, Cheese Roll",
         "300"
        ],
        [
         "48",
         "Sri Guru Kottureshwara Davangere Benne Dosa",
         "Basavanagudi",
         "Yes",
         "No",
         "4.1 Out Of 5",
         "Benne Dosa, Mirchi Bajji, Filter Coffee, Poha, Tea, Butter Dosa, Crispy Dosa",
         "150"
        ],
        [
         "49",
         "Upahar Sagar",
         "Banashankari",
         "No",
         "No",
         "3.8 Out Of 5",
         "Masala Dosa",
         "350"
        ]
       ],
       "shape": {
        "columns": 7,
        "rows": 8256
       }
      },
      "text/html": [
       "<div>\n",
       "<style scoped>\n",
       "    .dataframe tbody tr th:only-of-type {\n",
       "        vertical-align: middle;\n",
       "    }\n",
       "\n",
       "    .dataframe tbody tr th {\n",
       "        vertical-align: top;\n",
       "    }\n",
       "\n",
       "    .dataframe thead th {\n",
       "        text-align: right;\n",
       "    }\n",
       "</style>\n",
       "<table border=\"1\" class=\"dataframe\">\n",
       "  <thead>\n",
       "    <tr style=\"text-align: right;\">\n",
       "      <th></th>\n",
       "      <th>Name</th>\n",
       "      <th>Location</th>\n",
       "      <th>Online_order</th>\n",
       "      <th>Book_table</th>\n",
       "      <th>Rate</th>\n",
       "      <th>Dish_liked</th>\n",
       "      <th>Approx_cost(for two people)</th>\n",
       "    </tr>\n",
       "  </thead>\n",
       "  <tbody>\n",
       "    <tr>\n",
       "      <th>0</th>\n",
       "      <td>Jalsa</td>\n",
       "      <td>Banashankari</td>\n",
       "      <td>Yes</td>\n",
       "      <td>Yes</td>\n",
       "      <td>4.1 Out Of 5</td>\n",
       "      <td>Pasta, Lunch Buffet, Masala Papad, Paneer Laja...</td>\n",
       "      <td>800</td>\n",
       "    </tr>\n",
       "    <tr>\n",
       "      <th>1</th>\n",
       "      <td>Spice Elephant</td>\n",
       "      <td>Banashankari</td>\n",
       "      <td>Yes</td>\n",
       "      <td>No</td>\n",
       "      <td>4.1 Out Of 5</td>\n",
       "      <td>Momos, Lunch Buffet, Chocolate Nirvana, Thai G...</td>\n",
       "      <td>800</td>\n",
       "    </tr>\n",
       "    <tr>\n",
       "      <th>2</th>\n",
       "      <td>San Churro Cafe</td>\n",
       "      <td>Banashankari</td>\n",
       "      <td>Yes</td>\n",
       "      <td>No</td>\n",
       "      <td>3.8 Out Of 5</td>\n",
       "      <td>Churros, Cannelloni, Minestrone Soup, Hot Choc...</td>\n",
       "      <td>800</td>\n",
       "    </tr>\n",
       "    <tr>\n",
       "      <th>3</th>\n",
       "      <td>Addhuri Udupi Bhojana</td>\n",
       "      <td>Banashankari</td>\n",
       "      <td>No</td>\n",
       "      <td>No</td>\n",
       "      <td>3.7 Out Of 5</td>\n",
       "      <td>Masala Dosa</td>\n",
       "      <td>300</td>\n",
       "    </tr>\n",
       "    <tr>\n",
       "      <th>4</th>\n",
       "      <td>Grand Village</td>\n",
       "      <td>Basavanagudi</td>\n",
       "      <td>No</td>\n",
       "      <td>No</td>\n",
       "      <td>3.8 Out Of 5</td>\n",
       "      <td>Panipuri, Gol Gappe</td>\n",
       "      <td>600</td>\n",
       "    </tr>\n",
       "    <tr>\n",
       "      <th>...</th>\n",
       "      <td>...</td>\n",
       "      <td>...</td>\n",
       "      <td>...</td>\n",
       "      <td>...</td>\n",
       "      <td>...</td>\n",
       "      <td>...</td>\n",
       "      <td>...</td>\n",
       "    </tr>\n",
       "    <tr>\n",
       "      <th>8251</th>\n",
       "      <td>Chung Wah</td>\n",
       "      <td>ITPL Main Road, Whitefield</td>\n",
       "      <td>No</td>\n",
       "      <td>No</td>\n",
       "      <td>2.5 Out Of 5</td>\n",
       "      <td>Manchow Soup</td>\n",
       "      <td>800</td>\n",
       "    </tr>\n",
       "    <tr>\n",
       "      <th>8252</th>\n",
       "      <td>Breakfast House</td>\n",
       "      <td>ITPL Main Road, Whitefield</td>\n",
       "      <td>No</td>\n",
       "      <td>No</td>\n",
       "      <td>3.6 Out Of 5</td>\n",
       "      <td>Coffee, Vada, Mla Dosa</td>\n",
       "      <td>300</td>\n",
       "    </tr>\n",
       "    <tr>\n",
       "      <th>8253</th>\n",
       "      <td>Fujian Express</td>\n",
       "      <td>ITPL Main Road, Whitefield</td>\n",
       "      <td>Yes</td>\n",
       "      <td>No</td>\n",
       "      <td>3.8 Out Of 5</td>\n",
       "      <td>Noodles, Chicken Noodle, Momos, American Chops...</td>\n",
       "      <td>600</td>\n",
       "    </tr>\n",
       "    <tr>\n",
       "      <th>8254</th>\n",
       "      <td>Nook - Aloft Bengaluru Cessna Business Park</td>\n",
       "      <td>Bellandur</td>\n",
       "      <td>No</td>\n",
       "      <td>Yes</td>\n",
       "      <td>4.2 Out Of 5</td>\n",
       "      <td>Chicken Quesadilla, Naan, Breakfast Buffet, Ch...</td>\n",
       "      <td>1,800</td>\n",
       "    </tr>\n",
       "    <tr>\n",
       "      <th>8255</th>\n",
       "      <td>Bhagini</td>\n",
       "      <td>Whitefield</td>\n",
       "      <td>No</td>\n",
       "      <td>No</td>\n",
       "      <td>2.5 Out Of 5</td>\n",
       "      <td>Biryani, Andhra Meal</td>\n",
       "      <td>800</td>\n",
       "    </tr>\n",
       "  </tbody>\n",
       "</table>\n",
       "<p>8256 rows × 7 columns</p>\n",
       "</div>"
      ],
      "text/plain": [
       "                                             Name                    Location  \\\n",
       "0                                           Jalsa                Banashankari   \n",
       "1                                  Spice Elephant                Banashankari   \n",
       "2                                 San Churro Cafe                Banashankari   \n",
       "3                           Addhuri Udupi Bhojana                Banashankari   \n",
       "4                                   Grand Village                Basavanagudi   \n",
       "...                                           ...                         ...   \n",
       "8251                                    Chung Wah  ITPL Main Road, Whitefield   \n",
       "8252                              Breakfast House  ITPL Main Road, Whitefield   \n",
       "8253                               Fujian Express  ITPL Main Road, Whitefield   \n",
       "8254  Nook - Aloft Bengaluru Cessna Business Park                   Bellandur   \n",
       "8255                                      Bhagini                  Whitefield   \n",
       "\n",
       "     Online_order Book_table          Rate  \\\n",
       "0             Yes        Yes  4.1 Out Of 5   \n",
       "1             Yes         No  4.1 Out Of 5   \n",
       "2             Yes         No  3.8 Out Of 5   \n",
       "3              No         No  3.7 Out Of 5   \n",
       "4              No         No  3.8 Out Of 5   \n",
       "...           ...        ...           ...   \n",
       "8251           No         No  2.5 Out Of 5   \n",
       "8252           No         No  3.6 Out Of 5   \n",
       "8253          Yes         No  3.8 Out Of 5   \n",
       "8254           No        Yes  4.2 Out Of 5   \n",
       "8255           No         No  2.5 Out Of 5   \n",
       "\n",
       "                                             Dish_liked  \\\n",
       "0     Pasta, Lunch Buffet, Masala Papad, Paneer Laja...   \n",
       "1     Momos, Lunch Buffet, Chocolate Nirvana, Thai G...   \n",
       "2     Churros, Cannelloni, Minestrone Soup, Hot Choc...   \n",
       "3                                           Masala Dosa   \n",
       "4                                   Panipuri, Gol Gappe   \n",
       "...                                                 ...   \n",
       "8251                                       Manchow Soup   \n",
       "8252                             Coffee, Vada, Mla Dosa   \n",
       "8253  Noodles, Chicken Noodle, Momos, American Chops...   \n",
       "8254  Chicken Quesadilla, Naan, Breakfast Buffet, Ch...   \n",
       "8255                               Biryani, Andhra Meal   \n",
       "\n",
       "     Approx_cost(for two people)  \n",
       "0                            800  \n",
       "1                            800  \n",
       "2                            800  \n",
       "3                            300  \n",
       "4                            600  \n",
       "...                          ...  \n",
       "8251                         800  \n",
       "8252                         300  \n",
       "8253                         600  \n",
       "8254                       1,800  \n",
       "8255                         800  \n",
       "\n",
       "[8256 rows x 7 columns]"
      ]
     },
     "execution_count": 90,
     "metadata": {},
     "output_type": "execute_result"
    }
   ],
   "source": [
    "data"
   ]
  },
  {
   "cell_type": "markdown",
   "id": "a4b50189",
   "metadata": {},
   "source": [
    "Check for some more Transformations\n",
    "For machine learning model we need to convert some text or bollean values into numbers to train the model"
   ]
  },
  {
   "cell_type": "code",
   "execution_count": 91,
   "id": "da930da3",
   "metadata": {},
   "outputs": [
    {
     "data": {
      "application/vnd.microsoft.datawrangler.viewer.v0+json": {
       "columns": [
        {
         "name": "index",
         "rawType": "int64",
         "type": "integer"
        },
        {
         "name": "Online_order",
         "rawType": "object",
         "type": "string"
        }
       ],
       "ref": "00681a5a-eeeb-4cd8-9874-db420620f797",
       "rows": [
        [
         "0",
         "Yes"
        ],
        [
         "1",
         "Yes"
        ],
        [
         "2",
         "Yes"
        ],
        [
         "3",
         "No"
        ],
        [
         "4",
         "No"
        ],
        [
         "5",
         "Yes"
        ],
        [
         "6",
         "Yes"
        ],
        [
         "7",
         "Yes"
        ],
        [
         "8",
         "Yes"
        ],
        [
         "9",
         "Yes"
        ],
        [
         "10",
         "Yes"
        ],
        [
         "11",
         "Yes"
        ],
        [
         "12",
         "No"
        ],
        [
         "13",
         "Yes"
        ],
        [
         "14",
         "Yes"
        ],
        [
         "15",
         "Yes"
        ],
        [
         "16",
         "No"
        ],
        [
         "17",
         "Yes"
        ],
        [
         "18",
         "Yes"
        ],
        [
         "19",
         "Yes"
        ],
        [
         "20",
         "No"
        ],
        [
         "21",
         "Yes"
        ],
        [
         "22",
         "Yes"
        ],
        [
         "23",
         "Yes"
        ],
        [
         "24",
         "Yes"
        ],
        [
         "25",
         "Yes"
        ],
        [
         "26",
         "Yes"
        ],
        [
         "27",
         "Yes"
        ],
        [
         "28",
         "Yes"
        ],
        [
         "29",
         "Yes"
        ],
        [
         "30",
         "Yes"
        ],
        [
         "31",
         "No"
        ],
        [
         "32",
         "Yes"
        ],
        [
         "33",
         "Yes"
        ],
        [
         "34",
         "Yes"
        ],
        [
         "35",
         "Yes"
        ],
        [
         "36",
         "No"
        ],
        [
         "37",
         "Yes"
        ],
        [
         "38",
         "No"
        ],
        [
         "39",
         "Yes"
        ],
        [
         "40",
         "Yes"
        ],
        [
         "41",
         "No"
        ],
        [
         "42",
         "Yes"
        ],
        [
         "43",
         "No"
        ],
        [
         "44",
         "Yes"
        ],
        [
         "45",
         "No"
        ],
        [
         "46",
         "No"
        ],
        [
         "47",
         "No"
        ],
        [
         "48",
         "Yes"
        ],
        [
         "49",
         "No"
        ]
       ],
       "shape": {
        "columns": 1,
        "rows": 8256
       }
      },
      "text/plain": [
       "0       Yes\n",
       "1       Yes\n",
       "2       Yes\n",
       "3        No\n",
       "4        No\n",
       "       ... \n",
       "8251     No\n",
       "8252     No\n",
       "8253    Yes\n",
       "8254     No\n",
       "8255     No\n",
       "Name: Online_order, Length: 8256, dtype: object"
      ]
     },
     "execution_count": 91,
     "metadata": {},
     "output_type": "execute_result"
    }
   ],
   "source": [
    "data[\"Online_order\"]"
   ]
  },
  {
   "cell_type": "code",
   "execution_count": 93,
   "id": "b364bc47",
   "metadata": {},
   "outputs": [
    {
     "name": "stderr",
     "output_type": "stream",
     "text": [
      "C:\\Users\\ToxsandBRO\\AppData\\Local\\Temp\\ipykernel_18020\\639515353.py:1: SettingWithCopyWarning: \n",
      "A value is trying to be set on a copy of a slice from a DataFrame.\n",
      "Try using .loc[row_indexer,col_indexer] = value instead\n",
      "\n",
      "See the caveats in the documentation: https://pandas.pydata.org/pandas-docs/stable/user_guide/indexing.html#returning-a-view-versus-a-copy\n",
      "  data[\"Online_order\"] = data[\"Online_order\"].apply(lambda x: 1 if x == \"Yes\" else 0)\n"
     ]
    }
   ],
   "source": [
    "data[\"Online_order\"] = data[\"Online_order\"].apply(lambda x: 1 if x == \"Yes\" else 0)"
   ]
  },
  {
   "cell_type": "code",
   "execution_count": 94,
   "id": "ad7835ea",
   "metadata": {},
   "outputs": [
    {
     "data": {
      "application/vnd.microsoft.datawrangler.viewer.v0+json": {
       "columns": [
        {
         "name": "index",
         "rawType": "int64",
         "type": "integer"
        },
        {
         "name": "Name",
         "rawType": "object",
         "type": "string"
        },
        {
         "name": "Location",
         "rawType": "object",
         "type": "string"
        },
        {
         "name": "Online_order",
         "rawType": "int64",
         "type": "integer"
        },
        {
         "name": "Book_table",
         "rawType": "object",
         "type": "string"
        },
        {
         "name": "Rate",
         "rawType": "object",
         "type": "string"
        },
        {
         "name": "Dish_liked",
         "rawType": "object",
         "type": "string"
        },
        {
         "name": "Approx_cost(for two people)",
         "rawType": "object",
         "type": "string"
        }
       ],
       "ref": "d0ba9e68-4ed0-494c-9881-dda24026ea68",
       "rows": [
        [
         "0",
         "Jalsa",
         "Banashankari",
         "1",
         "Yes",
         "4.1 Out Of 5",
         "Pasta, Lunch Buffet, Masala Papad, Paneer Lajawab, Tomato Shorba, Dum Biryani, Sweet Corn Soup",
         "800"
        ],
        [
         "1",
         "Spice Elephant",
         "Banashankari",
         "1",
         "No",
         "4.1 Out Of 5",
         "Momos, Lunch Buffet, Chocolate Nirvana, Thai Green Curry, Paneer Tikka, Dum Biryani, Chicken Biryani",
         "800"
        ],
        [
         "2",
         "San Churro Cafe",
         "Banashankari",
         "1",
         "No",
         "3.8 Out Of 5",
         "Churros, Cannelloni, Minestrone Soup, Hot Chocolate, Pink Sauce Pasta, Salsa, Veg Supreme Pizza",
         "800"
        ],
        [
         "3",
         "Addhuri Udupi Bhojana",
         "Banashankari",
         "0",
         "No",
         "3.7 Out Of 5",
         "Masala Dosa",
         "300"
        ],
        [
         "4",
         "Grand Village",
         "Basavanagudi",
         "0",
         "No",
         "3.8 Out Of 5",
         "Panipuri, Gol Gappe",
         "600"
        ],
        [
         "5",
         "Timepass Dinner",
         "Basavanagudi",
         "1",
         "No",
         "3.8 Out Of 5",
         "Onion Rings, Pasta, Kadhai Paneer, Salads, Salad, Roti, Jeera Rice",
         "600"
        ],
        [
         "6",
         "Onesta",
         "Banashankari",
         "1",
         "Yes",
         "4.6 Out Of 5",
         "Farmhouse Pizza, Chocolate Banana, Virgin Mojito, Pasta, Paneer Tikka, Lime Soda, Prawn Pizza",
         "600"
        ],
        [
         "7",
         "Penthouse Cafe",
         "Banashankari",
         "1",
         "No",
         "4.0 Out Of 5",
         "Pizza, Mocktails, Coffee, Nachos, Salad, Pasta, Sandwiches",
         "700"
        ],
        [
         "8",
         "Smacznego",
         "Banashankari",
         "1",
         "No",
         "4.2 Out Of 5",
         "Waffles, Pasta, Coleslaw Sandwich, Choco Waffle, Tacos, Momos, Cheese Nachos",
         "550"
        ],
        [
         "9",
         "CafÃÂÃÂÃÂÃÂÃÂÃÂÃÂÃÂ© Down The Alley",
         "Banashankari",
         "1",
         "No",
         "4.1 Out Of 5",
         "Waffles, Pasta, Crispy Chicken, Honey Chilli Chicken, Sandwich, Coffee, Crepe",
         "500"
        ],
        [
         "10",
         "Cafe Shuffle",
         "Banashankari",
         "1",
         "Yes",
         "4.2 Out Of 5",
         "Mocktails, Peri Fries, Lasagne, Pizza, Chicken Bbq Wings, Virgin Mojito, Nachos",
         "600"
        ],
        [
         "11",
         "The Coffee Shack",
         "Banashankari",
         "1",
         "Yes",
         "4.2 Out Of 5",
         "Coffee, Spaghetti, Pancakes, Nachos, Pasta, Sandwich, Garlic Bread",
         "500"
        ],
        [
         "12",
         "Caf-Eleven",
         "Banashankari",
         "0",
         "No",
         "4.0 Out Of 5",
         "Sandwich, Omelette, Ice Tea, Virgin Mojito, Hot Chocolate, Pasta Arrabiata, Hazelnut Cappuccino",
         "450"
        ],
        [
         "13",
         "Cafe Vivacity",
         "Banashankari",
         "1",
         "No",
         "3.8 Out Of 5",
         "Garlic Bread, Burgers, Sandwiches, Pizza, Hot Chocolate Fudge, Waffles, Potato Wedges",
         "650"
        ],
        [
         "14",
         "Catch-up-ino",
         "Banashankari",
         "1",
         "No",
         "3.9 Out Of 5",
         "Momos, Mushroom Bruschettas, Jalapeno Cheeseballs, Pasta, Red Velvet Shake, Red Velvet Milkshake, Maggi",
         "800"
        ],
        [
         "15",
         "Kirthi's Biryani",
         "Banashankari",
         "1",
         "No",
         "3.8 Out Of 5",
         "Pasta, Gelato, Garlic Bread, Mojito, Nachos, Paneer Pizza, Mocktails",
         "700"
        ],
        [
         "16",
         "T3H Cafe",
         "Banashankari",
         "0",
         "No",
         "3.9 Out Of 5",
         "Cheese Maggi, Peri Peri Fries, Pasta Arrabiata",
         "300"
        ],
        [
         "17",
         "The Vintage Cafe",
         "Banashankari",
         "1",
         "No",
         "3.0 Out Of 5",
         "Burgers, Caramel Milkshake, Iced Coffee, Iced Tea",
         "400"
        ],
        [
         "18",
         "Woodee Pizza",
         "Banashankari",
         "1",
         "No",
         "3.7 Out Of 5",
         "Pizza, Garlic Bread",
         "500"
        ],
        [
         "19",
         "My Tea House",
         "Banashankari",
         "1",
         "No",
         "3.6 Out Of 5",
         "Pasta, Iced Tea",
         "600"
        ],
        [
         "20",
         "Srinathji's Cafe",
         "Basavanagudi",
         "0",
         "No",
         "3.8 Out Of 5",
         "Paratha, Sandwich, Chilli Idli, Noodles, Sandwiches, Lime Soda",
         "550"
        ],
        [
         "21",
         "Redberrys",
         "Basavanagudi",
         "1",
         "No",
         "4.0 Out Of 5",
         "Pizza, Fries, Anjeer Ice Cream, Sandwiches, Gelato, Burgers, Kesar Badam",
         "600"
        ],
        [
         "22",
         "Foodiction",
         "Banashankari",
         "1",
         "No",
         "2.8 Out Of 5",
         "Burgers, Lassi, Chicken Grill, Naan, Momos, Chicken Burger, Biryani",
         "500"
        ],
        [
         "23",
         "Ovenstory Pizza",
         "Banashankari",
         "1",
         "No",
         "3.9 Out Of 5",
         "Paneer Tikka, Garlic Bread, Thin Crust Pizza, Falafel, Veggie Pizza",
         "750"
        ],
        [
         "24",
         "Faasos",
         "Banashankari",
         "1",
         "No",
         "4.2 Out Of 5",
         "Rolls, Veggie Wrap, Chocolate Fantasy, Rice Bowls, Chicken Rice, Paneer Makhanwala, Chicken Tikka Wrap",
         "500"
        ],
        [
         "25",
         "Behrouz Biryani",
         "Banashankari",
         "1",
         "No",
         "3.9 Out Of 5",
         "Raita, Gulab Jamun, Paneer Biryani, Vegetable Biryani, Gosht Dum Biryani, Chicken Biryani, Murgh Biryani",
         "650"
        ],
        [
         "26",
         "Szechuan Dragon",
         "Banashankari",
         "1",
         "No",
         "4.2 Out Of 5",
         "Noodles, Momos, Veg Manchow Soup, Kung Pao Chicken, Chicken Lollipop, Chop Suey, Dragon Chicken",
         "600"
        ],
        [
         "27",
         "Empire Restaurant",
         "Jayanagar",
         "1",
         "No",
         "4.4 Out Of 5",
         "Chicken Tikka Masala, Mutton Keema Dosa, Mutton Biryani, Raan Biryani, Brain Fry, Chicken Grill, Ghee Rice",
         "750"
        ],
        [
         "28",
         "Chaatimes",
         "Basavanagudi",
         "1",
         "No",
         "3.8 Out Of 5",
         "Dabeli, Faluda, Masala Poori, Sandwiches, Tokri Chaat, Pav Bhaji, Dahipuri",
         "200"
        ],
        [
         "29",
         "McDonald's",
         "Banashankari",
         "1",
         "No",
         "3.9 Out Of 5",
         "Burgers, Fries, Hot Chocolate",
         "500"
        ],
        [
         "30",
         "Domino's Pizza",
         "Banashankari",
         "1",
         "No",
         "3.9 Out Of 5",
         "Pane Pizza, Lava Cake, Pasta, Stuffed Garlic Bread, Chocolava Cake, Tacos",
         "800"
        ],
        [
         "31",
         "Hotboxit",
         "Banashankari",
         "0",
         "No",
         "3.8 Out Of 5",
         "Prompt Service",
         "400"
        ],
        [
         "32",
         "Kitchen Garden",
         "Kumaraswamy Layout",
         "1",
         "No",
         "3.6 Out Of 5",
         "Biryani",
         "300"
        ],
        [
         "33",
         "Recipe",
         "Kumaraswamy Layout",
         "1",
         "No",
         "4.0 Out Of 5",
         "Butter Chicken, Noodles, Thali, Biryani",
         "450"
        ],
        [
         "34",
         "Beijing Bites",
         "Rajarajeshwari Nagar",
         "1",
         "No",
         "3.7 Out Of 5",
         "Momos, Dragon Chicken, Hakka Noodles, Chowmein, Chop Suey, Chilli Garlic Noodles, Garlic Rice",
         "850"
        ],
        [
         "35",
         "Tasty Bytes",
         "Kumaraswamy Layout",
         "1",
         "No",
         "3.1 Out Of 5",
         "Paratha, Pasta",
         "300"
        ],
        [
         "36",
         "Corner House Ice Cream",
         "Banashankari",
         "0",
         "No",
         "4.3 Out Of 5",
         "Hot Chocolate Fudge, Vanilla Ice Cream, Fudge Cake, Chocolate Mousse",
         "400"
        ],
        [
         "37",
         "Biryanis And More",
         "Jayanagar",
         "1",
         "No",
         "4.0 Out Of 5",
         "Prawn Biryani, Dragon Chicken, Chicken Boneless Biryani, Afghani Biryani, Mughlai Biryani, Paneer Tikka Biryani, Gongura Biryani",
         "750"
        ],
        [
         "38",
         "Roving Feast",
         "Banashankari",
         "0",
         "No",
         "4.0 Out Of 5",
         "Pasta, Momos, Rolls, Chicken Roll, Chilli Chicken, Paneer Roll, Spaghetti",
         "450"
        ],
        [
         "39",
         "FreshMenu",
         "Banashankari",
         "1",
         "No",
         "3.9 Out Of 5",
         "Salads, Sandwiches, Salad, Thai Rice, Pasta, Noodles, Pizza",
         "450"
        ],
        [
         "40",
         "Wamama",
         "Banashankari",
         "1",
         "Yes",
         "4.2 Out Of 5",
         "Sushi, Noodles, Wine, Khau Suey, Mocktails, Yakisoba, Spring Roll",
         "800"
        ],
        [
         "41",
         "Peppy Peppers",
         "Banashankari",
         "0",
         "No",
         "4.2 Out Of 5",
         "Pasta, Pepper Pizza, Paneer Pizza, Peppy Paneer, Nachos, Supreme Pizza, Manchow Soup",
         "800"
        ],
        [
         "42",
         "Goa 0 Km",
         "Kumaraswamy Layout",
         "1",
         "Yes",
         "3.6 Out Of 5",
         "Sea Food, Crab Meat, Crab Soup, Fish Curry, Chicken Cafreal, Butter Naan, Butter Chicken",
         "800"
        ],
        [
         "43",
         "1947",
         "Banashankari",
         "0",
         "Yes",
         "4.0 Out Of 5",
         "Salads, Panneer Butter Masala, Rabri, Gajar Ka Halwa, Manchow Soup, Aam Panna, Tomato Basil Soup",
         "850"
        ],
        [
         "44",
         "Kabab Magic",
         "Basavanagudi",
         "1",
         "No",
         "4.1 Out Of 5",
         "Grape Juice, Chicken Grill, Chicken Tikka Roll, Shawarma Roll, Chicken Shawarama, Biryani Combo, Rolls",
         "400"
        ],
        [
         "45",
         "Gustoes Beer House",
         "Banashankari",
         "0",
         "No",
         "4.1 Out Of 5",
         "Beer, Wedges, Pizza, Nachos, Salads, Papaya Salad, Buffalo Wings",
         "1,200"
        ],
        [
         "46",
         "The Biryani Cafe",
         "Banashankari",
         "0",
         "No",
         "4.1 Out Of 5",
         "Vegetable Biryani, Ginger Chicken, Chicken Biryani, Donne Biryani, Chicken Kebab, Egg Bhurji, Dum Biryani",
         "300"
        ],
        [
         "47",
         "Rolls On Wheels",
         "Banashankari",
         "0",
         "No",
         "3.6 Out Of 5",
         "Rolls, Momos, Fries, Veggie Roll, Chicken Kebab Roll, Paneer Roll, Cheese Roll",
         "300"
        ],
        [
         "48",
         "Sri Guru Kottureshwara Davangere Benne Dosa",
         "Basavanagudi",
         "1",
         "No",
         "4.1 Out Of 5",
         "Benne Dosa, Mirchi Bajji, Filter Coffee, Poha, Tea, Butter Dosa, Crispy Dosa",
         "150"
        ],
        [
         "49",
         "Upahar Sagar",
         "Banashankari",
         "0",
         "No",
         "3.8 Out Of 5",
         "Masala Dosa",
         "350"
        ]
       ],
       "shape": {
        "columns": 7,
        "rows": 8256
       }
      },
      "text/html": [
       "<div>\n",
       "<style scoped>\n",
       "    .dataframe tbody tr th:only-of-type {\n",
       "        vertical-align: middle;\n",
       "    }\n",
       "\n",
       "    .dataframe tbody tr th {\n",
       "        vertical-align: top;\n",
       "    }\n",
       "\n",
       "    .dataframe thead th {\n",
       "        text-align: right;\n",
       "    }\n",
       "</style>\n",
       "<table border=\"1\" class=\"dataframe\">\n",
       "  <thead>\n",
       "    <tr style=\"text-align: right;\">\n",
       "      <th></th>\n",
       "      <th>Name</th>\n",
       "      <th>Location</th>\n",
       "      <th>Online_order</th>\n",
       "      <th>Book_table</th>\n",
       "      <th>Rate</th>\n",
       "      <th>Dish_liked</th>\n",
       "      <th>Approx_cost(for two people)</th>\n",
       "    </tr>\n",
       "  </thead>\n",
       "  <tbody>\n",
       "    <tr>\n",
       "      <th>0</th>\n",
       "      <td>Jalsa</td>\n",
       "      <td>Banashankari</td>\n",
       "      <td>1</td>\n",
       "      <td>Yes</td>\n",
       "      <td>4.1 Out Of 5</td>\n",
       "      <td>Pasta, Lunch Buffet, Masala Papad, Paneer Laja...</td>\n",
       "      <td>800</td>\n",
       "    </tr>\n",
       "    <tr>\n",
       "      <th>1</th>\n",
       "      <td>Spice Elephant</td>\n",
       "      <td>Banashankari</td>\n",
       "      <td>1</td>\n",
       "      <td>No</td>\n",
       "      <td>4.1 Out Of 5</td>\n",
       "      <td>Momos, Lunch Buffet, Chocolate Nirvana, Thai G...</td>\n",
       "      <td>800</td>\n",
       "    </tr>\n",
       "    <tr>\n",
       "      <th>2</th>\n",
       "      <td>San Churro Cafe</td>\n",
       "      <td>Banashankari</td>\n",
       "      <td>1</td>\n",
       "      <td>No</td>\n",
       "      <td>3.8 Out Of 5</td>\n",
       "      <td>Churros, Cannelloni, Minestrone Soup, Hot Choc...</td>\n",
       "      <td>800</td>\n",
       "    </tr>\n",
       "    <tr>\n",
       "      <th>3</th>\n",
       "      <td>Addhuri Udupi Bhojana</td>\n",
       "      <td>Banashankari</td>\n",
       "      <td>0</td>\n",
       "      <td>No</td>\n",
       "      <td>3.7 Out Of 5</td>\n",
       "      <td>Masala Dosa</td>\n",
       "      <td>300</td>\n",
       "    </tr>\n",
       "    <tr>\n",
       "      <th>4</th>\n",
       "      <td>Grand Village</td>\n",
       "      <td>Basavanagudi</td>\n",
       "      <td>0</td>\n",
       "      <td>No</td>\n",
       "      <td>3.8 Out Of 5</td>\n",
       "      <td>Panipuri, Gol Gappe</td>\n",
       "      <td>600</td>\n",
       "    </tr>\n",
       "    <tr>\n",
       "      <th>...</th>\n",
       "      <td>...</td>\n",
       "      <td>...</td>\n",
       "      <td>...</td>\n",
       "      <td>...</td>\n",
       "      <td>...</td>\n",
       "      <td>...</td>\n",
       "      <td>...</td>\n",
       "    </tr>\n",
       "    <tr>\n",
       "      <th>8251</th>\n",
       "      <td>Chung Wah</td>\n",
       "      <td>ITPL Main Road, Whitefield</td>\n",
       "      <td>0</td>\n",
       "      <td>No</td>\n",
       "      <td>2.5 Out Of 5</td>\n",
       "      <td>Manchow Soup</td>\n",
       "      <td>800</td>\n",
       "    </tr>\n",
       "    <tr>\n",
       "      <th>8252</th>\n",
       "      <td>Breakfast House</td>\n",
       "      <td>ITPL Main Road, Whitefield</td>\n",
       "      <td>0</td>\n",
       "      <td>No</td>\n",
       "      <td>3.6 Out Of 5</td>\n",
       "      <td>Coffee, Vada, Mla Dosa</td>\n",
       "      <td>300</td>\n",
       "    </tr>\n",
       "    <tr>\n",
       "      <th>8253</th>\n",
       "      <td>Fujian Express</td>\n",
       "      <td>ITPL Main Road, Whitefield</td>\n",
       "      <td>1</td>\n",
       "      <td>No</td>\n",
       "      <td>3.8 Out Of 5</td>\n",
       "      <td>Noodles, Chicken Noodle, Momos, American Chops...</td>\n",
       "      <td>600</td>\n",
       "    </tr>\n",
       "    <tr>\n",
       "      <th>8254</th>\n",
       "      <td>Nook - Aloft Bengaluru Cessna Business Park</td>\n",
       "      <td>Bellandur</td>\n",
       "      <td>0</td>\n",
       "      <td>Yes</td>\n",
       "      <td>4.2 Out Of 5</td>\n",
       "      <td>Chicken Quesadilla, Naan, Breakfast Buffet, Ch...</td>\n",
       "      <td>1,800</td>\n",
       "    </tr>\n",
       "    <tr>\n",
       "      <th>8255</th>\n",
       "      <td>Bhagini</td>\n",
       "      <td>Whitefield</td>\n",
       "      <td>0</td>\n",
       "      <td>No</td>\n",
       "      <td>2.5 Out Of 5</td>\n",
       "      <td>Biryani, Andhra Meal</td>\n",
       "      <td>800</td>\n",
       "    </tr>\n",
       "  </tbody>\n",
       "</table>\n",
       "<p>8256 rows × 7 columns</p>\n",
       "</div>"
      ],
      "text/plain": [
       "                                             Name                    Location  \\\n",
       "0                                           Jalsa                Banashankari   \n",
       "1                                  Spice Elephant                Banashankari   \n",
       "2                                 San Churro Cafe                Banashankari   \n",
       "3                           Addhuri Udupi Bhojana                Banashankari   \n",
       "4                                   Grand Village                Basavanagudi   \n",
       "...                                           ...                         ...   \n",
       "8251                                    Chung Wah  ITPL Main Road, Whitefield   \n",
       "8252                              Breakfast House  ITPL Main Road, Whitefield   \n",
       "8253                               Fujian Express  ITPL Main Road, Whitefield   \n",
       "8254  Nook - Aloft Bengaluru Cessna Business Park                   Bellandur   \n",
       "8255                                      Bhagini                  Whitefield   \n",
       "\n",
       "      Online_order Book_table          Rate  \\\n",
       "0                1        Yes  4.1 Out Of 5   \n",
       "1                1         No  4.1 Out Of 5   \n",
       "2                1         No  3.8 Out Of 5   \n",
       "3                0         No  3.7 Out Of 5   \n",
       "4                0         No  3.8 Out Of 5   \n",
       "...            ...        ...           ...   \n",
       "8251             0         No  2.5 Out Of 5   \n",
       "8252             0         No  3.6 Out Of 5   \n",
       "8253             1         No  3.8 Out Of 5   \n",
       "8254             0        Yes  4.2 Out Of 5   \n",
       "8255             0         No  2.5 Out Of 5   \n",
       "\n",
       "                                             Dish_liked  \\\n",
       "0     Pasta, Lunch Buffet, Masala Papad, Paneer Laja...   \n",
       "1     Momos, Lunch Buffet, Chocolate Nirvana, Thai G...   \n",
       "2     Churros, Cannelloni, Minestrone Soup, Hot Choc...   \n",
       "3                                           Masala Dosa   \n",
       "4                                   Panipuri, Gol Gappe   \n",
       "...                                                 ...   \n",
       "8251                                       Manchow Soup   \n",
       "8252                             Coffee, Vada, Mla Dosa   \n",
       "8253  Noodles, Chicken Noodle, Momos, American Chops...   \n",
       "8254  Chicken Quesadilla, Naan, Breakfast Buffet, Ch...   \n",
       "8255                               Biryani, Andhra Meal   \n",
       "\n",
       "     Approx_cost(for two people)  \n",
       "0                            800  \n",
       "1                            800  \n",
       "2                            800  \n",
       "3                            300  \n",
       "4                            600  \n",
       "...                          ...  \n",
       "8251                         800  \n",
       "8252                         300  \n",
       "8253                         600  \n",
       "8254                       1,800  \n",
       "8255                         800  \n",
       "\n",
       "[8256 rows x 7 columns]"
      ]
     },
     "execution_count": 94,
     "metadata": {},
     "output_type": "execute_result"
    }
   ],
   "source": [
    "data"
   ]
  },
  {
   "cell_type": "markdown",
   "id": "e3bc8202",
   "metadata": {},
   "source": [
    "Export the Cleaned Data"
   ]
  },
  {
   "cell_type": "code",
   "execution_count": null,
   "id": "54b3668b",
   "metadata": {},
   "outputs": [],
   "source": [
    "data.to_csv(\"Cleaned zomato data.csv\", index= False)"
   ]
  },
  {
   "cell_type": "code",
   "execution_count": 96,
   "id": "5b556e8e",
   "metadata": {},
   "outputs": [
    {
     "data": {
      "application/vnd.microsoft.datawrangler.viewer.v0+json": {
       "columns": [
        {
         "name": "index",
         "rawType": "int64",
         "type": "integer"
        },
        {
         "name": "Name",
         "rawType": "object",
         "type": "string"
        },
        {
         "name": "Location",
         "rawType": "object",
         "type": "string"
        },
        {
         "name": "Online_order",
         "rawType": "int64",
         "type": "integer"
        },
        {
         "name": "Book_table",
         "rawType": "object",
         "type": "string"
        },
        {
         "name": "Rate",
         "rawType": "object",
         "type": "string"
        },
        {
         "name": "Dish_liked",
         "rawType": "object",
         "type": "string"
        },
        {
         "name": "Approx_cost(for two people)",
         "rawType": "object",
         "type": "string"
        }
       ],
       "ref": "385a25a7-8abe-4a10-b12a-61754b56c57d",
       "rows": [
        [
         "0",
         "Jalsa",
         "Banashankari",
         "1",
         "Yes",
         "4.1 Out Of 5",
         "Pasta, Lunch Buffet, Masala Papad, Paneer Lajawab, Tomato Shorba, Dum Biryani, Sweet Corn Soup",
         "800"
        ],
        [
         "1",
         "Spice Elephant",
         "Banashankari",
         "1",
         "No",
         "4.1 Out Of 5",
         "Momos, Lunch Buffet, Chocolate Nirvana, Thai Green Curry, Paneer Tikka, Dum Biryani, Chicken Biryani",
         "800"
        ],
        [
         "2",
         "San Churro Cafe",
         "Banashankari",
         "1",
         "No",
         "3.8 Out Of 5",
         "Churros, Cannelloni, Minestrone Soup, Hot Chocolate, Pink Sauce Pasta, Salsa, Veg Supreme Pizza",
         "800"
        ],
        [
         "3",
         "Addhuri Udupi Bhojana",
         "Banashankari",
         "0",
         "No",
         "3.7 Out Of 5",
         "Masala Dosa",
         "300"
        ],
        [
         "4",
         "Grand Village",
         "Basavanagudi",
         "0",
         "No",
         "3.8 Out Of 5",
         "Panipuri, Gol Gappe",
         "600"
        ],
        [
         "5",
         "Timepass Dinner",
         "Basavanagudi",
         "1",
         "No",
         "3.8 Out Of 5",
         "Onion Rings, Pasta, Kadhai Paneer, Salads, Salad, Roti, Jeera Rice",
         "600"
        ],
        [
         "6",
         "Onesta",
         "Banashankari",
         "1",
         "Yes",
         "4.6 Out Of 5",
         "Farmhouse Pizza, Chocolate Banana, Virgin Mojito, Pasta, Paneer Tikka, Lime Soda, Prawn Pizza",
         "600"
        ],
        [
         "7",
         "Penthouse Cafe",
         "Banashankari",
         "1",
         "No",
         "4.0 Out Of 5",
         "Pizza, Mocktails, Coffee, Nachos, Salad, Pasta, Sandwiches",
         "700"
        ],
        [
         "8",
         "Smacznego",
         "Banashankari",
         "1",
         "No",
         "4.2 Out Of 5",
         "Waffles, Pasta, Coleslaw Sandwich, Choco Waffle, Tacos, Momos, Cheese Nachos",
         "550"
        ],
        [
         "9",
         "CafÃÂÃÂÃÂÃÂÃÂÃÂÃÂÃÂ© Down The Alley",
         "Banashankari",
         "1",
         "No",
         "4.1 Out Of 5",
         "Waffles, Pasta, Crispy Chicken, Honey Chilli Chicken, Sandwich, Coffee, Crepe",
         "500"
        ],
        [
         "10",
         "Cafe Shuffle",
         "Banashankari",
         "1",
         "Yes",
         "4.2 Out Of 5",
         "Mocktails, Peri Fries, Lasagne, Pizza, Chicken Bbq Wings, Virgin Mojito, Nachos",
         "600"
        ],
        [
         "11",
         "The Coffee Shack",
         "Banashankari",
         "1",
         "Yes",
         "4.2 Out Of 5",
         "Coffee, Spaghetti, Pancakes, Nachos, Pasta, Sandwich, Garlic Bread",
         "500"
        ],
        [
         "12",
         "Caf-Eleven",
         "Banashankari",
         "0",
         "No",
         "4.0 Out Of 5",
         "Sandwich, Omelette, Ice Tea, Virgin Mojito, Hot Chocolate, Pasta Arrabiata, Hazelnut Cappuccino",
         "450"
        ],
        [
         "13",
         "Cafe Vivacity",
         "Banashankari",
         "1",
         "No",
         "3.8 Out Of 5",
         "Garlic Bread, Burgers, Sandwiches, Pizza, Hot Chocolate Fudge, Waffles, Potato Wedges",
         "650"
        ],
        [
         "14",
         "Catch-up-ino",
         "Banashankari",
         "1",
         "No",
         "3.9 Out Of 5",
         "Momos, Mushroom Bruschettas, Jalapeno Cheeseballs, Pasta, Red Velvet Shake, Red Velvet Milkshake, Maggi",
         "800"
        ],
        [
         "15",
         "Kirthi's Biryani",
         "Banashankari",
         "1",
         "No",
         "3.8 Out Of 5",
         "Pasta, Gelato, Garlic Bread, Mojito, Nachos, Paneer Pizza, Mocktails",
         "700"
        ],
        [
         "16",
         "T3H Cafe",
         "Banashankari",
         "0",
         "No",
         "3.9 Out Of 5",
         "Cheese Maggi, Peri Peri Fries, Pasta Arrabiata",
         "300"
        ],
        [
         "17",
         "The Vintage Cafe",
         "Banashankari",
         "1",
         "No",
         "3.0 Out Of 5",
         "Burgers, Caramel Milkshake, Iced Coffee, Iced Tea",
         "400"
        ],
        [
         "18",
         "Woodee Pizza",
         "Banashankari",
         "1",
         "No",
         "3.7 Out Of 5",
         "Pizza, Garlic Bread",
         "500"
        ],
        [
         "19",
         "My Tea House",
         "Banashankari",
         "1",
         "No",
         "3.6 Out Of 5",
         "Pasta, Iced Tea",
         "600"
        ],
        [
         "20",
         "Srinathji's Cafe",
         "Basavanagudi",
         "0",
         "No",
         "3.8 Out Of 5",
         "Paratha, Sandwich, Chilli Idli, Noodles, Sandwiches, Lime Soda",
         "550"
        ],
        [
         "21",
         "Redberrys",
         "Basavanagudi",
         "1",
         "No",
         "4.0 Out Of 5",
         "Pizza, Fries, Anjeer Ice Cream, Sandwiches, Gelato, Burgers, Kesar Badam",
         "600"
        ],
        [
         "22",
         "Foodiction",
         "Banashankari",
         "1",
         "No",
         "2.8 Out Of 5",
         "Burgers, Lassi, Chicken Grill, Naan, Momos, Chicken Burger, Biryani",
         "500"
        ],
        [
         "23",
         "Ovenstory Pizza",
         "Banashankari",
         "1",
         "No",
         "3.9 Out Of 5",
         "Paneer Tikka, Garlic Bread, Thin Crust Pizza, Falafel, Veggie Pizza",
         "750"
        ],
        [
         "24",
         "Faasos",
         "Banashankari",
         "1",
         "No",
         "4.2 Out Of 5",
         "Rolls, Veggie Wrap, Chocolate Fantasy, Rice Bowls, Chicken Rice, Paneer Makhanwala, Chicken Tikka Wrap",
         "500"
        ],
        [
         "25",
         "Behrouz Biryani",
         "Banashankari",
         "1",
         "No",
         "3.9 Out Of 5",
         "Raita, Gulab Jamun, Paneer Biryani, Vegetable Biryani, Gosht Dum Biryani, Chicken Biryani, Murgh Biryani",
         "650"
        ],
        [
         "26",
         "Szechuan Dragon",
         "Banashankari",
         "1",
         "No",
         "4.2 Out Of 5",
         "Noodles, Momos, Veg Manchow Soup, Kung Pao Chicken, Chicken Lollipop, Chop Suey, Dragon Chicken",
         "600"
        ],
        [
         "27",
         "Empire Restaurant",
         "Jayanagar",
         "1",
         "No",
         "4.4 Out Of 5",
         "Chicken Tikka Masala, Mutton Keema Dosa, Mutton Biryani, Raan Biryani, Brain Fry, Chicken Grill, Ghee Rice",
         "750"
        ],
        [
         "28",
         "Chaatimes",
         "Basavanagudi",
         "1",
         "No",
         "3.8 Out Of 5",
         "Dabeli, Faluda, Masala Poori, Sandwiches, Tokri Chaat, Pav Bhaji, Dahipuri",
         "200"
        ],
        [
         "29",
         "McDonald's",
         "Banashankari",
         "1",
         "No",
         "3.9 Out Of 5",
         "Burgers, Fries, Hot Chocolate",
         "500"
        ],
        [
         "30",
         "Domino's Pizza",
         "Banashankari",
         "1",
         "No",
         "3.9 Out Of 5",
         "Pane Pizza, Lava Cake, Pasta, Stuffed Garlic Bread, Chocolava Cake, Tacos",
         "800"
        ],
        [
         "31",
         "Hotboxit",
         "Banashankari",
         "0",
         "No",
         "3.8 Out Of 5",
         "Prompt Service",
         "400"
        ],
        [
         "32",
         "Kitchen Garden",
         "Kumaraswamy Layout",
         "1",
         "No",
         "3.6 Out Of 5",
         "Biryani",
         "300"
        ],
        [
         "33",
         "Recipe",
         "Kumaraswamy Layout",
         "1",
         "No",
         "4.0 Out Of 5",
         "Butter Chicken, Noodles, Thali, Biryani",
         "450"
        ],
        [
         "34",
         "Beijing Bites",
         "Rajarajeshwari Nagar",
         "1",
         "No",
         "3.7 Out Of 5",
         "Momos, Dragon Chicken, Hakka Noodles, Chowmein, Chop Suey, Chilli Garlic Noodles, Garlic Rice",
         "850"
        ],
        [
         "35",
         "Tasty Bytes",
         "Kumaraswamy Layout",
         "1",
         "No",
         "3.1 Out Of 5",
         "Paratha, Pasta",
         "300"
        ],
        [
         "36",
         "Corner House Ice Cream",
         "Banashankari",
         "0",
         "No",
         "4.3 Out Of 5",
         "Hot Chocolate Fudge, Vanilla Ice Cream, Fudge Cake, Chocolate Mousse",
         "400"
        ],
        [
         "37",
         "Biryanis And More",
         "Jayanagar",
         "1",
         "No",
         "4.0 Out Of 5",
         "Prawn Biryani, Dragon Chicken, Chicken Boneless Biryani, Afghani Biryani, Mughlai Biryani, Paneer Tikka Biryani, Gongura Biryani",
         "750"
        ],
        [
         "38",
         "Roving Feast",
         "Banashankari",
         "0",
         "No",
         "4.0 Out Of 5",
         "Pasta, Momos, Rolls, Chicken Roll, Chilli Chicken, Paneer Roll, Spaghetti",
         "450"
        ],
        [
         "39",
         "FreshMenu",
         "Banashankari",
         "1",
         "No",
         "3.9 Out Of 5",
         "Salads, Sandwiches, Salad, Thai Rice, Pasta, Noodles, Pizza",
         "450"
        ],
        [
         "40",
         "Wamama",
         "Banashankari",
         "1",
         "Yes",
         "4.2 Out Of 5",
         "Sushi, Noodles, Wine, Khau Suey, Mocktails, Yakisoba, Spring Roll",
         "800"
        ],
        [
         "41",
         "Peppy Peppers",
         "Banashankari",
         "0",
         "No",
         "4.2 Out Of 5",
         "Pasta, Pepper Pizza, Paneer Pizza, Peppy Paneer, Nachos, Supreme Pizza, Manchow Soup",
         "800"
        ],
        [
         "42",
         "Goa 0 Km",
         "Kumaraswamy Layout",
         "1",
         "Yes",
         "3.6 Out Of 5",
         "Sea Food, Crab Meat, Crab Soup, Fish Curry, Chicken Cafreal, Butter Naan, Butter Chicken",
         "800"
        ],
        [
         "43",
         "1947",
         "Banashankari",
         "0",
         "Yes",
         "4.0 Out Of 5",
         "Salads, Panneer Butter Masala, Rabri, Gajar Ka Halwa, Manchow Soup, Aam Panna, Tomato Basil Soup",
         "850"
        ],
        [
         "44",
         "Kabab Magic",
         "Basavanagudi",
         "1",
         "No",
         "4.1 Out Of 5",
         "Grape Juice, Chicken Grill, Chicken Tikka Roll, Shawarma Roll, Chicken Shawarama, Biryani Combo, Rolls",
         "400"
        ],
        [
         "45",
         "Gustoes Beer House",
         "Banashankari",
         "0",
         "No",
         "4.1 Out Of 5",
         "Beer, Wedges, Pizza, Nachos, Salads, Papaya Salad, Buffalo Wings",
         "1,200"
        ],
        [
         "46",
         "The Biryani Cafe",
         "Banashankari",
         "0",
         "No",
         "4.1 Out Of 5",
         "Vegetable Biryani, Ginger Chicken, Chicken Biryani, Donne Biryani, Chicken Kebab, Egg Bhurji, Dum Biryani",
         "300"
        ],
        [
         "47",
         "Rolls On Wheels",
         "Banashankari",
         "0",
         "No",
         "3.6 Out Of 5",
         "Rolls, Momos, Fries, Veggie Roll, Chicken Kebab Roll, Paneer Roll, Cheese Roll",
         "300"
        ],
        [
         "48",
         "Sri Guru Kottureshwara Davangere Benne Dosa",
         "Basavanagudi",
         "1",
         "No",
         "4.1 Out Of 5",
         "Benne Dosa, Mirchi Bajji, Filter Coffee, Poha, Tea, Butter Dosa, Crispy Dosa",
         "150"
        ],
        [
         "49",
         "Upahar Sagar",
         "Banashankari",
         "0",
         "No",
         "3.8 Out Of 5",
         "Masala Dosa",
         "350"
        ]
       ],
       "shape": {
        "columns": 7,
        "rows": 8256
       }
      },
      "text/html": [
       "<div>\n",
       "<style scoped>\n",
       "    .dataframe tbody tr th:only-of-type {\n",
       "        vertical-align: middle;\n",
       "    }\n",
       "\n",
       "    .dataframe tbody tr th {\n",
       "        vertical-align: top;\n",
       "    }\n",
       "\n",
       "    .dataframe thead th {\n",
       "        text-align: right;\n",
       "    }\n",
       "</style>\n",
       "<table border=\"1\" class=\"dataframe\">\n",
       "  <thead>\n",
       "    <tr style=\"text-align: right;\">\n",
       "      <th></th>\n",
       "      <th>Name</th>\n",
       "      <th>Location</th>\n",
       "      <th>Online_order</th>\n",
       "      <th>Book_table</th>\n",
       "      <th>Rate</th>\n",
       "      <th>Dish_liked</th>\n",
       "      <th>Approx_cost(for two people)</th>\n",
       "    </tr>\n",
       "  </thead>\n",
       "  <tbody>\n",
       "    <tr>\n",
       "      <th>0</th>\n",
       "      <td>Jalsa</td>\n",
       "      <td>Banashankari</td>\n",
       "      <td>1</td>\n",
       "      <td>Yes</td>\n",
       "      <td>4.1 Out Of 5</td>\n",
       "      <td>Pasta, Lunch Buffet, Masala Papad, Paneer Laja...</td>\n",
       "      <td>800</td>\n",
       "    </tr>\n",
       "    <tr>\n",
       "      <th>1</th>\n",
       "      <td>Spice Elephant</td>\n",
       "      <td>Banashankari</td>\n",
       "      <td>1</td>\n",
       "      <td>No</td>\n",
       "      <td>4.1 Out Of 5</td>\n",
       "      <td>Momos, Lunch Buffet, Chocolate Nirvana, Thai G...</td>\n",
       "      <td>800</td>\n",
       "    </tr>\n",
       "    <tr>\n",
       "      <th>2</th>\n",
       "      <td>San Churro Cafe</td>\n",
       "      <td>Banashankari</td>\n",
       "      <td>1</td>\n",
       "      <td>No</td>\n",
       "      <td>3.8 Out Of 5</td>\n",
       "      <td>Churros, Cannelloni, Minestrone Soup, Hot Choc...</td>\n",
       "      <td>800</td>\n",
       "    </tr>\n",
       "    <tr>\n",
       "      <th>3</th>\n",
       "      <td>Addhuri Udupi Bhojana</td>\n",
       "      <td>Banashankari</td>\n",
       "      <td>0</td>\n",
       "      <td>No</td>\n",
       "      <td>3.7 Out Of 5</td>\n",
       "      <td>Masala Dosa</td>\n",
       "      <td>300</td>\n",
       "    </tr>\n",
       "    <tr>\n",
       "      <th>4</th>\n",
       "      <td>Grand Village</td>\n",
       "      <td>Basavanagudi</td>\n",
       "      <td>0</td>\n",
       "      <td>No</td>\n",
       "      <td>3.8 Out Of 5</td>\n",
       "      <td>Panipuri, Gol Gappe</td>\n",
       "      <td>600</td>\n",
       "    </tr>\n",
       "    <tr>\n",
       "      <th>...</th>\n",
       "      <td>...</td>\n",
       "      <td>...</td>\n",
       "      <td>...</td>\n",
       "      <td>...</td>\n",
       "      <td>...</td>\n",
       "      <td>...</td>\n",
       "      <td>...</td>\n",
       "    </tr>\n",
       "    <tr>\n",
       "      <th>8251</th>\n",
       "      <td>Chung Wah</td>\n",
       "      <td>ITPL Main Road, Whitefield</td>\n",
       "      <td>0</td>\n",
       "      <td>No</td>\n",
       "      <td>2.5 Out Of 5</td>\n",
       "      <td>Manchow Soup</td>\n",
       "      <td>800</td>\n",
       "    </tr>\n",
       "    <tr>\n",
       "      <th>8252</th>\n",
       "      <td>Breakfast House</td>\n",
       "      <td>ITPL Main Road, Whitefield</td>\n",
       "      <td>0</td>\n",
       "      <td>No</td>\n",
       "      <td>3.6 Out Of 5</td>\n",
       "      <td>Coffee, Vada, Mla Dosa</td>\n",
       "      <td>300</td>\n",
       "    </tr>\n",
       "    <tr>\n",
       "      <th>8253</th>\n",
       "      <td>Fujian Express</td>\n",
       "      <td>ITPL Main Road, Whitefield</td>\n",
       "      <td>1</td>\n",
       "      <td>No</td>\n",
       "      <td>3.8 Out Of 5</td>\n",
       "      <td>Noodles, Chicken Noodle, Momos, American Chops...</td>\n",
       "      <td>600</td>\n",
       "    </tr>\n",
       "    <tr>\n",
       "      <th>8254</th>\n",
       "      <td>Nook - Aloft Bengaluru Cessna Business Park</td>\n",
       "      <td>Bellandur</td>\n",
       "      <td>0</td>\n",
       "      <td>Yes</td>\n",
       "      <td>4.2 Out Of 5</td>\n",
       "      <td>Chicken Quesadilla, Naan, Breakfast Buffet, Ch...</td>\n",
       "      <td>1,800</td>\n",
       "    </tr>\n",
       "    <tr>\n",
       "      <th>8255</th>\n",
       "      <td>Bhagini</td>\n",
       "      <td>Whitefield</td>\n",
       "      <td>0</td>\n",
       "      <td>No</td>\n",
       "      <td>2.5 Out Of 5</td>\n",
       "      <td>Biryani, Andhra Meal</td>\n",
       "      <td>800</td>\n",
       "    </tr>\n",
       "  </tbody>\n",
       "</table>\n",
       "<p>8256 rows × 7 columns</p>\n",
       "</div>"
      ],
      "text/plain": [
       "                                             Name                    Location  \\\n",
       "0                                           Jalsa                Banashankari   \n",
       "1                                  Spice Elephant                Banashankari   \n",
       "2                                 San Churro Cafe                Banashankari   \n",
       "3                           Addhuri Udupi Bhojana                Banashankari   \n",
       "4                                   Grand Village                Basavanagudi   \n",
       "...                                           ...                         ...   \n",
       "8251                                    Chung Wah  ITPL Main Road, Whitefield   \n",
       "8252                              Breakfast House  ITPL Main Road, Whitefield   \n",
       "8253                               Fujian Express  ITPL Main Road, Whitefield   \n",
       "8254  Nook - Aloft Bengaluru Cessna Business Park                   Bellandur   \n",
       "8255                                      Bhagini                  Whitefield   \n",
       "\n",
       "      Online_order Book_table          Rate  \\\n",
       "0                1        Yes  4.1 Out Of 5   \n",
       "1                1         No  4.1 Out Of 5   \n",
       "2                1         No  3.8 Out Of 5   \n",
       "3                0         No  3.7 Out Of 5   \n",
       "4                0         No  3.8 Out Of 5   \n",
       "...            ...        ...           ...   \n",
       "8251             0         No  2.5 Out Of 5   \n",
       "8252             0         No  3.6 Out Of 5   \n",
       "8253             1         No  3.8 Out Of 5   \n",
       "8254             0        Yes  4.2 Out Of 5   \n",
       "8255             0         No  2.5 Out Of 5   \n",
       "\n",
       "                                             Dish_liked  \\\n",
       "0     Pasta, Lunch Buffet, Masala Papad, Paneer Laja...   \n",
       "1     Momos, Lunch Buffet, Chocolate Nirvana, Thai G...   \n",
       "2     Churros, Cannelloni, Minestrone Soup, Hot Choc...   \n",
       "3                                           Masala Dosa   \n",
       "4                                   Panipuri, Gol Gappe   \n",
       "...                                                 ...   \n",
       "8251                                       Manchow Soup   \n",
       "8252                             Coffee, Vada, Mla Dosa   \n",
       "8253  Noodles, Chicken Noodle, Momos, American Chops...   \n",
       "8254  Chicken Quesadilla, Naan, Breakfast Buffet, Ch...   \n",
       "8255                               Biryani, Andhra Meal   \n",
       "\n",
       "     Approx_cost(for two people)  \n",
       "0                            800  \n",
       "1                            800  \n",
       "2                            800  \n",
       "3                            300  \n",
       "4                            600  \n",
       "...                          ...  \n",
       "8251                         800  \n",
       "8252                         300  \n",
       "8253                         600  \n",
       "8254                       1,800  \n",
       "8255                         800  \n",
       "\n",
       "[8256 rows x 7 columns]"
      ]
     },
     "execution_count": 96,
     "metadata": {},
     "output_type": "execute_result"
    }
   ],
   "source": [
    "pd.read_csv(\"Cleaned zomato data.csv\")"
   ]
  }
 ],
 "metadata": {
  "kernelspec": {
   "display_name": "Python 3",
   "language": "python",
   "name": "python3"
  },
  "language_info": {
   "codemirror_mode": {
    "name": "ipython",
    "version": 3
   },
   "file_extension": ".py",
   "mimetype": "text/x-python",
   "name": "python",
   "nbconvert_exporter": "python",
   "pygments_lexer": "ipython3",
   "version": "3.13.5"
  }
 },
 "nbformat": 4,
 "nbformat_minor": 5
}
